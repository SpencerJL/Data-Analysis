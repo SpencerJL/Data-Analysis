{
 "cells": [
  {
   "cell_type": "code",
   "execution_count": 1,
   "metadata": {},
   "outputs": [
    {
     "name": "stdout",
     "output_type": "stream",
     "text": [
      "  key  data1\n",
      "0   b      0\n",
      "1   b      1\n",
      "2   a      2\n",
      "3   c      3\n",
      "4   a      4\n",
      "5   a      5\n",
      "6   b      6\n",
      "  key  data2\n",
      "0   a      0\n",
      "1   b      1\n",
      "2   d      2\n"
     ]
    },
    {
     "data": {
      "text/html": [
       "<div>\n",
       "<style scoped>\n",
       "    .dataframe tbody tr th:only-of-type {\n",
       "        vertical-align: middle;\n",
       "    }\n",
       "\n",
       "    .dataframe tbody tr th {\n",
       "        vertical-align: top;\n",
       "    }\n",
       "\n",
       "    .dataframe thead th {\n",
       "        text-align: right;\n",
       "    }\n",
       "</style>\n",
       "<table border=\"1\" class=\"dataframe\">\n",
       "  <thead>\n",
       "    <tr style=\"text-align: right;\">\n",
       "      <th></th>\n",
       "      <th>key</th>\n",
       "      <th>data1</th>\n",
       "      <th>data2</th>\n",
       "    </tr>\n",
       "  </thead>\n",
       "  <tbody>\n",
       "    <tr>\n",
       "      <th>0</th>\n",
       "      <td>b</td>\n",
       "      <td>0</td>\n",
       "      <td>1</td>\n",
       "    </tr>\n",
       "    <tr>\n",
       "      <th>1</th>\n",
       "      <td>b</td>\n",
       "      <td>1</td>\n",
       "      <td>1</td>\n",
       "    </tr>\n",
       "    <tr>\n",
       "      <th>2</th>\n",
       "      <td>b</td>\n",
       "      <td>6</td>\n",
       "      <td>1</td>\n",
       "    </tr>\n",
       "    <tr>\n",
       "      <th>3</th>\n",
       "      <td>a</td>\n",
       "      <td>2</td>\n",
       "      <td>0</td>\n",
       "    </tr>\n",
       "    <tr>\n",
       "      <th>4</th>\n",
       "      <td>a</td>\n",
       "      <td>4</td>\n",
       "      <td>0</td>\n",
       "    </tr>\n",
       "    <tr>\n",
       "      <th>5</th>\n",
       "      <td>a</td>\n",
       "      <td>5</td>\n",
       "      <td>0</td>\n",
       "    </tr>\n",
       "  </tbody>\n",
       "</table>\n",
       "</div>"
      ],
      "text/plain": [
       "  key  data1  data2\n",
       "0   b      0      1\n",
       "1   b      1      1\n",
       "2   b      6      1\n",
       "3   a      2      0\n",
       "4   a      4      0\n",
       "5   a      5      0"
      ]
     },
     "execution_count": 1,
     "metadata": {},
     "output_type": "execute_result"
    }
   ],
   "source": [
    "import pandas as pd\n",
    "\n",
    "df1 = pd.DataFrame({'key':['b','b','a','c','a','a','b'],'data1':range(7)})\n",
    "\n",
    "df2 = pd.DataFrame({'key':['a','b','d'],'data2':range(3)})\n",
    "\n",
    "print(df1)\n",
    "print(df2)\n",
    "\n",
    "pd.merge(df1,df2,on = 'key',how = 'inner')"
   ]
  },
  {
   "cell_type": "code",
   "execution_count": 2,
   "metadata": {},
   "outputs": [
    {
     "name": "stdout",
     "output_type": "stream",
     "text": [
      "  key1 key2  lval\n",
      "0  foo  one     1\n",
      "1  foo  two     2\n",
      "2  bar  one     3\n",
      "  key1 key2  rval\n",
      "0  foo  one     4\n",
      "1  foo  one     5\n",
      "2  bar  one     6\n",
      "3  bar  two     7\n"
     ]
    },
    {
     "data": {
      "text/html": [
       "<div>\n",
       "<style scoped>\n",
       "    .dataframe tbody tr th:only-of-type {\n",
       "        vertical-align: middle;\n",
       "    }\n",
       "\n",
       "    .dataframe tbody tr th {\n",
       "        vertical-align: top;\n",
       "    }\n",
       "\n",
       "    .dataframe thead th {\n",
       "        text-align: right;\n",
       "    }\n",
       "</style>\n",
       "<table border=\"1\" class=\"dataframe\">\n",
       "  <thead>\n",
       "    <tr style=\"text-align: right;\">\n",
       "      <th></th>\n",
       "      <th>key1</th>\n",
       "      <th>key2_left</th>\n",
       "      <th>lval</th>\n",
       "      <th>key2_right</th>\n",
       "      <th>rval</th>\n",
       "    </tr>\n",
       "  </thead>\n",
       "  <tbody>\n",
       "    <tr>\n",
       "      <th>0</th>\n",
       "      <td>foo</td>\n",
       "      <td>one</td>\n",
       "      <td>1</td>\n",
       "      <td>one</td>\n",
       "      <td>4</td>\n",
       "    </tr>\n",
       "    <tr>\n",
       "      <th>1</th>\n",
       "      <td>foo</td>\n",
       "      <td>one</td>\n",
       "      <td>1</td>\n",
       "      <td>one</td>\n",
       "      <td>5</td>\n",
       "    </tr>\n",
       "    <tr>\n",
       "      <th>2</th>\n",
       "      <td>foo</td>\n",
       "      <td>two</td>\n",
       "      <td>2</td>\n",
       "      <td>one</td>\n",
       "      <td>4</td>\n",
       "    </tr>\n",
       "    <tr>\n",
       "      <th>3</th>\n",
       "      <td>foo</td>\n",
       "      <td>two</td>\n",
       "      <td>2</td>\n",
       "      <td>one</td>\n",
       "      <td>5</td>\n",
       "    </tr>\n",
       "    <tr>\n",
       "      <th>4</th>\n",
       "      <td>bar</td>\n",
       "      <td>one</td>\n",
       "      <td>3</td>\n",
       "      <td>one</td>\n",
       "      <td>6</td>\n",
       "    </tr>\n",
       "    <tr>\n",
       "      <th>5</th>\n",
       "      <td>bar</td>\n",
       "      <td>one</td>\n",
       "      <td>3</td>\n",
       "      <td>two</td>\n",
       "      <td>7</td>\n",
       "    </tr>\n",
       "  </tbody>\n",
       "</table>\n",
       "</div>"
      ],
      "text/plain": [
       "  key1 key2_left  lval key2_right  rval\n",
       "0  foo       one     1        one     4\n",
       "1  foo       one     1        one     5\n",
       "2  foo       two     2        one     4\n",
       "3  foo       two     2        one     5\n",
       "4  bar       one     3        one     6\n",
       "5  bar       one     3        two     7"
      ]
     },
     "execution_count": 2,
     "metadata": {},
     "output_type": "execute_result"
    }
   ],
   "source": [
    "left = pd.DataFrame({'key1':['foo','foo','bar'],'key2':['one','two','one'],'lval':[1,2,3]})\n",
    "\n",
    "right = pd.DataFrame({'key1':['foo','foo','bar','bar'],'key2':['one','one','one','two'],'rval':[4,5,6,7]})\n",
    "\n",
    "print(left)\n",
    "\n",
    "print(right)\n",
    "\n",
    "# pd.merge(left,right,on = ['key1','key2'], how = 'outer')\n",
    "\n",
    "pd.merge(left,right,on = ['key1'], suffixes = ('_left','_right'))"
   ]
  },
  {
   "cell_type": "code",
   "execution_count": 3,
   "metadata": {},
   "outputs": [
    {
     "data": {
      "text/html": [
       "<div>\n",
       "<style scoped>\n",
       "    .dataframe tbody tr th:only-of-type {\n",
       "        vertical-align: middle;\n",
       "    }\n",
       "\n",
       "    .dataframe tbody tr th {\n",
       "        vertical-align: top;\n",
       "    }\n",
       "\n",
       "    .dataframe thead th {\n",
       "        text-align: right;\n",
       "    }\n",
       "</style>\n",
       "<table border=\"1\" class=\"dataframe\">\n",
       "  <thead>\n",
       "    <tr style=\"text-align: right;\">\n",
       "      <th></th>\n",
       "      <th>group_val</th>\n",
       "      <th>key</th>\n",
       "      <th>value</th>\n",
       "    </tr>\n",
       "  </thead>\n",
       "  <tbody>\n",
       "    <tr>\n",
       "      <th>0</th>\n",
       "      <td>3.5</td>\n",
       "      <td>a</td>\n",
       "      <td>0</td>\n",
       "    </tr>\n",
       "    <tr>\n",
       "      <th>2</th>\n",
       "      <td>3.5</td>\n",
       "      <td>a</td>\n",
       "      <td>2</td>\n",
       "    </tr>\n",
       "    <tr>\n",
       "      <th>3</th>\n",
       "      <td>3.5</td>\n",
       "      <td>a</td>\n",
       "      <td>3</td>\n",
       "    </tr>\n",
       "    <tr>\n",
       "      <th>1</th>\n",
       "      <td>7</td>\n",
       "      <td>b</td>\n",
       "      <td>1</td>\n",
       "    </tr>\n",
       "    <tr>\n",
       "      <th>4</th>\n",
       "      <td>7</td>\n",
       "      <td>b</td>\n",
       "      <td>4</td>\n",
       "    </tr>\n",
       "  </tbody>\n",
       "</table>\n",
       "</div>"
      ],
      "text/plain": [
       "  group_val key  value\n",
       "0       3.5   a      0\n",
       "2       3.5   a      2\n",
       "3       3.5   a      3\n",
       "1         7   b      1\n",
       "4         7   b      4"
      ]
     },
     "execution_count": 3,
     "metadata": {},
     "output_type": "execute_result"
    }
   ],
   "source": [
    "left1 = pd.DataFrame({'key':['a','b','a','a','b','c'],'value':range(6)})\n",
    "\n",
    "right1 = pd.DataFrame({'group_val':['3.5','7']}, index = ['a','b'])\n",
    "\n",
    "pd.merge(right1, left1, right_on = 'key', left_index = True)"
   ]
  },
  {
   "cell_type": "code",
   "execution_count": 4,
   "metadata": {},
   "outputs": [
    {
     "name": "stdout",
     "output_type": "stream",
     "text": [
      "     key1  key2  data\n",
      "0    Ohio  2000   0.0\n",
      "1    Ohio  2001   1.0\n",
      "2    Ohio  2002   2.0\n",
      "3  Nevada  2001   3.0\n",
      "4  Nevada  2002   4.0\n",
      "\n",
      "             event1  event2\n",
      "Nevada 2001       0       1\n",
      "       2000       2       3\n",
      "Ohio   2000       4       5\n",
      "       2000       6       7\n",
      "       2001       8       9\n",
      "       2002      10      11\n",
      "\n"
     ]
    },
    {
     "data": {
      "text/html": [
       "<div>\n",
       "<style scoped>\n",
       "    .dataframe tbody tr th:only-of-type {\n",
       "        vertical-align: middle;\n",
       "    }\n",
       "\n",
       "    .dataframe tbody tr th {\n",
       "        vertical-align: top;\n",
       "    }\n",
       "\n",
       "    .dataframe thead th {\n",
       "        text-align: right;\n",
       "    }\n",
       "</style>\n",
       "<table border=\"1\" class=\"dataframe\">\n",
       "  <thead>\n",
       "    <tr style=\"text-align: right;\">\n",
       "      <th></th>\n",
       "      <th>key1</th>\n",
       "      <th>key2</th>\n",
       "      <th>data</th>\n",
       "      <th>event1</th>\n",
       "      <th>event2</th>\n",
       "    </tr>\n",
       "  </thead>\n",
       "  <tbody>\n",
       "    <tr>\n",
       "      <th>0</th>\n",
       "      <td>Ohio</td>\n",
       "      <td>2000</td>\n",
       "      <td>0.0</td>\n",
       "      <td>4.0</td>\n",
       "      <td>5.0</td>\n",
       "    </tr>\n",
       "    <tr>\n",
       "      <th>0</th>\n",
       "      <td>Ohio</td>\n",
       "      <td>2000</td>\n",
       "      <td>0.0</td>\n",
       "      <td>6.0</td>\n",
       "      <td>7.0</td>\n",
       "    </tr>\n",
       "    <tr>\n",
       "      <th>1</th>\n",
       "      <td>Ohio</td>\n",
       "      <td>2001</td>\n",
       "      <td>1.0</td>\n",
       "      <td>8.0</td>\n",
       "      <td>9.0</td>\n",
       "    </tr>\n",
       "    <tr>\n",
       "      <th>2</th>\n",
       "      <td>Ohio</td>\n",
       "      <td>2002</td>\n",
       "      <td>2.0</td>\n",
       "      <td>10.0</td>\n",
       "      <td>11.0</td>\n",
       "    </tr>\n",
       "    <tr>\n",
       "      <th>3</th>\n",
       "      <td>Nevada</td>\n",
       "      <td>2001</td>\n",
       "      <td>3.0</td>\n",
       "      <td>0.0</td>\n",
       "      <td>1.0</td>\n",
       "    </tr>\n",
       "    <tr>\n",
       "      <th>4</th>\n",
       "      <td>Nevada</td>\n",
       "      <td>2002</td>\n",
       "      <td>4.0</td>\n",
       "      <td>NaN</td>\n",
       "      <td>NaN</td>\n",
       "    </tr>\n",
       "    <tr>\n",
       "      <th>4</th>\n",
       "      <td>Nevada</td>\n",
       "      <td>2000</td>\n",
       "      <td>NaN</td>\n",
       "      <td>2.0</td>\n",
       "      <td>3.0</td>\n",
       "    </tr>\n",
       "  </tbody>\n",
       "</table>\n",
       "</div>"
      ],
      "text/plain": [
       "     key1  key2  data  event1  event2\n",
       "0    Ohio  2000   0.0     4.0     5.0\n",
       "0    Ohio  2000   0.0     6.0     7.0\n",
       "1    Ohio  2001   1.0     8.0     9.0\n",
       "2    Ohio  2002   2.0    10.0    11.0\n",
       "3  Nevada  2001   3.0     0.0     1.0\n",
       "4  Nevada  2002   4.0     NaN     NaN\n",
       "4  Nevada  2000   NaN     2.0     3.0"
      ]
     },
     "execution_count": 4,
     "metadata": {},
     "output_type": "execute_result"
    }
   ],
   "source": [
    "import numpy as np\n",
    "\n",
    "lefth = pd.DataFrame({'key1': ['Ohio', 'Ohio', 'Ohio', 'Nevada', 'Nevada'], 'key2': [2000, 2001, 2002, 2001, 2002], \n",
    "                   'data': np.arange(5.)})\n",
    "\n",
    "righth = pd.DataFrame(np.arange(12).reshape((6, 2)), index=[['Nevada', 'Nevada', 'Ohio', 'Ohio', 'Ohio', 'Ohio'], \n",
    "                                                         [2001, 2000, 2000, 2000, 2001, 2002]], columns=['event1', 'event2'])\n",
    "\n",
    "print(lefth)\n",
    "\n",
    "print('')\n",
    "\n",
    "print(righth)\n",
    "\n",
    "print('')\n",
    "\n",
    "pd.merge(lefth,righth,left_on = ['key1', 'key2'], right_index = True, how = 'outer')\n"
   ]
  },
  {
   "cell_type": "code",
   "execution_count": 5,
   "metadata": {
    "collapsed": true
   },
   "outputs": [],
   "source": [
    "an_apple = 27\n",
    "\n",
    "an_example = 42"
   ]
  },
  {
   "cell_type": "code",
   "execution_count": 6,
   "metadata": {},
   "outputs": [
    {
     "name": "stdout",
     "output_type": "stream",
     "text": [
      "<class 'datetime.date'>\n"
     ]
    }
   ],
   "source": [
    "import datetime\n",
    "\n",
    "print(datetime.date)"
   ]
  },
  {
   "cell_type": "code",
   "execution_count": 7,
   "metadata": {
    "collapsed": true
   },
   "outputs": [],
   "source": [
    "b = [1, 2, 3]\n",
    "\n",
    "# b?"
   ]
  },
  {
   "cell_type": "code",
   "execution_count": 8,
   "metadata": {
    "collapsed": true
   },
   "outputs": [],
   "source": [
    "def add_number(a,b):\n",
    "    return a + b\n",
    "\n",
    "add_number?\n"
   ]
  },
  {
   "cell_type": "code",
   "execution_count": 9,
   "metadata": {
    "collapsed": true
   },
   "outputs": [],
   "source": [
    "import numpy as np\n",
    "\n",
    "np.*load*?"
   ]
  },
  {
   "cell_type": "code",
   "execution_count": 10,
   "metadata": {},
   "outputs": [
    {
     "name": "stdout",
     "output_type": "stream",
     "text": [
      "Activating auto-logging. Current session state plus future input saved.\n",
      "Filename       : ipython_log.py\n",
      "Mode           : rotate\n",
      "Output logging : False\n",
      "Raw input log  : False\n",
      "Timestamping   : False\n",
      "State          : active\n"
     ]
    }
   ],
   "source": [
    "%logstart"
   ]
  },
  {
   "cell_type": "code",
   "execution_count": 11,
   "metadata": {},
   "outputs": [
    {
     "name": "stdout",
     "output_type": "stream",
     "text": [
      "import pandas as pd\n",
      "\n",
      "df1 = pd.DataFrame({'key':['b','b','a','c','a','a','b'],'data1':range(7)})\n",
      "\n",
      "df2 = pd.DataFrame({'key':['a','b','d'],'data2':range(3)})\n",
      "\n",
      "print(df1)\n",
      "print(df2)\n",
      "\n",
      "pd.merge(df1,df2,on = 'key',how = 'inner')\n",
      "left = pd.DataFrame({'key1':['foo','foo','bar'],'key2':['one','two','one'],'lval':[1,2,3]})\n",
      "\n",
      "right = pd.DataFrame({'key1':['foo','foo','bar','bar'],'key2':['one','one','one','two'],'rval':[4,5,6,7]})\n",
      "\n",
      "print(left)\n",
      "\n",
      "print(right)\n",
      "\n",
      "# pd.merge(left,right,on = ['key1','key2'], how = 'outer')\n",
      "\n",
      "pd.merge(left,right,on = ['key1'], suffixes = ('_left','_right'))\n",
      "left1 = pd.DataFrame({'key':['a','b','a','a','b','c'],'value':range(6)})\n",
      "\n",
      "right1 = pd.DataFrame({'group_val':['3.5','7']}, index = ['a','b'])\n",
      "\n",
      "pd.merge(right1, left1, right_on = 'key', left_index = True)\n",
      "import numpy as np\n",
      "\n",
      "lefth = pd.DataFrame({'key1': ['Ohio', 'Ohio', 'Ohio', 'Nevada', 'Nevada'], 'key2': [2000, 2001, 2002, 2001, 2002], \n",
      "                   'data': np.arange(5.)})\n",
      "\n",
      "righth = pd.DataFrame(np.arange(12).reshape((6, 2)), index=[['Nevada', 'Nevada', 'Ohio', 'Ohio', 'Ohio', 'Ohio'], \n",
      "                                                         [2001, 2000, 2000, 2000, 2001, 2002]], columns=['event1', 'event2'])\n",
      "\n",
      "print(lefth)\n",
      "\n",
      "print('')\n",
      "\n",
      "print(righth)\n",
      "\n",
      "print('')\n",
      "\n",
      "pd.merge(lefth,righth,left_on = ['key1', 'key2'], right_index = True, how = 'outer')\n",
      "an_apple = 27\n",
      "\n",
      "an_example = 42\n",
      "import datetime\n",
      "\n",
      "print(datetime.date)\n",
      "b = [1, 2, 3]\n",
      "\n",
      "# b?\n",
      "def add_number(a,b):\n",
      "    return a + b\n",
      "\n",
      "add_number?\n",
      "import numpy as np\n",
      "\n",
      "np.*load*?\n",
      "%logstart\n",
      "%hist\n"
     ]
    }
   ],
   "source": [
    "%hist"
   ]
  },
  {
   "cell_type": "code",
   "execution_count": 12,
   "metadata": {},
   "outputs": [
    {
     "name": "stdout",
     "output_type": "stream",
     "text": [
      "D:\\Box\\Box Sync\\Python\n"
     ]
    }
   ],
   "source": [
    "%cd D:\\Box\\Box Sync\\Python"
   ]
  },
  {
   "cell_type": "code",
   "execution_count": 13,
   "metadata": {},
   "outputs": [
    {
     "data": {
      "text/plain": [
       "\"'ifconfig' is not recognized as an internal or external command,\""
      ]
     },
     "execution_count": 13,
     "metadata": {},
     "output_type": "execute_result"
    }
   ],
   "source": [
    "ip_info = !ifconfig eth0 | grep 'inet'\n",
    "\n",
    "ip_info[0].strip()\n"
   ]
  },
  {
   "cell_type": "code",
   "execution_count": 14,
   "metadata": {},
   "outputs": [
    {
     "name": "stderr",
     "output_type": "stream",
     "text": [
      "ERROR:root:File `'love.py'` not found.\n"
     ]
    }
   ],
   "source": [
    "run -d love.py"
   ]
  },
  {
   "cell_type": "code",
   "execution_count": 23,
   "metadata": {},
   "outputs": [
    {
     "name": "stdout",
     "output_type": "stream",
     "text": [
      "(2, 3)\n"
     ]
    }
   ],
   "source": [
    "import numpy as np\n",
    "\n",
    "data = np.array([[0.9526, -0.246, -0.8856], [0.5639, 0.2379, 0.9104]])\n",
    "\n",
    "print(data.shape)"
   ]
  },
  {
   "cell_type": "code",
   "execution_count": 24,
   "metadata": {},
   "outputs": [
    {
     "name": "stdout",
     "output_type": "stream",
     "text": [
      "[0. 0. 0. 0. 0. 0. 0. 0. 0. 0.]\n"
     ]
    }
   ],
   "source": [
    "a = np.zeros(10)\n",
    "\n",
    "print(a)"
   ]
  },
  {
   "cell_type": "code",
   "execution_count": 26,
   "metadata": {},
   "outputs": [
    {
     "name": "stdout",
     "output_type": "stream",
     "text": [
      "[[0. 0. 0. 0.]\n",
      " [0. 0. 0. 0.]\n",
      " [0. 0. 0. 0.]]\n"
     ]
    }
   ],
   "source": [
    "a = np.zeros((3,4))\n",
    "\n",
    "print(a)"
   ]
  },
  {
   "cell_type": "code",
   "execution_count": 37,
   "metadata": {},
   "outputs": [
    {
     "name": "stdout",
     "output_type": "stream",
     "text": [
      "[[[0. 0.]\n",
      "  [0. 0.]\n",
      "  [0. 0.]]\n",
      "\n",
      " [[0. 0.]\n",
      "  [0. 0.]\n",
      "  [0. 0.]]]\n",
      "float64\n",
      "float32\n"
     ]
    }
   ],
   "source": [
    "a = np.empty((2,3,2))\n",
    "\n",
    "print(a)\n",
    "\n",
    "print(a.dtype)\n",
    "\n",
    "float_a = a.astype(np.float32)\n",
    "\n",
    "print(float_a.dtype)"
   ]
  },
  {
   "cell_type": "code",
   "execution_count": 31,
   "metadata": {},
   "outputs": [
    {
     "name": "stdout",
     "output_type": "stream",
     "text": [
      "[ 0  1  2  3  4  5  6  7  8  9 10 11 12 13 14]\n"
     ]
    }
   ],
   "source": [
    "a = np.arange(15)\n",
    "\n",
    "print(a)"
   ]
  },
  {
   "cell_type": "code",
   "execution_count": 35,
   "metadata": {},
   "outputs": [
    {
     "name": "stdout",
     "output_type": "stream",
     "text": [
      "[0 0]\n"
     ]
    }
   ],
   "source": [
    "a = np.zeros_like((3,4))\n",
    "\n",
    "print(a)"
   ]
  },
  {
   "cell_type": "code",
   "execution_count": 43,
   "metadata": {},
   "outputs": [
    {
     "name": "stdout",
     "output_type": "stream",
     "text": [
      "float64\n",
      "[[0 0 0]\n",
      " [0 0 0]]\n",
      "int32\n"
     ]
    }
   ],
   "source": [
    "data = np.array([[0.9526, -0.246, -0.8856], [0.5639, 0.2379, 0.9104]])\n",
    "\n",
    "print(data.dtype)\n",
    "\n",
    "int_data = data.astype(np.int32)\n",
    "\n",
    "print(int_data)\n",
    "\n",
    "print(int_data.dtype)"
   ]
  },
  {
   "cell_type": "code",
   "execution_count": 48,
   "metadata": {},
   "outputs": [
    {
     "name": "stdout",
     "output_type": "stream",
     "text": [
      "[ 1.25 -9.6  42.  ]\n"
     ]
    }
   ],
   "source": [
    "numeric_strings = np.array(['1.25', '-9.6', '42'])\n",
    "\n",
    "numeric = numeric_strings.astype(np.float32)\n",
    "\n",
    "print(numeric)"
   ]
  },
  {
   "cell_type": "code",
   "execution_count": 52,
   "metadata": {},
   "outputs": [
    {
     "name": "stdout",
     "output_type": "stream",
     "text": [
      "[1.5625e+00 9.2160e+01 1.7640e+03]\n",
      "[0. 0. 0.]\n",
      "[ 0.8        -0.10416666  0.02380952]\n",
      "[ 0.625 -4.8   21.   ]\n"
     ]
    }
   ],
   "source": [
    "print(numeric*numeric)\n",
    "\n",
    "print(numeric - numeric)\n",
    "\n",
    "print(1/numeric)\n",
    "\n",
    "print(0.5*numeric)"
   ]
  },
  {
   "cell_type": "code",
   "execution_count": 55,
   "metadata": {},
   "outputs": [
    {
     "name": "stdout",
     "output_type": "stream",
     "text": [
      "[0 1 2 3 4 5 6 7 8 9]\n",
      "5\n",
      "[5 6 7]\n"
     ]
    }
   ],
   "source": [
    "a = np.arange(10)\n",
    "\n",
    "print(a)\n",
    "\n",
    "print(a[5])\n",
    "\n",
    "print(a[5:8])"
   ]
  },
  {
   "cell_type": "code",
   "execution_count": 56,
   "metadata": {},
   "outputs": [
    {
     "name": "stdout",
     "output_type": "stream",
     "text": [
      "[ 0  1  2  3  4 12 12 12  8  9]\n"
     ]
    }
   ],
   "source": [
    "a[5:8] = 12\n",
    "\n",
    "print(a)"
   ]
  },
  {
   "cell_type": "code",
   "execution_count": 58,
   "metadata": {},
   "outputs": [
    {
     "name": "stdout",
     "output_type": "stream",
     "text": [
      "[   12 12345    12]\n",
      "[    0     1     2     3     4    12 12345    12     8     9]\n"
     ]
    }
   ],
   "source": [
    "a_slice = a[5:8]\n",
    "\n",
    "print(a_slice)\n",
    "\n",
    "a_slice[1] = 12345\n",
    "\n",
    "print(a)"
   ]
  },
  {
   "cell_type": "code",
   "execution_count": 59,
   "metadata": {},
   "outputs": [
    {
     "name": "stdout",
     "output_type": "stream",
     "text": [
      "[ 0  1  2  3  4 64 64 64  8  9]\n"
     ]
    }
   ],
   "source": [
    "a_slice[:] = 64\n",
    "\n",
    "print(a)"
   ]
  },
  {
   "cell_type": "code",
   "execution_count": 3,
   "metadata": {},
   "outputs": [
    {
     "name": "stdout",
     "output_type": "stream",
     "text": [
      "1991-12-18\n"
     ]
    },
    {
     "ename": "TypeError",
     "evalue": "unsupported operand type(s) for -: 'datetime.datetime' and 'datetime.date'",
     "output_type": "error",
     "traceback": [
      "\u001b[1;31m---------------------------------------------------------------------------\u001b[0m",
      "\u001b[1;31mTypeError\u001b[0m                                 Traceback (most recent call last)",
      "\u001b[1;32m<ipython-input-3-8a31bb20ee3f>\u001b[0m in \u001b[0;36m<module>\u001b[1;34m\u001b[0m\n\u001b[0;32m      7\u001b[0m \u001b[0mprint\u001b[0m\u001b[1;33m(\u001b[0m\u001b[0mdate1\u001b[0m\u001b[1;33m)\u001b[0m\u001b[1;33m\u001b[0m\u001b[1;33m\u001b[0m\u001b[0m\n\u001b[0;32m      8\u001b[0m \u001b[1;33m\u001b[0m\u001b[0m\n\u001b[1;32m----> 9\u001b[1;33m \u001b[0mdate2\u001b[0m \u001b[1;33m=\u001b[0m \u001b[0mZhDate\u001b[0m\u001b[1;33m.\u001b[0m\u001b[0mfrom_datetime\u001b[0m\u001b[1;33m(\u001b[0m\u001b[0mdate1\u001b[0m\u001b[1;33m)\u001b[0m\u001b[1;33m\u001b[0m\u001b[1;33m\u001b[0m\u001b[0m\n\u001b[0m\u001b[0;32m     10\u001b[0m \u001b[1;33m\u001b[0m\u001b[0m\n\u001b[0;32m     11\u001b[0m \u001b[0mprint\u001b[0m\u001b[1;33m(\u001b[0m\u001b[0mdate2\u001b[0m\u001b[1;33m)\u001b[0m\u001b[1;33m\u001b[0m\u001b[1;33m\u001b[0m\u001b[0m\n",
      "\u001b[1;32mD:\\Python\\Conda\\lib\\site-packages\\zhdate\\__init__.py\u001b[0m in \u001b[0;36mfrom_datetime\u001b[1;34m(dt)\u001b[0m\n\u001b[0;32m    136\u001b[0m         \"\"\"\n\u001b[0;32m    137\u001b[0m         \u001b[0mlunar_year\u001b[0m \u001b[1;33m=\u001b[0m \u001b[0mdt\u001b[0m\u001b[1;33m.\u001b[0m\u001b[0myear\u001b[0m\u001b[1;33m\u001b[0m\u001b[1;33m\u001b[0m\u001b[0m\n\u001b[1;32m--> 138\u001b[1;33m         \u001b[1;32mif\u001b[0m \u001b[1;33m(\u001b[0m\u001b[0mdatetime\u001b[0m\u001b[1;33m.\u001b[0m\u001b[0mstrptime\u001b[0m\u001b[1;33m(\u001b[0m\u001b[0mCHINESENEWYEAR\u001b[0m\u001b[1;33m[\u001b[0m\u001b[0mlunar_year\u001b[0m\u001b[1;33m-\u001b[0m\u001b[1;36m1900\u001b[0m\u001b[1;33m]\u001b[0m\u001b[1;33m,\u001b[0m \u001b[1;34m'%Y%m%d'\u001b[0m\u001b[1;33m)\u001b[0m \u001b[1;33m-\u001b[0m \u001b[0mdt\u001b[0m\u001b[1;33m)\u001b[0m\u001b[1;33m.\u001b[0m\u001b[0mdays\u001b[0m \u001b[1;33m>\u001b[0m \u001b[1;36m0\u001b[0m\u001b[1;33m:\u001b[0m\u001b[1;33m\u001b[0m\u001b[1;33m\u001b[0m\u001b[0m\n\u001b[0m\u001b[0;32m    139\u001b[0m             \u001b[0mlunar_year\u001b[0m \u001b[1;33m-=\u001b[0m \u001b[1;36m1\u001b[0m\u001b[1;33m\u001b[0m\u001b[1;33m\u001b[0m\u001b[0m\n\u001b[0;32m    140\u001b[0m         \u001b[0mnewyear_dt\u001b[0m \u001b[1;33m=\u001b[0m \u001b[0mdatetime\u001b[0m\u001b[1;33m.\u001b[0m\u001b[0mstrptime\u001b[0m\u001b[1;33m(\u001b[0m\u001b[0mCHINESENEWYEAR\u001b[0m\u001b[1;33m[\u001b[0m\u001b[0mlunar_year\u001b[0m\u001b[1;33m-\u001b[0m\u001b[1;36m1900\u001b[0m\u001b[1;33m]\u001b[0m\u001b[1;33m,\u001b[0m \u001b[1;34m'%Y%m%d'\u001b[0m\u001b[1;33m)\u001b[0m\u001b[1;33m\u001b[0m\u001b[1;33m\u001b[0m\u001b[0m\n",
      "\u001b[1;31mTypeError\u001b[0m: unsupported operand type(s) for -: 'datetime.datetime' and 'datetime.date'"
     ]
    }
   ],
   "source": [
    "from zhdate import ZhDate\n",
    "from datetime import date\n",
    "\n",
    "\n",
    "date1 = date(1991,12,18)\n",
    "\n",
    "print(date1)\n",
    "\n",
    "date2 = ZhDate.from_datetime(date1)\n",
    "\n",
    "print(date2)"
   ]
  },
  {
   "cell_type": "code",
   "execution_count": 5,
   "metadata": {},
   "outputs": [
    {
     "name": "stdout",
     "output_type": "stream",
     "text": [
      "[7 8 9]\n"
     ]
    }
   ],
   "source": [
    "import numpy as np\n",
    "\n",
    "arr2d = np.array([[1,2,3],[4,5,6],[7,8,9]])\n",
    "\n",
    "print(arr2d[2])"
   ]
  },
  {
   "cell_type": "code",
   "execution_count": 7,
   "metadata": {},
   "outputs": [
    {
     "name": "stdout",
     "output_type": "stream",
     "text": [
      "[[[ 1  2  3]\n",
      "  [ 4  5  6]]\n",
      "\n",
      " [[ 7  8  9]\n",
      "  [10 11 12]]]\n",
      "[[1 2 3]\n",
      " [4 5 6]]\n"
     ]
    }
   ],
   "source": [
    "arr3d = np.array([[[1,2,3],[4,5,6]],[[7,8,9],[10,11,12]]])\n",
    "\n",
    "print(arr3d)\n",
    "\n",
    "print(arr3d[0])"
   ]
  },
  {
   "cell_type": "code",
   "execution_count": 8,
   "metadata": {},
   "outputs": [
    {
     "name": "stdout",
     "output_type": "stream",
     "text": [
      "[[[43 43 43]\n",
      "  [43 43 43]]\n",
      "\n",
      " [[ 7  8  9]\n",
      "  [10 11 12]]]\n",
      "[[[ 1  2  3]\n",
      "  [ 4  5  6]]\n",
      "\n",
      " [[ 7  8  9]\n",
      "  [10 11 12]]]\n"
     ]
    }
   ],
   "source": [
    "old_values = arr3d[0].copy()\n",
    "\n",
    "arr3d[0] = 43\n",
    "\n",
    "print(arr3d)\n",
    "\n",
    "arr3d[0] = old_values\n",
    "\n",
    "print(arr3d)"
   ]
  },
  {
   "cell_type": "code",
   "execution_count": 9,
   "metadata": {},
   "outputs": [
    {
     "name": "stdout",
     "output_type": "stream",
     "text": [
      "[7 8 9]\n"
     ]
    }
   ],
   "source": [
    "print(arr3d[1,0])"
   ]
  },
  {
   "cell_type": "code",
   "execution_count": 17,
   "metadata": {},
   "outputs": [
    {
     "name": "stdout",
     "output_type": "stream",
     "text": [
      "[[1 2 3]\n",
      " [4 5 6]\n",
      " [7 8 9]]\n",
      "[[1 2 3]\n",
      " [4 5 6]]\n",
      "[4 5]\n",
      "[7]\n",
      "[[1]\n",
      " [4]\n",
      " [7]]\n",
      "[[2 3]\n",
      " [5 6]]\n",
      "[[7 8 9]]\n",
      "[[1 2]\n",
      " [4 5]\n",
      " [7 8]]\n",
      "[[4 5]]\n",
      "[[1 0 0]\n",
      " [4 0 0]\n",
      " [7 8 9]]\n"
     ]
    }
   ],
   "source": [
    "arr2d = np.array([[1,2,3],[4,5,6],[7,8,9]])\n",
    "\n",
    "print(arr2d)\n",
    "\n",
    "print(arr2d[:2])\n",
    "\n",
    "print(arr2d[1,:2])\n",
    "\n",
    "print(arr2d[2,:1])\n",
    "\n",
    "print(arr2d[:,:1])\n",
    "\n",
    "print(arr2d[:2,1:])\n",
    "\n",
    "print(arr2d[2:,:])\n",
    "\n",
    "print(arr2d[:,:2])\n",
    "\n",
    "print(arr2d[1:2,:2])\n",
    "\n",
    "arr2d[:2,1:] = 0\n",
    "\n",
    "print(arr2d)"
   ]
  },
  {
   "cell_type": "code",
   "execution_count": 31,
   "metadata": {},
   "outputs": [
    {
     "name": "stdout",
     "output_type": "stream",
     "text": [
      "[[-0.37538565 -1.14428365 -2.18051363 -0.10976054]\n",
      " [-0.64417303  2.00344393 -0.14977448 -0.59401936]\n",
      " [-0.2599926   0.21891106  0.19749928  0.65715095]\n",
      " [ 0.15836977 -0.69792146  0.53730041  0.73320263]\n",
      " [ 0.03498253 -0.82620604  0.02107592  0.05103676]\n",
      " [-0.87316389  1.25624865  0.42147717  0.32280861]\n",
      " [-0.79244267  0.69810297  0.26528546 -0.64216115]]\n"
     ]
    }
   ],
   "source": [
    "names = np.array(['Bob','Joe','Will','Bob','Will','Joe','Joe'])\n",
    "\n",
    "data = np.random.randn(7,4)\n",
    "\n",
    "print(data)"
   ]
  },
  {
   "cell_type": "code",
   "execution_count": 32,
   "metadata": {},
   "outputs": [
    {
     "name": "stdout",
     "output_type": "stream",
     "text": [
      "[ True False False  True False False False]\n",
      "[[-0.37538565 -1.14428365 -2.18051363 -0.10976054]\n",
      " [ 0.15836977 -0.69792146  0.53730041  0.73320263]]\n",
      "[[-2.18051363 -0.10976054]\n",
      " [ 0.53730041  0.73320263]]\n",
      "[-0.10976054  0.73320263]\n",
      "[[-0.64417303  2.00344393 -0.14977448 -0.59401936]\n",
      " [-0.2599926   0.21891106  0.19749928  0.65715095]\n",
      " [ 0.03498253 -0.82620604  0.02107592  0.05103676]\n",
      " [-0.87316389  1.25624865  0.42147717  0.32280861]\n",
      " [-0.79244267  0.69810297  0.26528546 -0.64216115]]\n"
     ]
    }
   ],
   "source": [
    "print(names == 'Bob')\n",
    "\n",
    "print(data[names == 'Bob'])\n",
    "\n",
    "print(data[names == 'Bob',2:])\n",
    "\n",
    "print(data[names == 'Bob',3])\n",
    "\n",
    "print(data[~(names == 'Bob')])"
   ]
  },
  {
   "cell_type": "code",
   "execution_count": 33,
   "metadata": {},
   "outputs": [
    {
     "name": "stdout",
     "output_type": "stream",
     "text": [
      "[ True False  True  True  True False False]\n"
     ]
    }
   ],
   "source": [
    "mask = (names == 'Bob') | (names == 'Will')\n",
    "\n",
    "print(mask)"
   ]
  },
  {
   "cell_type": "code",
   "execution_count": 35,
   "metadata": {},
   "outputs": [
    {
     "name": "stdout",
     "output_type": "stream",
     "text": [
      "[[0.         0.         0.         0.        ]\n",
      " [0.         2.00344393 0.         0.        ]\n",
      " [0.         0.21891106 0.19749928 0.65715095]\n",
      " [0.15836977 0.         0.53730041 0.73320263]\n",
      " [0.03498253 0.         0.02107592 0.05103676]\n",
      " [0.         1.25624865 0.42147717 0.32280861]\n",
      " [0.         0.69810297 0.26528546 0.        ]]\n"
     ]
    }
   ],
   "source": [
    "data[data < 0] = 0\n",
    "\n",
    "print(data)"
   ]
  },
  {
   "cell_type": "code",
   "execution_count": 36,
   "metadata": {},
   "outputs": [
    {
     "name": "stdout",
     "output_type": "stream",
     "text": [
      "[ True False  True  True  True False False]\n",
      "[[7.         7.         7.         7.        ]\n",
      " [0.         2.00344393 0.         0.        ]\n",
      " [7.         7.         7.         7.        ]\n",
      " [7.         7.         7.         7.        ]\n",
      " [7.         7.         7.         7.        ]\n",
      " [0.         1.25624865 0.42147717 0.32280861]\n",
      " [0.         0.69810297 0.26528546 0.        ]]\n"
     ]
    }
   ],
   "source": [
    "data[names != 'Joe'] = 7\n",
    "\n",
    "print(names != 'Joe')\n",
    "\n",
    "print(data)"
   ]
  },
  {
   "cell_type": "code",
   "execution_count": 40,
   "metadata": {},
   "outputs": [
    {
     "name": "stdout",
     "output_type": "stream",
     "text": [
      "[[0. 0. 0. 0.]\n",
      " [1. 1. 1. 1.]\n",
      " [2. 2. 2. 2.]\n",
      " [3. 3. 3. 3.]\n",
      " [4. 4. 4. 4.]\n",
      " [5. 5. 5. 5.]\n",
      " [6. 6. 6. 6.]\n",
      " [7. 7. 7. 7.]]\n"
     ]
    }
   ],
   "source": [
    "arr = np.empty((8,4))\n",
    "\n",
    "for i in range(8):\n",
    "    arr[i] = i\n",
    "\n",
    "\n",
    "print(arr)"
   ]
  },
  {
   "cell_type": "code",
   "execution_count": 41,
   "metadata": {},
   "outputs": [
    {
     "name": "stdout",
     "output_type": "stream",
     "text": [
      "[[4. 4. 4. 4.]\n",
      " [3. 3. 3. 3.]\n",
      " [0. 0. 0. 0.]\n",
      " [6. 6. 6. 6.]]\n"
     ]
    }
   ],
   "source": [
    "print(arr[[4,3,0,6]])"
   ]
  },
  {
   "cell_type": "code",
   "execution_count": 42,
   "metadata": {},
   "outputs": [
    {
     "name": "stdout",
     "output_type": "stream",
     "text": [
      "[[5. 5. 5. 5.]\n",
      " [3. 3. 3. 3.]\n",
      " [1. 1. 1. 1.]]\n"
     ]
    }
   ],
   "source": [
    "print(arr[[-3,-5,-7]])"
   ]
  },
  {
   "cell_type": "code",
   "execution_count": 43,
   "metadata": {},
   "outputs": [
    {
     "name": "stdout",
     "output_type": "stream",
     "text": [
      "[[ 0  1  2  3]\n",
      " [ 4  5  6  7]\n",
      " [ 8  9 10 11]\n",
      " [12 13 14 15]\n",
      " [16 17 18 19]\n",
      " [20 21 22 23]\n",
      " [24 25 26 27]\n",
      " [28 29 30 31]]\n"
     ]
    }
   ],
   "source": [
    "arr = np.arange(32).reshape((8,4))\n",
    "\n",
    "print(arr)"
   ]
  },
  {
   "cell_type": "code",
   "execution_count": 44,
   "metadata": {},
   "outputs": [
    {
     "name": "stdout",
     "output_type": "stream",
     "text": [
      "[ 4 23 29 10]\n"
     ]
    }
   ],
   "source": [
    "print(arr[[1,5,7,2],[0,3,1,2]])"
   ]
  },
  {
   "cell_type": "code",
   "execution_count": 47,
   "metadata": {},
   "outputs": [
    {
     "name": "stdout",
     "output_type": "stream",
     "text": [
      "[[ 4  7  5  6]\n",
      " [20 23 21 22]\n",
      " [28 31 29 30]\n",
      " [ 8 11  9 10]]\n"
     ]
    }
   ],
   "source": [
    "print(arr[[1,5,7,2]][:,[0,3,1,2]])"
   ]
  },
  {
   "cell_type": "code",
   "execution_count": 48,
   "metadata": {},
   "outputs": [
    {
     "name": "stdout",
     "output_type": "stream",
     "text": [
      "[[ 4  7  5  6]\n",
      " [20 23 21 22]\n",
      " [28 31 29 30]\n",
      " [ 8 11  9 10]]\n"
     ]
    }
   ],
   "source": [
    "print(arr[np.ix_([1,5,7,2],[0,3,1,2])])"
   ]
  },
  {
   "cell_type": "code",
   "execution_count": 50,
   "metadata": {},
   "outputs": [
    {
     "name": "stdout",
     "output_type": "stream",
     "text": [
      "[[ 0  1  2  3  4]\n",
      " [ 5  6  7  8  9]\n",
      " [10 11 12 13 14]]\n",
      "[[ 0  5 10]\n",
      " [ 1  6 11]\n",
      " [ 2  7 12]\n",
      " [ 3  8 13]\n",
      " [ 4  9 14]]\n"
     ]
    }
   ],
   "source": [
    "arr = np.arange(15).reshape((3,5))\n",
    "\n",
    "print(arr)\n",
    "\n",
    "print(arr.T)"
   ]
  },
  {
   "cell_type": "code",
   "execution_count": 51,
   "metadata": {},
   "outputs": [
    {
     "name": "stdout",
     "output_type": "stream",
     "text": [
      "[[-1.30765416 -0.14746818  0.77468761]\n",
      " [ 0.49132229 -2.14645872 -1.39370769]\n",
      " [ 0.11647583 -0.31167145 -0.07774851]\n",
      " [ 1.98242949  0.41174819  2.00634463]\n",
      " [ 0.33387998 -1.12577749 -0.32000542]\n",
      " [ 0.49232367  1.79620198  2.27552192]]\n"
     ]
    }
   ],
   "source": [
    "arr = np.random.randn(6,3)\n",
    "\n",
    "print(arr)"
   ]
  },
  {
   "cell_type": "code",
   "execution_count": 55,
   "metadata": {},
   "outputs": [
    {
     "name": "stdout",
     "output_type": "stream",
     "text": [
      "[[ 6.24880874  0.42663212  3.28404772]\n",
      " [ 0.42663212  9.38942407  8.17518689]\n",
      " [ 3.28404772  8.17518689 11.85442912]]\n"
     ]
    }
   ],
   "source": [
    "print(np.dot(arr.T,arr))"
   ]
  },
  {
   "cell_type": "code",
   "execution_count": 58,
   "metadata": {
    "scrolled": true
   },
   "outputs": [
    {
     "name": "stdout",
     "output_type": "stream",
     "text": [
      "[[[ 0  1  2  3]\n",
      "  [ 4  5  6  7]]\n",
      "\n",
      " [[ 8  9 10 11]\n",
      "  [12 13 14 15]]]\n"
     ]
    }
   ],
   "source": [
    "arr = np.arange(16).reshape((2,2,4))\n",
    "\n",
    "print(arr)"
   ]
  },
  {
   "cell_type": "code",
   "execution_count": 65,
   "metadata": {},
   "outputs": [
    {
     "name": "stdout",
     "output_type": "stream",
     "text": [
      "[[[ 0  1  2  3]\n",
      "  [ 8  9 10 11]]\n",
      "\n",
      " [[ 4  5  6  7]\n",
      "  [12 13 14 15]]]\n"
     ]
    }
   ],
   "source": [
    "print(arr.transpose((1,0,2)))"
   ]
  },
  {
   "cell_type": "code",
   "execution_count": 60,
   "metadata": {},
   "outputs": [
    {
     "name": "stdout",
     "output_type": "stream",
     "text": [
      "[[[ 0  4]\n",
      "  [ 1  5]\n",
      "  [ 2  6]\n",
      "  [ 3  7]]\n",
      "\n",
      " [[ 8 12]\n",
      "  [ 9 13]\n",
      "  [10 14]\n",
      "  [11 15]]]\n"
     ]
    }
   ],
   "source": [
    "print(arr.swapaxes(1,2))"
   ]
  },
  {
   "cell_type": "code",
   "execution_count": 66,
   "metadata": {},
   "outputs": [
    {
     "name": "stdout",
     "output_type": "stream",
     "text": [
      "[0 1 2 3 4 5 6 7 8 9]\n"
     ]
    }
   ],
   "source": [
    "arr = np.arange(10)\n",
    "\n",
    "print(arr)"
   ]
  },
  {
   "cell_type": "code",
   "execution_count": 67,
   "metadata": {},
   "outputs": [
    {
     "name": "stdout",
     "output_type": "stream",
     "text": [
      "[0.         1.         1.41421356 1.73205081 2.         2.23606798\n",
      " 2.44948974 2.64575131 2.82842712 3.        ]\n"
     ]
    }
   ],
   "source": [
    "print(np.sqrt(arr))"
   ]
  },
  {
   "cell_type": "code",
   "execution_count": 68,
   "metadata": {},
   "outputs": [
    {
     "name": "stdout",
     "output_type": "stream",
     "text": [
      "[1.00000000e+00 2.71828183e+00 7.38905610e+00 2.00855369e+01\n",
      " 5.45981500e+01 1.48413159e+02 4.03428793e+02 1.09663316e+03\n",
      " 2.98095799e+03 8.10308393e+03]\n"
     ]
    }
   ],
   "source": [
    "print(np.exp(arr))"
   ]
  },
  {
   "cell_type": "code",
   "execution_count": 69,
   "metadata": {},
   "outputs": [
    {
     "name": "stdout",
     "output_type": "stream",
     "text": [
      "[-0.19872496  0.75871463  0.17748391  1.96241842  1.45739816 -0.1972012\n",
      "  1.08349988  1.6000175 ] [ 1.80684511  1.38971717 -0.8464453   0.63668904 -0.81779204 -0.02465843\n",
      "  1.60226024 -1.97734421]\n"
     ]
    }
   ],
   "source": [
    "x = np.random.randn(8)\n",
    "\n",
    "y = np.random.randn(8)\n",
    "\n",
    "print(x,y)"
   ]
  },
  {
   "cell_type": "code",
   "execution_count": 70,
   "metadata": {},
   "outputs": [
    {
     "name": "stdout",
     "output_type": "stream",
     "text": [
      "[ 1.80684511  1.38971717  0.17748391  1.96241842  1.45739816 -0.02465843\n",
      "  1.60226024  1.6000175 ]\n"
     ]
    }
   ],
   "source": [
    "print(np.maximum(x,y))"
   ]
  },
  {
   "cell_type": "code",
   "execution_count": 71,
   "metadata": {},
   "outputs": [
    {
     "name": "stdout",
     "output_type": "stream",
     "text": [
      "[ 0.67729637 -0.32384476 -1.36711422 -1.3682055  -0.37551208 -0.37349025\n",
      "  1.75454006]\n"
     ]
    }
   ],
   "source": [
    "arr = np.random.randn(7)\n",
    "\n",
    "print(arr)"
   ]
  },
  {
   "cell_type": "code",
   "execution_count": 72,
   "metadata": {},
   "outputs": [
    {
     "name": "stdout",
     "output_type": "stream",
     "text": [
      "[ 3.38648187 -1.61922381 -6.83557109 -6.84102749 -1.87756039 -1.86745124\n",
      "  8.77270032]\n"
     ]
    }
   ],
   "source": [
    "arr = arr*5\n",
    "\n",
    "print(arr)"
   ]
  },
  {
   "cell_type": "code",
   "execution_count": 73,
   "metadata": {},
   "outputs": [
    {
     "name": "stdout",
     "output_type": "stream",
     "text": [
      "(array([ 0.38648187, -0.61922381, -0.83557109, -0.84102749, -0.87756039,\n",
      "       -0.86745124,  0.77270032]), array([ 3., -1., -6., -6., -1., -1.,  8.]))\n"
     ]
    }
   ],
   "source": [
    "print(np.modf(arr))"
   ]
  },
  {
   "cell_type": "code",
   "execution_count": 74,
   "metadata": {},
   "outputs": [
    {
     "name": "stdout",
     "output_type": "stream",
     "text": [
      "[ 4. -1. -6. -6. -1. -1.  9.]\n"
     ]
    }
   ],
   "source": [
    "print(np.ceil(arr))"
   ]
  },
  {
   "cell_type": "code",
   "execution_count": 75,
   "metadata": {},
   "outputs": [
    {
     "name": "stdout",
     "output_type": "stream",
     "text": [
      "[ 3. -2. -7. -7. -2. -2.  8.]\n"
     ]
    }
   ],
   "source": [
    "print(np.floor(arr))"
   ]
  },
  {
   "cell_type": "code",
   "execution_count": 76,
   "metadata": {},
   "outputs": [
    {
     "name": "stdout",
     "output_type": "stream",
     "text": [
      "[False False False False False False False]\n"
     ]
    }
   ],
   "source": [
    "print(np.isnan(arr))"
   ]
  },
  {
   "cell_type": "code",
   "execution_count": 81,
   "metadata": {},
   "outputs": [
    {
     "name": "stdout",
     "output_type": "stream",
     "text": [
      "[[-5.   -5.   -5.   ... -5.   -5.   -5.  ]\n",
      " [-4.99 -4.99 -4.99 ... -4.99 -4.99 -4.99]\n",
      " [-4.98 -4.98 -4.98 ... -4.98 -4.98 -4.98]\n",
      " ...\n",
      " [ 4.97  4.97  4.97 ...  4.97  4.97  4.97]\n",
      " [ 4.98  4.98  4.98 ...  4.98  4.98  4.98]\n",
      " [ 4.99  4.99  4.99 ...  4.99  4.99  4.99]]\n"
     ]
    }
   ],
   "source": [
    "points = np.arange(-5,5,0.01)\n",
    "\n",
    "xs,ys = np.meshgrid(points,points)\n"
   ]
  },
  {
   "cell_type": "code",
   "execution_count": 84,
   "metadata": {},
   "outputs": [
    {
     "data": {
      "text/plain": [
       "Text(0.5, 1.0, 'Image plot of $\\\\sqrt{x^2 + y^2}$ for a grid of values')"
      ]
     },
     "execution_count": 84,
     "metadata": {},
     "output_type": "execute_result"
    },
    {
     "data": {
      "image/png": "[encoded data removed]",
      "text/plain": [
       "<Figure size 432x288 with 2 Axes>"
      ]
     },
     "metadata": {
      "needs_background": "light"
     },
     "output_type": "display_data"
    }
   ],
   "source": [
    "import matplotlib.pyplot as plt\n",
    "\n",
    "z = np.sqrt(xs**2 + ys**2)\n",
    "\n",
    "plt.imshow(z, cmap = plt.cm.gray); plt.colorbar()\n",
    "plt.title('Image plot of $\\sqrt{x^2 + y^2}$ for a grid of values')"
   ]
  },
  {
   "cell_type": "code",
   "execution_count": 90,
   "metadata": {},
   "outputs": [
    {
     "name": "stdout",
     "output_type": "stream",
     "text": [
      "[2 3 4 5 6 7] [ 5  6  7  8  9 10]\n"
     ]
    }
   ],
   "source": [
    "xarr = np.arange(2,8)\n",
    "\n",
    "yarr = np.arange(5,11)\n",
    "\n",
    "cond = np.array([True, False, True, True, False, True])\n",
    "\n",
    "print(xarr,yarr)"
   ]
  },
  {
   "cell_type": "code",
   "execution_count": 91,
   "metadata": {},
   "outputs": [
    {
     "name": "stdout",
     "output_type": "stream",
     "text": [
      "[2 6 4 5 9 7]\n"
     ]
    }
   ],
   "source": [
    "result = np.where(cond,xarr,yarr)\n",
    "\n",
    "print(result)"
   ]
  },
  {
   "cell_type": "code",
   "execution_count": 92,
   "metadata": {},
   "outputs": [
    {
     "name": "stdout",
     "output_type": "stream",
     "text": [
      "[[ 0.32912866 -0.51790249 -2.20052414 -1.60895926]\n",
      " [ 0.61562281  1.00124634 -1.17717106 -1.84358138]\n",
      " [-2.2503342  -0.73906734 -0.53153524  0.65116137]\n",
      " [ 0.19169833  0.2673057   0.31148649  0.74766048]]\n"
     ]
    }
   ],
   "source": [
    "arr = np.random.randn(4,4)\n",
    "\n",
    "print(arr)"
   ]
  },
  {
   "cell_type": "code",
   "execution_count": 94,
   "metadata": {},
   "outputs": [
    {
     "name": "stdout",
     "output_type": "stream",
     "text": [
      "[[ 2 -2 -2 -2]\n",
      " [ 2  2 -2 -2]\n",
      " [-2 -2 -2  2]\n",
      " [ 2  2  2  2]]\n"
     ]
    }
   ],
   "source": [
    "result = np.where(arr > 0, 2, -2)\n",
    "\n",
    "print(result)"
   ]
  },
  {
   "cell_type": "code",
   "execution_count": 96,
   "metadata": {},
   "outputs": [
    {
     "ename": "NameError",
     "evalue": "name 'cond1' is not defined",
     "output_type": "error",
     "traceback": [
      "\u001b[1;31m---------------------------------------------------------------------------\u001b[0m",
      "\u001b[1;31mNameError\u001b[0m                                 Traceback (most recent call last)",
      "\u001b[1;32m<ipython-input-96-134ca7bb9072>\u001b[0m in \u001b[0;36m<module>\u001b[1;34m\u001b[0m\n\u001b[0;32m      4\u001b[0m \u001b[1;33m\u001b[0m\u001b[0m\n\u001b[0;32m      5\u001b[0m \u001b[1;32mfor\u001b[0m \u001b[0mi\u001b[0m \u001b[1;32min\u001b[0m \u001b[0mrange\u001b[0m\u001b[1;33m(\u001b[0m\u001b[0mn\u001b[0m\u001b[1;33m)\u001b[0m\u001b[1;33m:\u001b[0m\u001b[1;33m\u001b[0m\u001b[1;33m\u001b[0m\u001b[0m\n\u001b[1;32m----> 6\u001b[1;33m     \u001b[1;32mif\u001b[0m \u001b[0mcond1\u001b[0m\u001b[1;33m[\u001b[0m\u001b[0mi\u001b[0m\u001b[1;33m]\u001b[0m \u001b[1;32mand\u001b[0m \u001b[0mcond2\u001b[0m\u001b[1;33m[\u001b[0m\u001b[0mi\u001b[0m\u001b[1;33m]\u001b[0m\u001b[1;33m:\u001b[0m\u001b[1;33m\u001b[0m\u001b[1;33m\u001b[0m\u001b[0m\n\u001b[0m\u001b[0;32m      7\u001b[0m         \u001b[0mresult\u001b[0m\u001b[1;33m.\u001b[0m\u001b[0mappend\u001b[0m\u001b[1;33m(\u001b[0m\u001b[1;36m0\u001b[0m\u001b[1;33m)\u001b[0m\u001b[1;33m\u001b[0m\u001b[1;33m\u001b[0m\u001b[0m\n\u001b[0;32m      8\u001b[0m     \u001b[1;32melif\u001b[0m \u001b[0mcond1\u001b[0m\u001b[1;33m[\u001b[0m\u001b[0mi\u001b[0m\u001b[1;33m]\u001b[0m\u001b[1;33m:\u001b[0m\u001b[1;33m\u001b[0m\u001b[1;33m\u001b[0m\u001b[0m\n",
      "\u001b[1;31mNameError\u001b[0m: name 'cond1' is not defined"
     ]
    }
   ],
   "source": [
    "result = []\n",
    "\n",
    "n = 4\n",
    "\n",
    "for i in range(n):\n",
    "    if cond1[i] and cond2[i]:\n",
    "        result.append(0)\n",
    "    elif cond1[i]:\n",
    "        result.append(1)\n",
    "    elif cond2[i]:\n",
    "        result.append(2)\n",
    "    else:\n",
    "        result.append(3)\n",
    "\n",
    "print(result)"
   ]
  },
  {
   "cell_type": "code",
   "execution_count": 2,
   "metadata": {},
   "outputs": [
    {
     "name": "stdout",
     "output_type": "stream",
     "text": [
      "0.041496165720403135\n"
     ]
    }
   ],
   "source": [
    "import numpy as np\n",
    "\n",
    "arr = np.random.randn(5,4)\n",
    "\n",
    "print(arr.mean())"
   ]
  },
  {
   "cell_type": "code",
   "execution_count": 3,
   "metadata": {},
   "outputs": [
    {
     "name": "stdout",
     "output_type": "stream",
     "text": [
      "0.8299233144080627\n"
     ]
    }
   ],
   "source": [
    "print(arr.sum())"
   ]
  },
  {
   "cell_type": "code",
   "execution_count": 4,
   "metadata": {},
   "outputs": [
    {
     "name": "stdout",
     "output_type": "stream",
     "text": [
      "[[0 1 2]\n",
      " [3 4 5]\n",
      " [6 7 8]]\n"
     ]
    }
   ],
   "source": [
    "arr = np.arange(9).reshape(3,3)\n",
    "\n",
    "print(arr)"
   ]
  },
  {
   "cell_type": "code",
   "execution_count": 7,
   "metadata": {},
   "outputs": [
    {
     "name": "stdout",
     "output_type": "stream",
     "text": [
      "[[ 0  1  2]\n",
      " [ 3  5  7]\n",
      " [ 9 12 15]]\n"
     ]
    }
   ],
   "source": [
    "print(arr.cumsum(0))"
   ]
  },
  {
   "cell_type": "code",
   "execution_count": 10,
   "metadata": {},
   "outputs": [
    {
     "name": "stdout",
     "output_type": "stream",
     "text": [
      "[[ 0  1  2]\n",
      " [ 0  4 10]\n",
      " [ 0 28 80]]\n"
     ]
    }
   ],
   "source": [
    "print(arr.cumprod(0))"
   ]
  },
  {
   "cell_type": "code",
   "execution_count": 13,
   "metadata": {},
   "outputs": [
    {
     "name": "stdout",
     "output_type": "stream",
     "text": [
      "[0.81649658 0.81649658 0.81649658]\n"
     ]
    }
   ],
   "source": [
    "print(arr.std(1))"
   ]
  },
  {
   "cell_type": "code",
   "execution_count": 15,
   "metadata": {},
   "outputs": [
    {
     "name": "stdout",
     "output_type": "stream",
     "text": [
      "[0 3 6]\n"
     ]
    }
   ],
   "source": [
    "print(arr.min(1))"
   ]
  },
  {
   "cell_type": "code",
   "execution_count": 16,
   "metadata": {},
   "outputs": [
    {
     "name": "stdout",
     "output_type": "stream",
     "text": [
      "[-2.6568581   0.12563162 -0.73382826  1.69932402 -1.6226416  -0.62182546\n",
      "  0.69295513 -0.35637873  0.19844102  0.50125302  1.09970034  0.01897415\n",
      " -0.41946773 -2.31640409  0.76810383  0.17929775  0.18909348 -0.44184162\n",
      " -1.25135854 -0.39987844  1.88062958  0.4634562  -1.13473986  0.02771999\n",
      "  0.6803831   0.35640432 -0.51048109  1.2261596  -0.88558656 -0.3044284\n",
      "  0.34950565 -2.50364775  0.22133863  0.06350068  0.49497567  0.23038061\n",
      "  0.16747414  1.35846735 -0.58059718 -0.89697048 -0.24083349  1.36618152\n",
      " -1.57431959 -0.55909503 -0.74789085  0.01035547  0.40263463 -0.43685897\n",
      "  0.87980595  0.07659568  1.23439939 -1.07900002  0.53544827  0.46072242\n",
      " -1.00637823  0.80385437 -1.70688316  0.51473086  0.02602226 -1.48428101\n",
      " -0.07976561  0.30512282 -2.05316888  1.00230229  2.46628869 -0.33436878\n",
      " -0.12783655  0.81138478 -0.65980162 -1.22553362 -1.10916957  0.7985387\n",
      " -0.69483626 -0.49342808  0.98736885  0.44274036 -0.07377519  0.11390805\n",
      "  0.08838929 -0.96725373 -0.3869204  -0.20104946  0.54929977  0.79475219\n",
      "  1.0117526  -0.53450879 -1.61810866 -0.3500034   0.16357039  1.04732674\n",
      " -1.10520204 -0.38654182  0.9927197   0.35831684  1.02896883  0.53138106\n",
      "  1.64318358  1.22165233 -0.81973409  0.45678109]\n"
     ]
    }
   ],
   "source": [
    "arr = np.random.randn(100)\n",
    "\n",
    "print(arr)"
   ]
  },
  {
   "cell_type": "code",
   "execution_count": 19,
   "metadata": {},
   "outputs": [
    {
     "name": "stdout",
     "output_type": "stream",
     "text": [
      "55\n"
     ]
    }
   ],
   "source": [
    "print((arr > 0).sum())"
   ]
  },
  {
   "cell_type": "code",
   "execution_count": 21,
   "metadata": {},
   "outputs": [
    {
     "name": "stdout",
     "output_type": "stream",
     "text": [
      "True\n",
      "False\n"
     ]
    }
   ],
   "source": [
    "bools = np.array([False, False, True, True])\n",
    "\n",
    "print(bools.any())\n",
    "\n",
    "print(bools.all())"
   ]
  },
  {
   "cell_type": "code",
   "execution_count": 38,
   "metadata": {},
   "outputs": [
    {
     "name": "stdout",
     "output_type": "stream",
     "text": [
      "[-0.95479697  0.48146542 -0.96565083  0.02903419 -0.69091768 -0.81344819\n",
      " -1.94843523 -1.94893391]\n",
      "[-1.94893391 -1.94843523 -0.96565083 -0.95479697 -0.81344819 -0.69091768\n",
      "  0.02903419  0.48146542]\n"
     ]
    }
   ],
   "source": [
    "arr = np.random.randn(8)\n",
    "\n",
    "print(arr)\n",
    "\n",
    "print(np.sort(arr))"
   ]
  },
  {
   "cell_type": "code",
   "execution_count": 37,
   "metadata": {},
   "outputs": [
    {
     "name": "stdout",
     "output_type": "stream",
     "text": [
      "[0 1 2 3 4 5 6 7]\n"
     ]
    }
   ],
   "source": [
    "arr = np.arange(8)\n",
    "\n",
    "print(np.sort(arr))\n"
   ]
  },
  {
   "cell_type": "code",
   "execution_count": 39,
   "metadata": {},
   "outputs": [
    {
     "name": "stdout",
     "output_type": "stream",
     "text": [
      "[[-0.12472147 -0.02914748  2.45485506  0.45493383]\n",
      " [-0.79967093 -0.96654433 -2.0121596  -1.54044829]\n",
      " [ 0.47202768 -0.49461798  0.98674145  0.40775558]]\n"
     ]
    }
   ],
   "source": [
    "arr = np.random.randn(3,4)\n",
    "\n",
    "print(arr)"
   ]
  },
  {
   "cell_type": "code",
   "execution_count": 41,
   "metadata": {},
   "outputs": [
    {
     "name": "stdout",
     "output_type": "stream",
     "text": [
      "[[-0.79967093 -0.96654433 -2.0121596  -1.54044829]\n",
      " [-0.12472147 -0.49461798  0.98674145  0.40775558]\n",
      " [ 0.47202768 -0.02914748  2.45485506  0.45493383]]\n"
     ]
    }
   ],
   "source": [
    "print(np.sort(arr,0))"
   ]
  },
  {
   "cell_type": "code",
   "execution_count": 45,
   "metadata": {},
   "outputs": [
    {
     "name": "stdout",
     "output_type": "stream",
     "text": [
      "50\n",
      "-1.7199358595751377\n"
     ]
    }
   ],
   "source": [
    "large_arr = np.random.randn(1000)\n",
    "\n",
    "arr_sort = np.sort(large_arr)\n",
    "\n",
    "print(int(0.05*len(arr_sort)))\n",
    "\n",
    "print(arr_sort[int(0.05*len(arr_sort))].sum())"
   ]
  },
  {
   "cell_type": "code",
   "execution_count": 46,
   "metadata": {},
   "outputs": [
    {
     "name": "stdout",
     "output_type": "stream",
     "text": [
      "['Bob' 'Joe' 'Will']\n"
     ]
    }
   ],
   "source": [
    "names = np.array(['Bob','Joe','Will','Bob','Will','Joe','Joe'])\n",
    "\n",
    "print(np.unique(names))"
   ]
  },
  {
   "cell_type": "code",
   "execution_count": 49,
   "metadata": {},
   "outputs": [
    {
     "name": "stdout",
     "output_type": "stream",
     "text": [
      "[[0 0 1]\n",
      " [0 0 1]\n",
      " [1 2 3]]\n"
     ]
    }
   ],
   "source": [
    "a = np.array([[1, 0, 0], [1, 0, 0], [3, 2, 1]])\n",
    "\n",
    "print(np.sort(a,axis = 1))"
   ]
  },
  {
   "cell_type": "code",
   "execution_count": 50,
   "metadata": {},
   "outputs": [
    {
     "name": "stdout",
     "output_type": "stream",
     "text": [
      "[ True False False  True  True False  True]\n"
     ]
    }
   ],
   "source": [
    "values= np.array([6, 0, 0, 3, 2, 5, 6])\n",
    "\n",
    "states = np.array([2, 3, 6])\n",
    "\n",
    "print(np.in1d(values, states))"
   ]
  },
  {
   "cell_type": "code",
   "execution_count": 54,
   "metadata": {},
   "outputs": [
    {
     "name": "stdout",
     "output_type": "stream",
     "text": [
      "[0 1 2 3 4 5 6 7 8 9]\n"
     ]
    }
   ],
   "source": [
    "arr = np.arange(10)\n",
    "\n",
    "print(arr)\n",
    "\n",
    "np.save('array', arr)\n",
    "\n",
    "np.savetxt('array.txt',arr)"
   ]
  },
  {
   "cell_type": "code",
   "execution_count": 53,
   "metadata": {},
   "outputs": [
    {
     "name": "stdout",
     "output_type": "stream",
     "text": [
      "[0 1 2 3 4 5 6 7 8 9]\n"
     ]
    }
   ],
   "source": [
    "a = np.load('array.npy')\n",
    "\n",
    "print(a)"
   ]
  },
  {
   "cell_type": "code",
   "execution_count": 55,
   "metadata": {},
   "outputs": [
    {
     "name": "stdout",
     "output_type": "stream",
     "text": [
      "[0. 1. 2. 3. 4. 5. 6. 7. 8. 9.]\n"
     ]
    }
   ],
   "source": [
    "a = np.loadtxt('array.txt')\n",
    "\n",
    "print(a)"
   ]
  },
  {
   "cell_type": "code",
   "execution_count": 56,
   "metadata": {},
   "outputs": [
    {
     "name": "stdout",
     "output_type": "stream",
     "text": [
      "[[1 2 3]\n",
      " [4 5 6]] [[  6 -23]\n",
      " [ -1   7]\n",
      " [  8   9]]\n"
     ]
    }
   ],
   "source": [
    "x = np.array([[1, 2, 3], [4, 5, 6]])\n",
    "\n",
    "y = np.array([[6, -23], [-1, 7], [8, 9]])\n",
    "\n",
    "print(x, y)"
   ]
  },
  {
   "cell_type": "code",
   "execution_count": 57,
   "metadata": {},
   "outputs": [
    {
     "name": "stdout",
     "output_type": "stream",
     "text": [
      "[[28 18]\n",
      " [67 -3]]\n"
     ]
    }
   ],
   "source": [
    "print(x.dot(y))"
   ]
  },
  {
   "cell_type": "code",
   "execution_count": 58,
   "metadata": {},
   "outputs": [
    {
     "name": "stdout",
     "output_type": "stream",
     "text": [
      "[[28 18]\n",
      " [67 -3]]\n"
     ]
    }
   ],
   "source": [
    "print(np.dot(x,y))"
   ]
  },
  {
   "cell_type": "code",
   "execution_count": 59,
   "metadata": {},
   "outputs": [
    {
     "name": "stdout",
     "output_type": "stream",
     "text": [
      "[ 6. 15.]\n"
     ]
    }
   ],
   "source": [
    "print(np.dot(x,np.ones(3)))"
   ]
  },
  {
   "cell_type": "code",
   "execution_count": 68,
   "metadata": {},
   "outputs": [
    {
     "name": "stdout",
     "output_type": "stream",
     "text": [
      "[[-0.9192605   0.17688292  0.78683401]\n",
      " [ 1.19270423  0.79004056 -1.83367677]]\n"
     ]
    }
   ],
   "source": [
    "X = np.random.randn(2, 3)\n",
    "\n",
    "print(X)"
   ]
  },
  {
   "cell_type": "code",
   "execution_count": 71,
   "metadata": {},
   "outputs": [
    {
     "name": "stdout",
     "output_type": "stream",
     "text": [
      "[[-0.9192605   1.19270423]\n",
      " [ 0.17688292  0.79004056]\n",
      " [ 0.78683401 -1.83367677]]\n",
      "[[ 3.62182534e+14  2.86064715e+14  3.58830617e+14]\n",
      " [-7.24365067e+14 -5.72129429e+14 -7.17661235e+14]\n",
      " [ 3.62182534e+14  2.86064715e+14  3.58830617e+14]]\n"
     ]
    }
   ],
   "source": [
    "print(X.T)\n",
    "\n",
    "mat = X.T.dot(x)\n",
    "\n",
    "print(np.linalg.inv(mat))"
   ]
  },
  {
   "cell_type": "code",
   "execution_count": 1,
   "metadata": {},
   "outputs": [
    {
     "name": "stdout",
     "output_type": "stream",
     "text": [
      "[[  4.23970178e-01   2.40902483e-02   3.39180346e-01   1.61957380e-03\n",
      "    6.34764135e-01]\n",
      " [  2.40902483e-02   3.41894309e-01  -9.35821872e-02  -8.95524642e-03\n",
      "    2.65367732e-01]\n",
      " [  3.39180346e-01  -9.35821872e-02   9.81050111e-01  -4.25103217e-01\n",
      "    7.17406433e-01]\n",
      " [  1.61957380e-03  -8.95524642e-03  -4.25103217e-01   9.78834290e-01\n",
      "   -6.88173757e-01]\n",
      " [  6.34764135e-01   2.65367732e-01   7.17406433e-01  -6.88173757e-01\n",
      "    2.02336738e+00]]\n"
     ]
    }
   ],
   "source": [
    "import numpy as np\n",
    "\n",
    "X = np.random.randn(5,5)\n",
    "\n",
    "mat = X.T.dot(X)\n",
    "\n",
    "print(np.linalg.inv(mat))"
   ]
  },
  {
   "cell_type": "code",
   "execution_count": 3,
   "metadata": {},
   "outputs": [
    {
     "name": "stdout",
     "output_type": "stream",
     "text": [
      "[[-0.8620223   0.15766565 -0.18841338 -0.35218419  0.26930614]\n",
      " [-0.1403372  -0.93568141  0.27195839 -0.1347922   0.11258538]\n",
      " [ 0.17637598 -0.26870991 -0.88347034  0.15338417  0.30436811]\n",
      " [ 0.30996006 -0.00924806 -0.18949026 -0.88469692 -0.2919658 ]\n",
      " [ 0.33172172  0.16538228  0.27223635 -0.22711674  0.85843739]] [[-10.2080211   -2.40239103   2.14317387   4.33229141   4.39503329]\n",
      " [  0.          -4.04875438  -1.45860331   0.15038695   1.18104839]\n",
      " [  0.           0.          -1.47009484  -0.48758061   0.48995139]\n",
      " [  0.           0.           0.          -1.29158367  -0.55153144]\n",
      " [  0.           0.           0.           0.           0.42426175]]\n"
     ]
    }
   ],
   "source": [
    "q,r = np.linalg.qr(mat)\n",
    "\n",
    "print(q,r)"
   ]
  },
  {
   "cell_type": "code",
   "execution_count": 2,
   "metadata": {},
   "outputs": [
    {
     "ename": "NameError",
     "evalue": "name 'xrange' is not defined",
     "output_type": "error",
     "traceback": [
      "\u001b[1;31m---------------------------------------------------------------------------\u001b[0m",
      "\u001b[1;31mNameError\u001b[0m                                 Traceback (most recent call last)",
      "\u001b[1;32m<ipython-input-2-b4372022ade7>\u001b[0m in \u001b[0;36m<module>\u001b[1;34m\u001b[0m\n\u001b[0;32m      7\u001b[0m \u001b[0msteps\u001b[0m \u001b[1;33m=\u001b[0m \u001b[1;36m1000\u001b[0m\u001b[1;33m\u001b[0m\u001b[1;33m\u001b[0m\u001b[0m\n\u001b[0;32m      8\u001b[0m \u001b[1;33m\u001b[0m\u001b[0m\n\u001b[1;32m----> 9\u001b[1;33m \u001b[1;32mfor\u001b[0m \u001b[0mi\u001b[0m \u001b[1;32min\u001b[0m \u001b[0mxrange\u001b[0m\u001b[1;33m(\u001b[0m\u001b[0msteps\u001b[0m\u001b[1;33m)\u001b[0m\u001b[1;33m:\u001b[0m\u001b[1;33m\u001b[0m\u001b[1;33m\u001b[0m\u001b[0m\n\u001b[0m\u001b[0;32m     10\u001b[0m     \u001b[0mstep\u001b[0m \u001b[1;33m=\u001b[0m \u001b[1;36m1\u001b[0m \u001b[1;32mif\u001b[0m \u001b[0mnp\u001b[0m\u001b[1;33m.\u001b[0m\u001b[0mrandom\u001b[0m\u001b[1;33m.\u001b[0m\u001b[0mrandint\u001b[0m\u001b[1;33m(\u001b[0m\u001b[1;36m0\u001b[0m\u001b[1;33m,\u001b[0m\u001b[1;36m1\u001b[0m\u001b[1;33m)\u001b[0m \u001b[1;32melse\u001b[0m \u001b[1;33m-\u001b[0m\u001b[1;36m1\u001b[0m\u001b[1;33m\u001b[0m\u001b[1;33m\u001b[0m\u001b[0m\n\u001b[0;32m     11\u001b[0m     \u001b[0mposition\u001b[0m \u001b[1;33m+=\u001b[0m \u001b[0mstep\u001b[0m\u001b[1;33m\u001b[0m\u001b[1;33m\u001b[0m\u001b[0m\n",
      "\u001b[1;31mNameError\u001b[0m: name 'xrange' is not defined"
     ]
    }
   ],
   "source": [
    "import numpy as np\n",
    "\n",
    "position = 0\n",
    "\n",
    "walk = [position]\n",
    "\n",
    "steps = 1000\n",
    "\n",
    "for i in xrange(steps):\n",
    "    step = 1 if np.random.randint(0,1) else -1\n",
    "    position += step\n",
    "    walk.append(position)"
   ]
  },
  {
   "cell_type": "code",
   "execution_count": 8,
   "metadata": {},
   "outputs": [
    {
     "name": "stdout",
     "output_type": "stream",
     "text": [
      "[0 1 1 1 0 0 0 1 1 0 0 1 1 0 0 1 1 1 1 0 1 0 0 0 1 0 1 1 0 1 0 1 1 1 1 0 1\n",
      " 0 1 1 1 0 0 1 0 1 0 1 0 1 1 1 1 1 1 0 0 1 1 1 1 0 0 1 0 0 0 0 0 1 1 1 1 0\n",
      " 1 0 0 1 1 1 0 0 0 1 0 1 1 1 1 0 0 0 0 1 1 0 1 0 1 0 0 1 1 1 0 0 1 0 1 1 0\n",
      " 0 0 1 1 1 1 1 0 0 1 1 0 0 0 0 1 1 1 1 0 1 1 0 1 0 1 0 0 0 1 0 1 0 1 1 1 1\n",
      " 0 0 1 0 1 1 1 1 1 0 1 0 1 1 0 0 1 1 1 0 1 1 0 1 1 0 1 0 1 0 1 0 0 1 1 1 1\n",
      " 0 0 0 0 1 0 1 1 0 1 1 0 1 0 0 0 0 0 0 0 1 1 1 1 0 1 1 0 1 1 1 1 1 0 1 1 1\n",
      " 1 0 1 0 1 0 0 0 0 0 0 1 1 1 1 0 0 0 0 0 1 1 0 0 0 1 1 1 1 1 0 1 0 1 1 1 0\n",
      " 0 1 1 1 1 1 0 0 0 0 0 1 0 1 0 1 1 0 0 1 0 0 0 0 1 0 0 0 1 0 1 0 0 0 1 0 0\n",
      " 1 1 0 1 0 0 0 1 0 0 0 0 0 0 0 1 0 0 1 1 0 1 0 0 1 0 0 0 1 0 1 0 0 0 1 0 0\n",
      " 1 0 1 1 1 0 1 0 0 1 1 1 0 1 1 1 0 0 0 1 0 0 0 0 1 0 1 1 1 1 0 0 1 0 0 0 0\n",
      " 1 0 0 0 0 0 0 0 0 1 1 1 0 0 0 1 1 0 0 0 0 1 1 0 0 0 0 1 1 0 0 1 1 1 0 0 0\n",
      " 1 0 0 1 1 0 0 0 1 0 0 1 1 1 0 1 1 0 1 1 1 1 0 0 1 0 0 1 1 1 1 0 0 0 0 1 1\n",
      " 0 0 1 0 1 0 1 0 1 0 0 0 0 1 0 1 1 1 0 0 0 1 1 1 0 1 1 0 0 0 1 0 0 1 1 0 1\n",
      " 0 1 1 1 0 1 0 1 0 0 0 0 0 0 0 1 1 0 1 0 1 0 0 0 0 1 1 1 0 0 1 1 1 0 1 1 1\n",
      " 1 1 0 1 0 0 1 1 1 1 0 1 1 0 1 0 1 1 1 0 1 0 1 0 0 0 0 1 1 1 1 1 0 1 1 1 0\n",
      " 1 0 0 1 0 0 0 0 0 1 1 0 1 0 0 1 1 0 0 0 0 1 0 1 0 1 0 1 0 0 1 1 1 1 1 0 1\n",
      " 1 1 0 0 1 0 1 0 0 1 1 1 1 1 1 0 0 1 1 0 0 1 1 0 0 1 1 1 1 1 1 1 0 1 1 0 0\n",
      " 0 1 0 0 0 0 1 0 1 1 0 1 1 1 0 1 0 1 1 0 1 1 0 1 0 1 1 0 1 0 1 1 0 1 0 0 1\n",
      " 0 1 0 0 1 1 0 1 1 1 0 1 0 0 0 1 0 1 1 0 0 0 0 1 0 0 1 0 1 1 0 1 1 1 1 1 0\n",
      " 1 0 1 1 1 0 0 1 1 1 0 0 0 1 0 1 0 0 0 1 0 0 1 0 1 0 0 1 0 1 1 1 0 1 1 0 0\n",
      " 1 0 1 1 1 1 1 0 0 1 1 0 1 0 1 1 1 1 0 0 0 1 0 1 1 0 1 1 0 0 1 1 0 1 0 1 0\n",
      " 1 1 0 0 0 1 1 1 0 0 1 1 0 1 0 0 0 0 1 0 1 1 0 1 1 1 1 0 1 1 1 0 0 0 1 0 1\n",
      " 1 1 1 1 1 0 1 0 0 0 1 1 1 1 1 1 1 1 1 1 0 0 0 0 0 0 1 1 0 0 0 0 0 0 0 0 0\n",
      " 0 0 0 1 1 0 0 1 1 1 0 1 1 1 0 1 0 1 1 1 0 1 0 0 1 0 1 1 1 1 0 0 0 1 1 1 1\n",
      " 1 1 1 0 0 1 1 1 1 0 0 0 0 1 1 1 0 1 0 0 0 1 0 0 1 1 1 0 0 0 0 0 1 0 0 1 1\n",
      " 0 0 1 1 1 0 1 0 0 1 0 0 0 0 0 0 1 0 1 0 0 1 1 0 1 1 1 1 0 0 0 0 1 0 1 1 0\n",
      " 1 0 1 1 0 0 1 0 1 0 1 1 1 1 1 1 1 0 0 1 0 0 0 0 0 0 0 0 0 0 1 0 0 1 1 0 0\n",
      " 0]\n",
      "[-1  1  1  1 -1 -1 -1  1  1 -1 -1  1  1 -1 -1  1  1  1  1 -1  1 -1 -1 -1\n",
      "  1 -1  1  1 -1  1 -1  1  1  1  1 -1  1 -1  1  1  1 -1 -1  1 -1  1 -1  1\n",
      " -1  1  1  1  1  1  1 -1 -1  1  1  1  1 -1 -1  1 -1 -1 -1 -1 -1  1  1  1\n",
      "  1 -1  1 -1 -1  1  1  1 -1 -1 -1  1 -1  1  1  1  1 -1 -1 -1 -1  1  1 -1\n",
      "  1 -1  1 -1 -1  1  1  1 -1 -1  1 -1  1  1 -1 -1 -1  1  1  1  1  1 -1 -1\n",
      "  1  1 -1 -1 -1 -1  1  1  1  1 -1  1  1 -1  1 -1  1 -1 -1 -1  1 -1  1 -1\n",
      "  1  1  1  1 -1 -1  1 -1  1  1  1  1  1 -1  1 -1  1  1 -1 -1  1  1  1 -1\n",
      "  1  1 -1  1  1 -1  1 -1  1 -1  1 -1 -1  1  1  1  1 -1 -1 -1 -1  1 -1  1\n",
      "  1 -1  1  1 -1  1 -1 -1 -1 -1 -1 -1 -1  1  1  1  1 -1  1  1 -1  1  1  1\n",
      "  1  1 -1  1  1  1  1 -1  1 -1  1 -1 -1 -1 -1 -1 -1  1  1  1  1 -1 -1 -1\n",
      " -1 -1  1  1 -1 -1 -1  1  1  1  1  1 -1  1 -1  1  1  1 -1 -1  1  1  1  1\n",
      "  1 -1 -1 -1 -1 -1  1 -1  1 -1  1  1 -1 -1  1 -1 -1 -1 -1  1 -1 -1 -1  1\n",
      " -1  1 -1 -1 -1  1 -1 -1  1  1 -1  1 -1 -1 -1  1 -1 -1 -1 -1 -1 -1 -1  1\n",
      " -1 -1  1  1 -1  1 -1 -1  1 -1 -1 -1  1 -1  1 -1 -1 -1  1 -1 -1  1 -1  1\n",
      "  1  1 -1  1 -1 -1  1  1  1 -1  1  1  1 -1 -1 -1  1 -1 -1 -1 -1  1 -1  1\n",
      "  1  1  1 -1 -1  1 -1 -1 -1 -1  1 -1 -1 -1 -1 -1 -1 -1 -1  1  1  1 -1 -1\n",
      " -1  1  1 -1 -1 -1 -1  1  1 -1 -1 -1 -1  1  1 -1 -1  1  1  1 -1 -1 -1  1\n",
      " -1 -1  1  1 -1 -1 -1  1 -1 -1  1  1  1 -1  1  1 -1  1  1  1  1 -1 -1  1\n",
      " -1 -1  1  1  1  1 -1 -1 -1 -1  1  1 -1 -1  1 -1  1 -1  1 -1  1 -1 -1 -1\n",
      " -1  1 -1  1  1  1 -1 -1 -1  1  1  1 -1  1  1 -1 -1 -1  1 -1 -1  1  1 -1\n",
      "  1 -1  1  1  1 -1  1 -1  1 -1 -1 -1 -1 -1 -1 -1  1  1 -1  1 -1  1 -1 -1\n",
      " -1 -1  1  1  1 -1 -1  1  1  1 -1  1  1  1  1  1 -1  1 -1 -1  1  1  1  1\n",
      " -1  1  1 -1  1 -1  1  1  1 -1  1 -1  1 -1 -1 -1 -1  1  1  1  1  1 -1  1\n",
      "  1  1 -1  1 -1 -1  1 -1 -1 -1 -1 -1  1  1 -1  1 -1 -1  1  1 -1 -1 -1 -1\n",
      "  1 -1  1 -1  1 -1  1 -1 -1  1  1  1  1  1 -1  1  1  1 -1 -1  1 -1  1 -1\n",
      " -1  1  1  1  1  1  1 -1 -1  1  1 -1 -1  1  1 -1 -1  1  1  1  1  1  1  1\n",
      " -1  1  1 -1 -1 -1  1 -1 -1 -1 -1  1 -1  1  1 -1  1  1  1 -1  1 -1  1  1\n",
      " -1  1  1 -1  1 -1  1  1 -1  1 -1  1  1 -1  1 -1 -1  1 -1  1 -1 -1  1  1\n",
      " -1  1  1  1 -1  1 -1 -1 -1  1 -1  1  1 -1 -1 -1 -1  1 -1 -1  1 -1  1  1\n",
      " -1  1  1  1  1  1 -1  1 -1  1  1  1 -1 -1  1  1  1 -1 -1 -1  1 -1  1 -1\n",
      " -1 -1  1 -1 -1  1 -1  1 -1 -1  1 -1  1  1  1 -1  1  1 -1 -1  1 -1  1  1\n",
      "  1  1  1 -1 -1  1  1 -1  1 -1  1  1  1  1 -1 -1 -1  1 -1  1  1 -1  1  1\n",
      " -1 -1  1  1 -1  1 -1  1 -1  1  1 -1 -1 -1  1  1  1 -1 -1  1  1 -1  1 -1\n",
      " -1 -1 -1  1 -1  1  1 -1  1  1  1  1 -1  1  1  1 -1 -1 -1  1 -1  1  1  1\n",
      "  1  1  1 -1  1 -1 -1 -1  1  1  1  1  1  1  1  1  1  1 -1 -1 -1 -1 -1 -1\n",
      "  1  1 -1 -1 -1 -1 -1 -1 -1 -1 -1 -1 -1 -1  1  1 -1 -1  1  1  1 -1  1  1\n",
      "  1 -1  1 -1  1  1  1 -1  1 -1 -1  1 -1  1  1  1  1 -1 -1 -1  1  1  1  1\n",
      "  1  1  1 -1 -1  1  1  1  1 -1 -1 -1 -1  1  1  1 -1  1 -1 -1 -1  1 -1 -1\n",
      "  1  1  1 -1 -1 -1 -1 -1  1 -1 -1  1  1 -1 -1  1  1  1 -1  1 -1 -1  1 -1\n",
      " -1 -1 -1 -1 -1  1 -1  1 -1 -1  1  1 -1  1  1  1  1 -1 -1 -1 -1  1 -1  1\n",
      "  1 -1  1 -1  1  1 -1 -1  1 -1  1 -1  1  1  1  1  1  1  1 -1 -1  1 -1 -1\n",
      " -1 -1 -1 -1 -1 -1 -1 -1  1 -1 -1  1  1 -1 -1 -1]\n",
      "[ -1   0   1   2   1   0  -1   0   1   0  -1   0   1   0  -1   0   1   2\n",
      "   3   2   3   2   1   0   1   0   1   2   1   2   1   2   3   4   5   4\n",
      "   5   4   5   6   7   6   5   6   5   6   5   6   5   6   7   8   9  10\n",
      "  11  10   9  10  11  12  13  12  11  12  11  10   9   8   7   8   9  10\n",
      "  11  10  11  10   9  10  11  12  11  10   9  10   9  10  11  12  13  12\n",
      "  11  10   9  10  11  10  11  10  11  10   9  10  11  12  11  10  11  10\n",
      "  11  12  11  10   9  10  11  12  13  14  13  12  13  14  13  12  11  10\n",
      "  11  12  13  14  13  14  15  14  15  14  15  14  13  12  13  12  13  12\n",
      "  13  14  15  16  15  14  15  14  15  16  17  18  19  18  19  18  19  20\n",
      "  19  18  19  20  21  20  21  22  21  22  23  22  23  22  23  22  23  22\n",
      "  21  22  23  24  25  24  23  22  21  22  21  22  23  22  23  24  23  24\n",
      "  23  22  21  20  19  18  17  18  19  20  21  20  21  22  21  22  23  24\n",
      "  25  26  25  26  27  28  29  28  29  28  29  28  27  26  25  24  23  24\n",
      "  25  26  27  26  25  24  23  22  23  24  23  22  21  22  23  24  25  26\n",
      "  25  26  25  26  27  28  27  26  27  28  29  30  31  30  29  28  27  26\n",
      "  27  26  27  26  27  28  27  26  27  26  25  24  23  24  23  22  21  22\n",
      "  21  22  21  20  19  20  19  18  19  20  19  20  19  18  17  18  17  16\n",
      "  15  14  13  12  11  12  11  10  11  12  11  12  11  10  11  10   9   8\n",
      "   9   8   9   8   7   6   7   6   5   6   5   6   7   8   7   8   7   6\n",
      "   7   8   9   8   9  10  11  10   9   8   9   8   7   6   5   6   5   6\n",
      "   7   8   9   8   7   8   7   6   5   4   5   4   3   2   1   0  -1  -2\n",
      "  -3  -2  -1   0  -1  -2  -3  -2  -1  -2  -3  -4  -5  -4  -3  -4  -5  -6\n",
      "  -7  -6  -5  -6  -7  -6  -5  -4  -5  -6  -7  -6  -7  -8  -7  -6  -7  -8\n",
      "  -9  -8  -9 -10  -9  -8  -7  -8  -7  -6  -7  -6  -5  -4  -3  -4  -5  -4\n",
      "  -5  -6  -5  -4  -3  -2  -3  -4  -5  -6  -5  -4  -5  -6  -5  -6  -5  -6\n",
      "  -5  -6  -5  -6  -7  -8  -9  -8  -9  -8  -7  -6  -7  -8  -9  -8  -7  -6\n",
      "  -7  -6  -5  -6  -7  -8  -7  -8  -9  -8  -7  -8  -7  -8  -7  -6  -5  -6\n",
      "  -5  -6  -5  -6  -7  -8  -9 -10 -11 -12 -11 -10 -11 -10 -11 -10 -11 -12\n",
      " -13 -14 -13 -12 -11 -12 -13 -12 -11 -10 -11 -10  -9  -8  -7  -6  -7  -6\n",
      "  -7  -8  -7  -6  -5  -4  -5  -4  -3  -4  -3  -4  -3  -2  -1  -2  -1  -2\n",
      "  -1  -2  -3  -4  -5  -4  -3  -2  -1   0  -1   0   1   2   1   2   1   0\n",
      "   1   0  -1  -2  -3  -4  -3  -2  -3  -2  -3  -4  -3  -2  -3  -4  -5  -6\n",
      "  -5  -6  -5  -6  -5  -6  -5  -6  -7  -6  -5  -4  -3  -2  -3  -2  -1   0\n",
      "  -1  -2  -1  -2  -1  -2  -3  -2  -1   0   1   2   3   2   1   2   3   2\n",
      "   1   2   3   2   1   2   3   4   5   6   7   8   7   8   9   8   7   6\n",
      "   7   6   5   4   3   4   3   4   5   4   5   6   7   6   7   6   7   8\n",
      "   7   8   9   8   9   8   9  10   9  10   9  10  11  10  11  10   9  10\n",
      "   9  10   9   8   9  10   9  10  11  12  11  12  11  10   9  10   9  10\n",
      "  11  10   9   8   7   8   7   6   7   6   7   8   7   8   9  10  11  12\n",
      "  11  12  11  12  13  14  13  12  13  14  15  14  13  12  13  12  13  12\n",
      "  11  10  11  10   9  10   9  10   9   8   9   8   9  10  11  10  11  12\n",
      "  11  10  11  10  11  12  13  14  15  14  13  14  15  14  15  14  15  16\n",
      "  17  18  17  16  15  16  15  16  17  16  17  18  17  16  17  18  17  18\n",
      "  17  18  17  18  19  18  17  16  17  18  19  18  17  18  19  18  19  18\n",
      "  17  16  15  16  15  16  17  16  17  18  19  20  19  20  21  22  21  20\n",
      "  19  20  19  20  21  22  23  24  25  24  25  24  23  22  23  24  25  26\n",
      "  27  28  29  30  31  32  31  30  29  28  27  26  27  28  27  26  25  24\n",
      "  23  22  21  20  19  18  17  16  17  18  17  16  17  18  19  18  19  20\n",
      "  21  20  21  20  21  22  23  22  23  22  21  22  21  22  23  24  25  24\n",
      "  23  22  23  24  25  26  27  28  29  28  27  28  29  30  31  30  29  28\n",
      "  27  28  29  30  29  30  29  28  27  28  27  26  27  28  29  28  27  26\n",
      "  25  24  25  24  23  24  25  24  23  24  25  26  25  26  25  24  25  24\n",
      "  23  22  21  20  19  20  19  20  19  18  19  20  19  20  21  22  23  22\n",
      "  21  20  19  20  19  20  21  20  21  20  21  22  21  20  21  20  21  20\n",
      "  21  22  23  24  25  26  27  26  25  26  25  24  23  22  21  20  19  18\n",
      "  17  16  17  16  15  16  17  16  15  14]\n",
      "-14 32\n",
      "53\n"
     ]
    }
   ],
   "source": [
    "nsteps = 1000\n",
    "\n",
    "draws = np.random.randint(0, 2, size = nsteps)\n",
    "\n",
    "print(draws)\n",
    "\n",
    "steps = np.where(draws > 0, 1, -1)\n",
    "\n",
    "print(steps)\n",
    "\n",
    "walk = steps.cumsum()\n",
    "\n",
    "print(walk)\n",
    "\n",
    "print(walk.min(),walk.max())\n",
    "\n",
    "print((np.abs(walk) >= 10).argmax())"
   ]
  },
  {
   "cell_type": "code",
   "execution_count": 14,
   "metadata": {},
   "outputs": [
    {
     "name": "stdout",
     "output_type": "stream",
     "text": [
      "[[1 1 1 ... 1 1 0]\n",
      " [1 0 1 ... 0 0 0]\n",
      " [0 1 0 ... 1 1 0]\n",
      " ...\n",
      " [0 1 0 ... 0 1 0]\n",
      " [0 0 0 ... 0 0 1]\n",
      " [1 1 1 ... 1 1 0]]\n",
      "[ -1   0   1   2   1   0  -1   0   1   0  -1   0   1   0  -1   0   1   2\n",
      "   3   2   3   2   1   0   1   0   1   2   1   2   1   2   3   4   5   4\n",
      "   5   4   5   6   7   6   5   6   5   6   5   6   5   6   7   8   9  10\n",
      "  11  10   9  10  11  12  13  12  11  12  11  10   9   8   7   8   9  10\n",
      "  11  10  11  10   9  10  11  12  11  10   9  10   9  10  11  12  13  12\n",
      "  11  10   9  10  11  10  11  10  11  10   9  10  11  12  11  10  11  10\n",
      "  11  12  11  10   9  10  11  12  13  14  13  12  13  14  13  12  11  10\n",
      "  11  12  13  14  13  14  15  14  15  14  15  14  13  12  13  12  13  12\n",
      "  13  14  15  16  15  14  15  14  15  16  17  18  19  18  19  18  19  20\n",
      "  19  18  19  20  21  20  21  22  21  22  23  22  23  22  23  22  23  22\n",
      "  21  22  23  24  25  24  23  22  21  22  21  22  23  22  23  24  23  24\n",
      "  23  22  21  20  19  18  17  18  19  20  21  20  21  22  21  22  23  24\n",
      "  25  26  25  26  27  28  29  28  29  28  29  28  27  26  25  24  23  24\n",
      "  25  26  27  26  25  24  23  22  23  24  23  22  21  22  23  24  25  26\n",
      "  25  26  25  26  27  28  27  26  27  28  29  30  31  30  29  28  27  26\n",
      "  27  26  27  26  27  28  27  26  27  26  25  24  23  24  23  22  21  22\n",
      "  21  22  21  20  19  20  19  18  19  20  19  20  19  18  17  18  17  16\n",
      "  15  14  13  12  11  12  11  10  11  12  11  12  11  10  11  10   9   8\n",
      "   9   8   9   8   7   6   7   6   5   6   5   6   7   8   7   8   7   6\n",
      "   7   8   9   8   9  10  11  10   9   8   9   8   7   6   5   6   5   6\n",
      "   7   8   9   8   7   8   7   6   5   4   5   4   3   2   1   0  -1  -2\n",
      "  -3  -2  -1   0  -1  -2  -3  -2  -1  -2  -3  -4  -5  -4  -3  -4  -5  -6\n",
      "  -7  -6  -5  -6  -7  -6  -5  -4  -5  -6  -7  -6  -7  -8  -7  -6  -7  -8\n",
      "  -9  -8  -9 -10  -9  -8  -7  -8  -7  -6  -7  -6  -5  -4  -3  -4  -5  -4\n",
      "  -5  -6  -5  -4  -3  -2  -3  -4  -5  -6  -5  -4  -5  -6  -5  -6  -5  -6\n",
      "  -5  -6  -5  -6  -7  -8  -9  -8  -9  -8  -7  -6  -7  -8  -9  -8  -7  -6\n",
      "  -7  -6  -5  -6  -7  -8  -7  -8  -9  -8  -7  -8  -7  -8  -7  -6  -5  -6\n",
      "  -5  -6  -5  -6  -7  -8  -9 -10 -11 -12 -11 -10 -11 -10 -11 -10 -11 -12\n",
      " -13 -14 -13 -12 -11 -12 -13 -12 -11 -10 -11 -10  -9  -8  -7  -6  -7  -6\n",
      "  -7  -8  -7  -6  -5  -4  -5  -4  -3  -4  -3  -4  -3  -2  -1  -2  -1  -2\n",
      "  -1  -2  -3  -4  -5  -4  -3  -2  -1   0  -1   0   1   2   1   2   1   0\n",
      "   1   0  -1  -2  -3  -4  -3  -2  -3  -2  -3  -4  -3  -2  -3  -4  -5  -6\n",
      "  -5  -6  -5  -6  -5  -6  -5  -6  -7  -6  -5  -4  -3  -2  -3  -2  -1   0\n",
      "  -1  -2  -1  -2  -1  -2  -3  -2  -1   0   1   2   3   2   1   2   3   2\n",
      "   1   2   3   2   1   2   3   4   5   6   7   8   7   8   9   8   7   6\n",
      "   7   6   5   4   3   4   3   4   5   4   5   6   7   6   7   6   7   8\n",
      "   7   8   9   8   9   8   9  10   9  10   9  10  11  10  11  10   9  10\n",
      "   9  10   9   8   9  10   9  10  11  12  11  12  11  10   9  10   9  10\n",
      "  11  10   9   8   7   8   7   6   7   6   7   8   7   8   9  10  11  12\n",
      "  11  12  11  12  13  14  13  12  13  14  15  14  13  12  13  12  13  12\n",
      "  11  10  11  10   9  10   9  10   9   8   9   8   9  10  11  10  11  12\n",
      "  11  10  11  10  11  12  13  14  15  14  13  14  15  14  15  14  15  16\n",
      "  17  18  17  16  15  16  15  16  17  16  17  18  17  16  17  18  17  18\n",
      "  17  18  17  18  19  18  17  16  17  18  19  18  17  18  19  18  19  18\n",
      "  17  16  15  16  15  16  17  16  17  18  19  20  19  20  21  22  21  20\n",
      "  19  20  19  20  21  22  23  24  25  24  25  24  23  22  23  24  25  26\n",
      "  27  28  29  30  31  32  31  30  29  28  27  26  27  28  27  26  25  24\n",
      "  23  22  21  20  19  18  17  16  17  18  17  16  17  18  19  18  19  20\n",
      "  21  20  21  20  21  22  23  22  23  22  21  22  21  22  23  24  25  24\n",
      "  23  22  23  24  25  26  27  28  29  28  27  28  29  30  31  30  29  28\n",
      "  27  28  29  30  29  30  29  28  27  28  27  26  27  28  29  28  27  26\n",
      "  25  24  25  24  23  24  25  24  23  24  25  26  25  26  25  24  25  24\n",
      "  23  22  21  20  19  20  19  20  19  18  19  20  19  20  21  22  23  22\n",
      "  21  20  19  20  19  20  21  20  21  20  21  22  21  20  21  20  21  20\n",
      "  21  22  23  24  25  26  27  26  25  26  25  24  23  22  21  20  19  18\n",
      "  17  16  17  16  15  16  17  16  15  14]\n",
      "-14 32\n",
      "[ True False  True ...  True False  True]\n",
      "3365\n"
     ]
    }
   ],
   "source": [
    "nwalks = 5000\n",
    "\n",
    "nsteps = 1000\n",
    "\n",
    "draws = np.random.randint(0, 2, size = (nwalks, nsteps))\n",
    "\n",
    "print(draws)\n",
    "\n",
    "steps = np.where(draws > 0, 1, -1)\n",
    "\n",
    "walks = steps.cumsum(1)\n",
    "\n",
    "print(walk)\n",
    "\n",
    "print(walk.min(), walk.max())\n",
    "\n",
    "hits30 = (np.abs(walks) >= 30).any(1)\n",
    "\n",
    "print(hits30)\n",
    "\n",
    "print(hits30.sum())"
   ]
  },
  {
   "cell_type": "code",
   "execution_count": 15,
   "metadata": {},
   "outputs": [
    {
     "name": "stdout",
     "output_type": "stream",
     "text": [
      "512.1037147102526\n"
     ]
    }
   ],
   "source": [
    "crossing_times = (np.abs(walks[hits30]) >= 30).argmax(1)\n",
    "\n",
    "print(crossing_times.mean())"
   ]
  },
  {
   "cell_type": "code",
   "execution_count": null,
   "metadata": {},
   "outputs": [],
   "source": []
  }
 ],
 "metadata": {
  "kernelspec": {
   "display_name": "Python 3",
   "language": "python",
   "name": "python3"
  },
  "language_info": {
   "codemirror_mode": {
    "name": "ipython",
    "version": 3
   },
   "file_extension": ".py",
   "mimetype": "text/x-python",
   "name": "python",
   "nbconvert_exporter": "python",
   "pygments_lexer": "ipython3",
   "version": "3.7.1"
  }
 },
 "nbformat": 4,
 "nbformat_minor": 2
}
