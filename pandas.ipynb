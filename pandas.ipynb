{
 "cells": [
  {
   "cell_type": "code",
   "execution_count": 1,
   "metadata": {},
   "outputs": [
    {
     "name": "stdout",
     "output_type": "stream",
     "text": [
      "  key  data1\n",
      "0   b      0\n",
      "1   b      1\n",
      "2   a      2\n",
      "3   c      3\n",
      "4   a      4\n",
      "5   a      5\n",
      "6   b      6\n",
      "  key  data2\n",
      "0   a      0\n",
      "1   b      1\n",
      "2   d      2\n"
     ]
    },
    {
     "data": {
      "text/html": [
       "<div>\n",
       "<style scoped>\n",
       "    .dataframe tbody tr th:only-of-type {\n",
       "        vertical-align: middle;\n",
       "    }\n",
       "\n",
       "    .dataframe tbody tr th {\n",
       "        vertical-align: top;\n",
       "    }\n",
       "\n",
       "    .dataframe thead th {\n",
       "        text-align: right;\n",
       "    }\n",
       "</style>\n",
       "<table border=\"1\" class=\"dataframe\">\n",
       "  <thead>\n",
       "    <tr style=\"text-align: right;\">\n",
       "      <th></th>\n",
       "      <th>key</th>\n",
       "      <th>data1</th>\n",
       "      <th>data2</th>\n",
       "    </tr>\n",
       "  </thead>\n",
       "  <tbody>\n",
       "    <tr>\n",
       "      <th>0</th>\n",
       "      <td>b</td>\n",
       "      <td>0</td>\n",
       "      <td>1</td>\n",
       "    </tr>\n",
       "    <tr>\n",
       "      <th>1</th>\n",
       "      <td>b</td>\n",
       "      <td>1</td>\n",
       "      <td>1</td>\n",
       "    </tr>\n",
       "    <tr>\n",
       "      <th>2</th>\n",
       "      <td>b</td>\n",
       "      <td>6</td>\n",
       "      <td>1</td>\n",
       "    </tr>\n",
       "    <tr>\n",
       "      <th>3</th>\n",
       "      <td>a</td>\n",
       "      <td>2</td>\n",
       "      <td>0</td>\n",
       "    </tr>\n",
       "    <tr>\n",
       "      <th>4</th>\n",
       "      <td>a</td>\n",
       "      <td>4</td>\n",
       "      <td>0</td>\n",
       "    </tr>\n",
       "    <tr>\n",
       "      <th>5</th>\n",
       "      <td>a</td>\n",
       "      <td>5</td>\n",
       "      <td>0</td>\n",
       "    </tr>\n",
       "  </tbody>\n",
       "</table>\n",
       "</div>"
      ],
      "text/plain": [
       "  key  data1  data2\n",
       "0   b      0      1\n",
       "1   b      1      1\n",
       "2   b      6      1\n",
       "3   a      2      0\n",
       "4   a      4      0\n",
       "5   a      5      0"
      ]
     },
     "execution_count": 1,
     "metadata": {},
     "output_type": "execute_result"
    }
   ],
   "source": [
    "import pandas as pd\n",
    "\n",
    "df1 = pd.DataFrame({'key':['b','b','a','c','a','a','b'],'data1':range(7)})\n",
    "\n",
    "df2 = pd.DataFrame({'key':['a','b','d'],'data2':range(3)})\n",
    "\n",
    "print(df1)\n",
    "print(df2)\n",
    "\n",
    "pd.merge(df1,df2,on = 'key',how = 'inner')"
   ]
  },
  {
   "cell_type": "code",
   "execution_count": 2,
   "metadata": {},
   "outputs": [
    {
     "name": "stdout",
     "output_type": "stream",
     "text": [
      "  key1 key2  lval\n",
      "0  foo  one     1\n",
      "1  foo  two     2\n",
      "2  bar  one     3\n",
      "  key1 key2  rval\n",
      "0  foo  one     4\n",
      "1  foo  one     5\n",
      "2  bar  one     6\n",
      "3  bar  two     7\n"
     ]
    },
    {
     "data": {
      "text/html": [
       "<div>\n",
       "<style scoped>\n",
       "    .dataframe tbody tr th:only-of-type {\n",
       "        vertical-align: middle;\n",
       "    }\n",
       "\n",
       "    .dataframe tbody tr th {\n",
       "        vertical-align: top;\n",
       "    }\n",
       "\n",
       "    .dataframe thead th {\n",
       "        text-align: right;\n",
       "    }\n",
       "</style>\n",
       "<table border=\"1\" class=\"dataframe\">\n",
       "  <thead>\n",
       "    <tr style=\"text-align: right;\">\n",
       "      <th></th>\n",
       "      <th>key1</th>\n",
       "      <th>key2_left</th>\n",
       "      <th>lval</th>\n",
       "      <th>key2_right</th>\n",
       "      <th>rval</th>\n",
       "    </tr>\n",
       "  </thead>\n",
       "  <tbody>\n",
       "    <tr>\n",
       "      <th>0</th>\n",
       "      <td>foo</td>\n",
       "      <td>one</td>\n",
       "      <td>1</td>\n",
       "      <td>one</td>\n",
       "      <td>4</td>\n",
       "    </tr>\n",
       "    <tr>\n",
       "      <th>1</th>\n",
       "      <td>foo</td>\n",
       "      <td>one</td>\n",
       "      <td>1</td>\n",
       "      <td>one</td>\n",
       "      <td>5</td>\n",
       "    </tr>\n",
       "    <tr>\n",
       "      <th>2</th>\n",
       "      <td>foo</td>\n",
       "      <td>two</td>\n",
       "      <td>2</td>\n",
       "      <td>one</td>\n",
       "      <td>4</td>\n",
       "    </tr>\n",
       "    <tr>\n",
       "      <th>3</th>\n",
       "      <td>foo</td>\n",
       "      <td>two</td>\n",
       "      <td>2</td>\n",
       "      <td>one</td>\n",
       "      <td>5</td>\n",
       "    </tr>\n",
       "    <tr>\n",
       "      <th>4</th>\n",
       "      <td>bar</td>\n",
       "      <td>one</td>\n",
       "      <td>3</td>\n",
       "      <td>one</td>\n",
       "      <td>6</td>\n",
       "    </tr>\n",
       "    <tr>\n",
       "      <th>5</th>\n",
       "      <td>bar</td>\n",
       "      <td>one</td>\n",
       "      <td>3</td>\n",
       "      <td>two</td>\n",
       "      <td>7</td>\n",
       "    </tr>\n",
       "  </tbody>\n",
       "</table>\n",
       "</div>"
      ],
      "text/plain": [
       "  key1 key2_left  lval key2_right  rval\n",
       "0  foo       one     1        one     4\n",
       "1  foo       one     1        one     5\n",
       "2  foo       two     2        one     4\n",
       "3  foo       two     2        one     5\n",
       "4  bar       one     3        one     6\n",
       "5  bar       one     3        two     7"
      ]
     },
     "execution_count": 2,
     "metadata": {},
     "output_type": "execute_result"
    }
   ],
   "source": [
    "left = pd.DataFrame({'key1':['foo','foo','bar'],'key2':['one','two','one'],'lval':[1,2,3]})\n",
    "\n",
    "right = pd.DataFrame({'key1':['foo','foo','bar','bar'],'key2':['one','one','one','two'],'rval':[4,5,6,7]})\n",
    "\n",
    "print(left)\n",
    "\n",
    "print(right)\n",
    "\n",
    "# pd.merge(left,right,on = ['key1','key2'], how = 'outer')\n",
    "\n",
    "pd.merge(left,right,on = ['key1'], suffixes = ('_left','_right'))"
   ]
  },
  {
   "cell_type": "code",
   "execution_count": 3,
   "metadata": {},
   "outputs": [
    {
     "data": {
      "text/html": [
       "<div>\n",
       "<style scoped>\n",
       "    .dataframe tbody tr th:only-of-type {\n",
       "        vertical-align: middle;\n",
       "    }\n",
       "\n",
       "    .dataframe tbody tr th {\n",
       "        vertical-align: top;\n",
       "    }\n",
       "\n",
       "    .dataframe thead th {\n",
       "        text-align: right;\n",
       "    }\n",
       "</style>\n",
       "<table border=\"1\" class=\"dataframe\">\n",
       "  <thead>\n",
       "    <tr style=\"text-align: right;\">\n",
       "      <th></th>\n",
       "      <th>group_val</th>\n",
       "      <th>key</th>\n",
       "      <th>value</th>\n",
       "    </tr>\n",
       "  </thead>\n",
       "  <tbody>\n",
       "    <tr>\n",
       "      <th>0</th>\n",
       "      <td>3.5</td>\n",
       "      <td>a</td>\n",
       "      <td>0</td>\n",
       "    </tr>\n",
       "    <tr>\n",
       "      <th>2</th>\n",
       "      <td>3.5</td>\n",
       "      <td>a</td>\n",
       "      <td>2</td>\n",
       "    </tr>\n",
       "    <tr>\n",
       "      <th>3</th>\n",
       "      <td>3.5</td>\n",
       "      <td>a</td>\n",
       "      <td>3</td>\n",
       "    </tr>\n",
       "    <tr>\n",
       "      <th>1</th>\n",
       "      <td>7</td>\n",
       "      <td>b</td>\n",
       "      <td>1</td>\n",
       "    </tr>\n",
       "    <tr>\n",
       "      <th>4</th>\n",
       "      <td>7</td>\n",
       "      <td>b</td>\n",
       "      <td>4</td>\n",
       "    </tr>\n",
       "  </tbody>\n",
       "</table>\n",
       "</div>"
      ],
      "text/plain": [
       "  group_val key  value\n",
       "0       3.5   a      0\n",
       "2       3.5   a      2\n",
       "3       3.5   a      3\n",
       "1         7   b      1\n",
       "4         7   b      4"
      ]
     },
     "execution_count": 3,
     "metadata": {},
     "output_type": "execute_result"
    }
   ],
   "source": [
    "left1 = pd.DataFrame({'key':['a','b','a','a','b','c'],'value':range(6)})\n",
    "\n",
    "right1 = pd.DataFrame({'group_val':['3.5','7']}, index = ['a','b'])\n",
    "\n",
    "pd.merge(right1, left1, right_on = 'key', left_index = True)"
   ]
  },
  {
   "cell_type": "code",
   "execution_count": 4,
   "metadata": {},
   "outputs": [
    {
     "name": "stdout",
     "output_type": "stream",
     "text": [
      "     key1  key2  data\n",
      "0    Ohio  2000   0.0\n",
      "1    Ohio  2001   1.0\n",
      "2    Ohio  2002   2.0\n",
      "3  Nevada  2001   3.0\n",
      "4  Nevada  2002   4.0\n",
      "\n",
      "             event1  event2\n",
      "Nevada 2001       0       1\n",
      "       2000       2       3\n",
      "Ohio   2000       4       5\n",
      "       2000       6       7\n",
      "       2001       8       9\n",
      "       2002      10      11\n",
      "\n"
     ]
    },
    {
     "data": {
      "text/html": [
       "<div>\n",
       "<style scoped>\n",
       "    .dataframe tbody tr th:only-of-type {\n",
       "        vertical-align: middle;\n",
       "    }\n",
       "\n",
       "    .dataframe tbody tr th {\n",
       "        vertical-align: top;\n",
       "    }\n",
       "\n",
       "    .dataframe thead th {\n",
       "        text-align: right;\n",
       "    }\n",
       "</style>\n",
       "<table border=\"1\" class=\"dataframe\">\n",
       "  <thead>\n",
       "    <tr style=\"text-align: right;\">\n",
       "      <th></th>\n",
       "      <th>key1</th>\n",
       "      <th>key2</th>\n",
       "      <th>data</th>\n",
       "      <th>event1</th>\n",
       "      <th>event2</th>\n",
       "    </tr>\n",
       "  </thead>\n",
       "  <tbody>\n",
       "    <tr>\n",
       "      <th>0</th>\n",
       "      <td>Ohio</td>\n",
       "      <td>2000</td>\n",
       "      <td>0.0</td>\n",
       "      <td>4.0</td>\n",
       "      <td>5.0</td>\n",
       "    </tr>\n",
       "    <tr>\n",
       "      <th>0</th>\n",
       "      <td>Ohio</td>\n",
       "      <td>2000</td>\n",
       "      <td>0.0</td>\n",
       "      <td>6.0</td>\n",
       "      <td>7.0</td>\n",
       "    </tr>\n",
       "    <tr>\n",
       "      <th>1</th>\n",
       "      <td>Ohio</td>\n",
       "      <td>2001</td>\n",
       "      <td>1.0</td>\n",
       "      <td>8.0</td>\n",
       "      <td>9.0</td>\n",
       "    </tr>\n",
       "    <tr>\n",
       "      <th>2</th>\n",
       "      <td>Ohio</td>\n",
       "      <td>2002</td>\n",
       "      <td>2.0</td>\n",
       "      <td>10.0</td>\n",
       "      <td>11.0</td>\n",
       "    </tr>\n",
       "    <tr>\n",
       "      <th>3</th>\n",
       "      <td>Nevada</td>\n",
       "      <td>2001</td>\n",
       "      <td>3.0</td>\n",
       "      <td>0.0</td>\n",
       "      <td>1.0</td>\n",
       "    </tr>\n",
       "    <tr>\n",
       "      <th>4</th>\n",
       "      <td>Nevada</td>\n",
       "      <td>2002</td>\n",
       "      <td>4.0</td>\n",
       "      <td>NaN</td>\n",
       "      <td>NaN</td>\n",
       "    </tr>\n",
       "    <tr>\n",
       "      <th>4</th>\n",
       "      <td>Nevada</td>\n",
       "      <td>2000</td>\n",
       "      <td>NaN</td>\n",
       "      <td>2.0</td>\n",
       "      <td>3.0</td>\n",
       "    </tr>\n",
       "  </tbody>\n",
       "</table>\n",
       "</div>"
      ],
      "text/plain": [
       "     key1  key2  data  event1  event2\n",
       "0    Ohio  2000   0.0     4.0     5.0\n",
       "0    Ohio  2000   0.0     6.0     7.0\n",
       "1    Ohio  2001   1.0     8.0     9.0\n",
       "2    Ohio  2002   2.0    10.0    11.0\n",
       "3  Nevada  2001   3.0     0.0     1.0\n",
       "4  Nevada  2002   4.0     NaN     NaN\n",
       "4  Nevada  2000   NaN     2.0     3.0"
      ]
     },
     "execution_count": 4,
     "metadata": {},
     "output_type": "execute_result"
    }
   ],
   "source": [
    "import numpy as np\n",
    "\n",
    "lefth = pd.DataFrame({'key1': ['Ohio', 'Ohio', 'Ohio', 'Nevada', 'Nevada'], 'key2': [2000, 2001, 2002, 2001, 2002], \n",
    "                   'data': np.arange(5.)})\n",
    "\n",
    "righth = pd.DataFrame(np.arange(12).reshape((6, 2)), index=[['Nevada', 'Nevada', 'Ohio', 'Ohio', 'Ohio', 'Ohio'], \n",
    "                                                         [2001, 2000, 2000, 2000, 2001, 2002]], columns=['event1', 'event2'])\n",
    "\n",
    "print(lefth)\n",
    "\n",
    "print('')\n",
    "\n",
    "print(righth)\n",
    "\n",
    "print('')\n",
    "\n",
    "pd.merge(lefth,righth,left_on = ['key1', 'key2'], right_index = True, how = 'outer')\n"
   ]
  },
  {
   "cell_type": "code",
   "execution_count": 5,
   "metadata": {
    "collapsed": true
   },
   "outputs": [],
   "source": [
    "an_apple = 27\n",
    "\n",
    "an_example = 42"
   ]
  },
  {
   "cell_type": "code",
   "execution_count": 6,
   "metadata": {},
   "outputs": [
    {
     "name": "stdout",
     "output_type": "stream",
     "text": [
      "<class 'datetime.date'>\n"
     ]
    }
   ],
   "source": [
    "import datetime\n",
    "\n",
    "print(datetime.date)"
   ]
  },
  {
   "cell_type": "code",
   "execution_count": 7,
   "metadata": {
    "collapsed": true
   },
   "outputs": [],
   "source": [
    "b = [1, 2, 3]\n",
    "\n",
    "# b?"
   ]
  },
  {
   "cell_type": "code",
   "execution_count": 8,
   "metadata": {
    "collapsed": true
   },
   "outputs": [],
   "source": [
    "def add_number(a,b):\n",
    "    return a + b\n",
    "\n",
    "add_number?\n"
   ]
  },
  {
   "cell_type": "code",
   "execution_count": 9,
   "metadata": {
    "collapsed": true
   },
   "outputs": [],
   "source": [
    "import numpy as np\n",
    "\n",
    "np.*load*?"
   ]
  },
  {
   "cell_type": "code",
   "execution_count": 10,
   "metadata": {},
   "outputs": [
    {
     "name": "stdout",
     "output_type": "stream",
     "text": [
      "Activating auto-logging. Current session state plus future input saved.\n",
      "Filename       : ipython_log.py\n",
      "Mode           : rotate\n",
      "Output logging : False\n",
      "Raw input log  : False\n",
      "Timestamping   : False\n",
      "State          : active\n"
     ]
    }
   ],
   "source": [
    "%logstart"
   ]
  },
  {
   "cell_type": "code",
   "execution_count": 11,
   "metadata": {},
   "outputs": [
    {
     "name": "stdout",
     "output_type": "stream",
     "text": [
      "import pandas as pd\n",
      "\n",
      "df1 = pd.DataFrame({'key':['b','b','a','c','a','a','b'],'data1':range(7)})\n",
      "\n",
      "df2 = pd.DataFrame({'key':['a','b','d'],'data2':range(3)})\n",
      "\n",
      "print(df1)\n",
      "print(df2)\n",
      "\n",
      "pd.merge(df1,df2,on = 'key',how = 'inner')\n",
      "left = pd.DataFrame({'key1':['foo','foo','bar'],'key2':['one','two','one'],'lval':[1,2,3]})\n",
      "\n",
      "right = pd.DataFrame({'key1':['foo','foo','bar','bar'],'key2':['one','one','one','two'],'rval':[4,5,6,7]})\n",
      "\n",
      "print(left)\n",
      "\n",
      "print(right)\n",
      "\n",
      "# pd.merge(left,right,on = ['key1','key2'], how = 'outer')\n",
      "\n",
      "pd.merge(left,right,on = ['key1'], suffixes = ('_left','_right'))\n",
      "left1 = pd.DataFrame({'key':['a','b','a','a','b','c'],'value':range(6)})\n",
      "\n",
      "right1 = pd.DataFrame({'group_val':['3.5','7']}, index = ['a','b'])\n",
      "\n",
      "pd.merge(right1, left1, right_on = 'key', left_index = True)\n",
      "import numpy as np\n",
      "\n",
      "lefth = pd.DataFrame({'key1': ['Ohio', 'Ohio', 'Ohio', 'Nevada', 'Nevada'], 'key2': [2000, 2001, 2002, 2001, 2002], \n",
      "                   'data': np.arange(5.)})\n",
      "\n",
      "righth = pd.DataFrame(np.arange(12).reshape((6, 2)), index=[['Nevada', 'Nevada', 'Ohio', 'Ohio', 'Ohio', 'Ohio'], \n",
      "                                                         [2001, 2000, 2000, 2000, 2001, 2002]], columns=['event1', 'event2'])\n",
      "\n",
      "print(lefth)\n",
      "\n",
      "print('')\n",
      "\n",
      "print(righth)\n",
      "\n",
      "print('')\n",
      "\n",
      "pd.merge(lefth,righth,left_on = ['key1', 'key2'], right_index = True, how = 'outer')\n",
      "an_apple = 27\n",
      "\n",
      "an_example = 42\n",
      "import datetime\n",
      "\n",
      "print(datetime.date)\n",
      "b = [1, 2, 3]\n",
      "\n",
      "# b?\n",
      "def add_number(a,b):\n",
      "    return a + b\n",
      "\n",
      "add_number?\n",
      "import numpy as np\n",
      "\n",
      "np.*load*?\n",
      "%logstart\n",
      "%hist\n"
     ]
    }
   ],
   "source": [
    "%hist"
   ]
  },
  {
   "cell_type": "code",
   "execution_count": 12,
   "metadata": {},
   "outputs": [
    {
     "name": "stdout",
     "output_type": "stream",
     "text": [
      "D:\\Box\\Box Sync\\Python\n"
     ]
    }
   ],
   "source": [
    "%cd D:\\Box\\Box Sync\\Python"
   ]
  },
  {
   "cell_type": "code",
   "execution_count": 13,
   "metadata": {},
   "outputs": [
    {
     "data": {
      "text/plain": [
       "\"'ifconfig' is not recognized as an internal or external command,\""
      ]
     },
     "execution_count": 13,
     "metadata": {},
     "output_type": "execute_result"
    }
   ],
   "source": [
    "ip_info = !ifconfig eth0 | grep 'inet'\n",
    "\n",
    "ip_info[0].strip()\n"
   ]
  },
  {
   "cell_type": "code",
   "execution_count": 14,
   "metadata": {},
   "outputs": [
    {
     "name": "stderr",
     "output_type": "stream",
     "text": [
      "ERROR:root:File `'love.py'` not found.\n"
     ]
    }
   ],
   "source": [
    "run -d love.py"
   ]
  },
  {
   "cell_type": "code",
   "execution_count": 23,
   "metadata": {},
   "outputs": [
    {
     "name": "stdout",
     "output_type": "stream",
     "text": [
      "(2, 3)\n"
     ]
    }
   ],
   "source": [
    "import numpy as np\n",
    "\n",
    "data = np.array([[0.9526, -0.246, -0.8856], [0.5639, 0.2379, 0.9104]])\n",
    "\n",
    "print(data.shape)"
   ]
  },
  {
   "cell_type": "code",
   "execution_count": 24,
   "metadata": {},
   "outputs": [
    {
     "name": "stdout",
     "output_type": "stream",
     "text": [
      "[0. 0. 0. 0. 0. 0. 0. 0. 0. 0.]\n"
     ]
    }
   ],
   "source": [
    "a = np.zeros(10)\n",
    "\n",
    "print(a)"
   ]
  },
  {
   "cell_type": "code",
   "execution_count": 26,
   "metadata": {},
   "outputs": [
    {
     "name": "stdout",
     "output_type": "stream",
     "text": [
      "[[0. 0. 0. 0.]\n",
      " [0. 0. 0. 0.]\n",
      " [0. 0. 0. 0.]]\n"
     ]
    }
   ],
   "source": [
    "a = np.zeros((3,4))\n",
    "\n",
    "print(a)"
   ]
  },
  {
   "cell_type": "code",
   "execution_count": 37,
   "metadata": {},
   "outputs": [
    {
     "name": "stdout",
     "output_type": "stream",
     "text": [
      "[[[0. 0.]\n",
      "  [0. 0.]\n",
      "  [0. 0.]]\n",
      "\n",
      " [[0. 0.]\n",
      "  [0. 0.]\n",
      "  [0. 0.]]]\n",
      "float64\n",
      "float32\n"
     ]
    }
   ],
   "source": [
    "a = np.empty((2,3,2))\n",
    "\n",
    "print(a)\n",
    "\n",
    "print(a.dtype)\n",
    "\n",
    "float_a = a.astype(np.float32)\n",
    "\n",
    "print(float_a.dtype)"
   ]
  },
  {
   "cell_type": "code",
   "execution_count": 31,
   "metadata": {},
   "outputs": [
    {
     "name": "stdout",
     "output_type": "stream",
     "text": [
      "[ 0  1  2  3  4  5  6  7  8  9 10 11 12 13 14]\n"
     ]
    }
   ],
   "source": [
    "a = np.arange(15)\n",
    "\n",
    "print(a)"
   ]
  },
  {
   "cell_type": "code",
   "execution_count": 35,
   "metadata": {},
   "outputs": [
    {
     "name": "stdout",
     "output_type": "stream",
     "text": [
      "[0 0]\n"
     ]
    }
   ],
   "source": [
    "a = np.zeros_like((3,4))\n",
    "\n",
    "print(a)"
   ]
  },
  {
   "cell_type": "code",
   "execution_count": 43,
   "metadata": {},
   "outputs": [
    {
     "name": "stdout",
     "output_type": "stream",
     "text": [
      "float64\n",
      "[[0 0 0]\n",
      " [0 0 0]]\n",
      "int32\n"
     ]
    }
   ],
   "source": [
    "data = np.array([[0.9526, -0.246, -0.8856], [0.5639, 0.2379, 0.9104]])\n",
    "\n",
    "print(data.dtype)\n",
    "\n",
    "int_data = data.astype(np.int32)\n",
    "\n",
    "print(int_data)\n",
    "\n",
    "print(int_data.dtype)"
   ]
  },
  {
   "cell_type": "code",
   "execution_count": 48,
   "metadata": {},
   "outputs": [
    {
     "name": "stdout",
     "output_type": "stream",
     "text": [
      "[ 1.25 -9.6  42.  ]\n"
     ]
    }
   ],
   "source": [
    "numeric_strings = np.array(['1.25', '-9.6', '42'])\n",
    "\n",
    "numeric = numeric_strings.astype(np.float32)\n",
    "\n",
    "print(numeric)"
   ]
  },
  {
   "cell_type": "code",
   "execution_count": 52,
   "metadata": {},
   "outputs": [
    {
     "name": "stdout",
     "output_type": "stream",
     "text": [
      "[1.5625e+00 9.2160e+01 1.7640e+03]\n",
      "[0. 0. 0.]\n",
      "[ 0.8        -0.10416666  0.02380952]\n",
      "[ 0.625 -4.8   21.   ]\n"
     ]
    }
   ],
   "source": [
    "print(numeric*numeric)\n",
    "\n",
    "print(numeric - numeric)\n",
    "\n",
    "print(1/numeric)\n",
    "\n",
    "print(0.5*numeric)"
   ]
  },
  {
   "cell_type": "code",
   "execution_count": 55,
   "metadata": {},
   "outputs": [
    {
     "name": "stdout",
     "output_type": "stream",
     "text": [
      "[0 1 2 3 4 5 6 7 8 9]\n",
      "5\n",
      "[5 6 7]\n"
     ]
    }
   ],
   "source": [
    "a = np.arange(10)\n",
    "\n",
    "print(a)\n",
    "\n",
    "print(a[5])\n",
    "\n",
    "print(a[5:8])"
   ]
  },
  {
   "cell_type": "code",
   "execution_count": 56,
   "metadata": {},
   "outputs": [
    {
     "name": "stdout",
     "output_type": "stream",
     "text": [
      "[ 0  1  2  3  4 12 12 12  8  9]\n"
     ]
    }
   ],
   "source": [
    "a[5:8] = 12\n",
    "\n",
    "print(a)"
   ]
  },
  {
   "cell_type": "code",
   "execution_count": 58,
   "metadata": {},
   "outputs": [
    {
     "name": "stdout",
     "output_type": "stream",
     "text": [
      "[   12 12345    12]\n",
      "[    0     1     2     3     4    12 12345    12     8     9]\n"
     ]
    }
   ],
   "source": [
    "a_slice = a[5:8]\n",
    "\n",
    "print(a_slice)\n",
    "\n",
    "a_slice[1] = 12345\n",
    "\n",
    "print(a)"
   ]
  },
  {
   "cell_type": "code",
   "execution_count": 59,
   "metadata": {},
   "outputs": [
    {
     "name": "stdout",
     "output_type": "stream",
     "text": [
      "[ 0  1  2  3  4 64 64 64  8  9]\n"
     ]
    }
   ],
   "source": [
    "a_slice[:] = 64\n",
    "\n",
    "print(a)"
   ]
  },
  {
   "cell_type": "code",
   "execution_count": 3,
   "metadata": {},
   "outputs": [
    {
     "name": "stdout",
     "output_type": "stream",
     "text": [
      "1991-12-18\n"
     ]
    },
    {
     "ename": "TypeError",
     "evalue": "unsupported operand type(s) for -: 'datetime.datetime' and 'datetime.date'",
     "output_type": "error",
     "traceback": [
      "\u001b[1;31m---------------------------------------------------------------------------\u001b[0m",
      "\u001b[1;31mTypeError\u001b[0m                                 Traceback (most recent call last)",
      "\u001b[1;32m<ipython-input-3-8a31bb20ee3f>\u001b[0m in \u001b[0;36m<module>\u001b[1;34m\u001b[0m\n\u001b[0;32m      7\u001b[0m \u001b[0mprint\u001b[0m\u001b[1;33m(\u001b[0m\u001b[0mdate1\u001b[0m\u001b[1;33m)\u001b[0m\u001b[1;33m\u001b[0m\u001b[1;33m\u001b[0m\u001b[0m\n\u001b[0;32m      8\u001b[0m \u001b[1;33m\u001b[0m\u001b[0m\n\u001b[1;32m----> 9\u001b[1;33m \u001b[0mdate2\u001b[0m \u001b[1;33m=\u001b[0m \u001b[0mZhDate\u001b[0m\u001b[1;33m.\u001b[0m\u001b[0mfrom_datetime\u001b[0m\u001b[1;33m(\u001b[0m\u001b[0mdate1\u001b[0m\u001b[1;33m)\u001b[0m\u001b[1;33m\u001b[0m\u001b[1;33m\u001b[0m\u001b[0m\n\u001b[0m\u001b[0;32m     10\u001b[0m \u001b[1;33m\u001b[0m\u001b[0m\n\u001b[0;32m     11\u001b[0m \u001b[0mprint\u001b[0m\u001b[1;33m(\u001b[0m\u001b[0mdate2\u001b[0m\u001b[1;33m)\u001b[0m\u001b[1;33m\u001b[0m\u001b[1;33m\u001b[0m\u001b[0m\n",
      "\u001b[1;32mD:\\Python\\Conda\\lib\\site-packages\\zhdate\\__init__.py\u001b[0m in \u001b[0;36mfrom_datetime\u001b[1;34m(dt)\u001b[0m\n\u001b[0;32m    136\u001b[0m         \"\"\"\n\u001b[0;32m    137\u001b[0m         \u001b[0mlunar_year\u001b[0m \u001b[1;33m=\u001b[0m \u001b[0mdt\u001b[0m\u001b[1;33m.\u001b[0m\u001b[0myear\u001b[0m\u001b[1;33m\u001b[0m\u001b[1;33m\u001b[0m\u001b[0m\n\u001b[1;32m--> 138\u001b[1;33m         \u001b[1;32mif\u001b[0m \u001b[1;33m(\u001b[0m\u001b[0mdatetime\u001b[0m\u001b[1;33m.\u001b[0m\u001b[0mstrptime\u001b[0m\u001b[1;33m(\u001b[0m\u001b[0mCHINESENEWYEAR\u001b[0m\u001b[1;33m[\u001b[0m\u001b[0mlunar_year\u001b[0m\u001b[1;33m-\u001b[0m\u001b[1;36m1900\u001b[0m\u001b[1;33m]\u001b[0m\u001b[1;33m,\u001b[0m \u001b[1;34m'%Y%m%d'\u001b[0m\u001b[1;33m)\u001b[0m \u001b[1;33m-\u001b[0m \u001b[0mdt\u001b[0m\u001b[1;33m)\u001b[0m\u001b[1;33m.\u001b[0m\u001b[0mdays\u001b[0m \u001b[1;33m>\u001b[0m \u001b[1;36m0\u001b[0m\u001b[1;33m:\u001b[0m\u001b[1;33m\u001b[0m\u001b[1;33m\u001b[0m\u001b[0m\n\u001b[0m\u001b[0;32m    139\u001b[0m             \u001b[0mlunar_year\u001b[0m \u001b[1;33m-=\u001b[0m \u001b[1;36m1\u001b[0m\u001b[1;33m\u001b[0m\u001b[1;33m\u001b[0m\u001b[0m\n\u001b[0;32m    140\u001b[0m         \u001b[0mnewyear_dt\u001b[0m \u001b[1;33m=\u001b[0m \u001b[0mdatetime\u001b[0m\u001b[1;33m.\u001b[0m\u001b[0mstrptime\u001b[0m\u001b[1;33m(\u001b[0m\u001b[0mCHINESENEWYEAR\u001b[0m\u001b[1;33m[\u001b[0m\u001b[0mlunar_year\u001b[0m\u001b[1;33m-\u001b[0m\u001b[1;36m1900\u001b[0m\u001b[1;33m]\u001b[0m\u001b[1;33m,\u001b[0m \u001b[1;34m'%Y%m%d'\u001b[0m\u001b[1;33m)\u001b[0m\u001b[1;33m\u001b[0m\u001b[1;33m\u001b[0m\u001b[0m\n",
      "\u001b[1;31mTypeError\u001b[0m: unsupported operand type(s) for -: 'datetime.datetime' and 'datetime.date'"
     ]
    }
   ],
   "source": [
    "from zhdate import ZhDate\n",
    "from datetime import date\n",
    "\n",
    "\n",
    "date1 = date(1991,12,18)\n",
    "\n",
    "print(date1)\n",
    "\n",
    "date2 = ZhDate.from_datetime(date1)\n",
    "\n",
    "print(date2)"
   ]
  },
  {
   "cell_type": "code",
   "execution_count": 5,
   "metadata": {},
   "outputs": [
    {
     "name": "stdout",
     "output_type": "stream",
     "text": [
      "[7 8 9]\n"
     ]
    }
   ],
   "source": [
    "import numpy as np\n",
    "\n",
    "arr2d = np.array([[1,2,3],[4,5,6],[7,8,9]])\n",
    "\n",
    "print(arr2d[2])"
   ]
  },
  {
   "cell_type": "code",
   "execution_count": 7,
   "metadata": {},
   "outputs": [
    {
     "name": "stdout",
     "output_type": "stream",
     "text": [
      "[[[ 1  2  3]\n",
      "  [ 4  5  6]]\n",
      "\n",
      " [[ 7  8  9]\n",
      "  [10 11 12]]]\n",
      "[[1 2 3]\n",
      " [4 5 6]]\n"
     ]
    }
   ],
   "source": [
    "arr3d = np.array([[[1,2,3],[4,5,6]],[[7,8,9],[10,11,12]]])\n",
    "\n",
    "print(arr3d)\n",
    "\n",
    "print(arr3d[0])"
   ]
  },
  {
   "cell_type": "code",
   "execution_count": 8,
   "metadata": {},
   "outputs": [
    {
     "name": "stdout",
     "output_type": "stream",
     "text": [
      "[[[43 43 43]\n",
      "  [43 43 43]]\n",
      "\n",
      " [[ 7  8  9]\n",
      "  [10 11 12]]]\n",
      "[[[ 1  2  3]\n",
      "  [ 4  5  6]]\n",
      "\n",
      " [[ 7  8  9]\n",
      "  [10 11 12]]]\n"
     ]
    }
   ],
   "source": [
    "old_values = arr3d[0].copy()\n",
    "\n",
    "arr3d[0] = 43\n",
    "\n",
    "print(arr3d)\n",
    "\n",
    "arr3d[0] = old_values\n",
    "\n",
    "print(arr3d)"
   ]
  },
  {
   "cell_type": "code",
   "execution_count": 9,
   "metadata": {},
   "outputs": [
    {
     "name": "stdout",
     "output_type": "stream",
     "text": [
      "[7 8 9]\n"
     ]
    }
   ],
   "source": [
    "print(arr3d[1,0])"
   ]
  },
  {
   "cell_type": "code",
   "execution_count": 17,
   "metadata": {},
   "outputs": [
    {
     "name": "stdout",
     "output_type": "stream",
     "text": [
      "[[1 2 3]\n",
      " [4 5 6]\n",
      " [7 8 9]]\n",
      "[[1 2 3]\n",
      " [4 5 6]]\n",
      "[4 5]\n",
      "[7]\n",
      "[[1]\n",
      " [4]\n",
      " [7]]\n",
      "[[2 3]\n",
      " [5 6]]\n",
      "[[7 8 9]]\n",
      "[[1 2]\n",
      " [4 5]\n",
      " [7 8]]\n",
      "[[4 5]]\n",
      "[[1 0 0]\n",
      " [4 0 0]\n",
      " [7 8 9]]\n"
     ]
    }
   ],
   "source": [
    "arr2d = np.array([[1,2,3],[4,5,6],[7,8,9]])\n",
    "\n",
    "print(arr2d)\n",
    "\n",
    "print(arr2d[:2])\n",
    "\n",
    "print(arr2d[1,:2])\n",
    "\n",
    "print(arr2d[2,:1])\n",
    "\n",
    "print(arr2d[:,:1])\n",
    "\n",
    "print(arr2d[:2,1:])\n",
    "\n",
    "print(arr2d[2:,:])\n",
    "\n",
    "print(arr2d[:,:2])\n",
    "\n",
    "print(arr2d[1:2,:2])\n",
    "\n",
    "arr2d[:2,1:] = 0\n",
    "\n",
    "print(arr2d)"
   ]
  },
  {
   "cell_type": "code",
   "execution_count": 31,
   "metadata": {},
   "outputs": [
    {
     "name": "stdout",
     "output_type": "stream",
     "text": [
      "[[-0.37538565 -1.14428365 -2.18051363 -0.10976054]\n",
      " [-0.64417303  2.00344393 -0.14977448 -0.59401936]\n",
      " [-0.2599926   0.21891106  0.19749928  0.65715095]\n",
      " [ 0.15836977 -0.69792146  0.53730041  0.73320263]\n",
      " [ 0.03498253 -0.82620604  0.02107592  0.05103676]\n",
      " [-0.87316389  1.25624865  0.42147717  0.32280861]\n",
      " [-0.79244267  0.69810297  0.26528546 -0.64216115]]\n"
     ]
    }
   ],
   "source": [
    "names = np.array(['Bob','Joe','Will','Bob','Will','Joe','Joe'])\n",
    "\n",
    "data = np.random.randn(7,4)\n",
    "\n",
    "print(data)"
   ]
  },
  {
   "cell_type": "code",
   "execution_count": 32,
   "metadata": {},
   "outputs": [
    {
     "name": "stdout",
     "output_type": "stream",
     "text": [
      "[ True False False  True False False False]\n",
      "[[-0.37538565 -1.14428365 -2.18051363 -0.10976054]\n",
      " [ 0.15836977 -0.69792146  0.53730041  0.73320263]]\n",
      "[[-2.18051363 -0.10976054]\n",
      " [ 0.53730041  0.73320263]]\n",
      "[-0.10976054  0.73320263]\n",
      "[[-0.64417303  2.00344393 -0.14977448 -0.59401936]\n",
      " [-0.2599926   0.21891106  0.19749928  0.65715095]\n",
      " [ 0.03498253 -0.82620604  0.02107592  0.05103676]\n",
      " [-0.87316389  1.25624865  0.42147717  0.32280861]\n",
      " [-0.79244267  0.69810297  0.26528546 -0.64216115]]\n"
     ]
    }
   ],
   "source": [
    "print(names == 'Bob')\n",
    "\n",
    "print(data[names == 'Bob'])\n",
    "\n",
    "print(data[names == 'Bob',2:])\n",
    "\n",
    "print(data[names == 'Bob',3])\n",
    "\n",
    "print(data[~(names == 'Bob')])"
   ]
  },
  {
   "cell_type": "code",
   "execution_count": 33,
   "metadata": {},
   "outputs": [
    {
     "name": "stdout",
     "output_type": "stream",
     "text": [
      "[ True False  True  True  True False False]\n"
     ]
    }
   ],
   "source": [
    "mask = (names == 'Bob') | (names == 'Will')\n",
    "\n",
    "print(mask)"
   ]
  },
  {
   "cell_type": "code",
   "execution_count": 35,
   "metadata": {},
   "outputs": [
    {
     "name": "stdout",
     "output_type": "stream",
     "text": [
      "[[0.         0.         0.         0.        ]\n",
      " [0.         2.00344393 0.         0.        ]\n",
      " [0.         0.21891106 0.19749928 0.65715095]\n",
      " [0.15836977 0.         0.53730041 0.73320263]\n",
      " [0.03498253 0.         0.02107592 0.05103676]\n",
      " [0.         1.25624865 0.42147717 0.32280861]\n",
      " [0.         0.69810297 0.26528546 0.        ]]\n"
     ]
    }
   ],
   "source": [
    "data[data < 0] = 0\n",
    "\n",
    "print(data)"
   ]
  },
  {
   "cell_type": "code",
   "execution_count": 36,
   "metadata": {},
   "outputs": [
    {
     "name": "stdout",
     "output_type": "stream",
     "text": [
      "[ True False  True  True  True False False]\n",
      "[[7.         7.         7.         7.        ]\n",
      " [0.         2.00344393 0.         0.        ]\n",
      " [7.         7.         7.         7.        ]\n",
      " [7.         7.         7.         7.        ]\n",
      " [7.         7.         7.         7.        ]\n",
      " [0.         1.25624865 0.42147717 0.32280861]\n",
      " [0.         0.69810297 0.26528546 0.        ]]\n"
     ]
    }
   ],
   "source": [
    "data[names != 'Joe'] = 7\n",
    "\n",
    "print(names != 'Joe')\n",
    "\n",
    "print(data)"
   ]
  },
  {
   "cell_type": "code",
   "execution_count": 40,
   "metadata": {},
   "outputs": [
    {
     "name": "stdout",
     "output_type": "stream",
     "text": [
      "[[0. 0. 0. 0.]\n",
      " [1. 1. 1. 1.]\n",
      " [2. 2. 2. 2.]\n",
      " [3. 3. 3. 3.]\n",
      " [4. 4. 4. 4.]\n",
      " [5. 5. 5. 5.]\n",
      " [6. 6. 6. 6.]\n",
      " [7. 7. 7. 7.]]\n"
     ]
    }
   ],
   "source": [
    "arr = np.empty((8,4))\n",
    "\n",
    "for i in range(8):\n",
    "    arr[i] = i\n",
    "\n",
    "\n",
    "print(arr)"
   ]
  },
  {
   "cell_type": "code",
   "execution_count": 41,
   "metadata": {},
   "outputs": [
    {
     "name": "stdout",
     "output_type": "stream",
     "text": [
      "[[4. 4. 4. 4.]\n",
      " [3. 3. 3. 3.]\n",
      " [0. 0. 0. 0.]\n",
      " [6. 6. 6. 6.]]\n"
     ]
    }
   ],
   "source": [
    "print(arr[[4,3,0,6]])"
   ]
  },
  {
   "cell_type": "code",
   "execution_count": 42,
   "metadata": {},
   "outputs": [
    {
     "name": "stdout",
     "output_type": "stream",
     "text": [
      "[[5. 5. 5. 5.]\n",
      " [3. 3. 3. 3.]\n",
      " [1. 1. 1. 1.]]\n"
     ]
    }
   ],
   "source": [
    "print(arr[[-3,-5,-7]])"
   ]
  },
  {
   "cell_type": "code",
   "execution_count": 43,
   "metadata": {},
   "outputs": [
    {
     "name": "stdout",
     "output_type": "stream",
     "text": [
      "[[ 0  1  2  3]\n",
      " [ 4  5  6  7]\n",
      " [ 8  9 10 11]\n",
      " [12 13 14 15]\n",
      " [16 17 18 19]\n",
      " [20 21 22 23]\n",
      " [24 25 26 27]\n",
      " [28 29 30 31]]\n"
     ]
    }
   ],
   "source": [
    "arr = np.arange(32).reshape((8,4))\n",
    "\n",
    "print(arr)"
   ]
  },
  {
   "cell_type": "code",
   "execution_count": 44,
   "metadata": {},
   "outputs": [
    {
     "name": "stdout",
     "output_type": "stream",
     "text": [
      "[ 4 23 29 10]\n"
     ]
    }
   ],
   "source": [
    "print(arr[[1,5,7,2],[0,3,1,2]])"
   ]
  },
  {
   "cell_type": "code",
   "execution_count": 47,
   "metadata": {},
   "outputs": [
    {
     "name": "stdout",
     "output_type": "stream",
     "text": [
      "[[ 4  7  5  6]\n",
      " [20 23 21 22]\n",
      " [28 31 29 30]\n",
      " [ 8 11  9 10]]\n"
     ]
    }
   ],
   "source": [
    "print(arr[[1,5,7,2]][:,[0,3,1,2]])"
   ]
  },
  {
   "cell_type": "code",
   "execution_count": 48,
   "metadata": {},
   "outputs": [
    {
     "name": "stdout",
     "output_type": "stream",
     "text": [
      "[[ 4  7  5  6]\n",
      " [20 23 21 22]\n",
      " [28 31 29 30]\n",
      " [ 8 11  9 10]]\n"
     ]
    }
   ],
   "source": [
    "print(arr[np.ix_([1,5,7,2],[0,3,1,2])])"
   ]
  },
  {
   "cell_type": "code",
   "execution_count": 50,
   "metadata": {},
   "outputs": [
    {
     "name": "stdout",
     "output_type": "stream",
     "text": [
      "[[ 0  1  2  3  4]\n",
      " [ 5  6  7  8  9]\n",
      " [10 11 12 13 14]]\n",
      "[[ 0  5 10]\n",
      " [ 1  6 11]\n",
      " [ 2  7 12]\n",
      " [ 3  8 13]\n",
      " [ 4  9 14]]\n"
     ]
    }
   ],
   "source": [
    "arr = np.arange(15).reshape((3,5))\n",
    "\n",
    "print(arr)\n",
    "\n",
    "print(arr.T)"
   ]
  },
  {
   "cell_type": "code",
   "execution_count": 51,
   "metadata": {},
   "outputs": [
    {
     "name": "stdout",
     "output_type": "stream",
     "text": [
      "[[-1.30765416 -0.14746818  0.77468761]\n",
      " [ 0.49132229 -2.14645872 -1.39370769]\n",
      " [ 0.11647583 -0.31167145 -0.07774851]\n",
      " [ 1.98242949  0.41174819  2.00634463]\n",
      " [ 0.33387998 -1.12577749 -0.32000542]\n",
      " [ 0.49232367  1.79620198  2.27552192]]\n"
     ]
    }
   ],
   "source": [
    "arr = np.random.randn(6,3)\n",
    "\n",
    "print(arr)"
   ]
  },
  {
   "cell_type": "code",
   "execution_count": 55,
   "metadata": {},
   "outputs": [
    {
     "name": "stdout",
     "output_type": "stream",
     "text": [
      "[[ 6.24880874  0.42663212  3.28404772]\n",
      " [ 0.42663212  9.38942407  8.17518689]\n",
      " [ 3.28404772  8.17518689 11.85442912]]\n"
     ]
    }
   ],
   "source": [
    "print(np.dot(arr.T,arr))"
   ]
  },
  {
   "cell_type": "code",
   "execution_count": 58,
   "metadata": {
    "scrolled": true
   },
   "outputs": [
    {
     "name": "stdout",
     "output_type": "stream",
     "text": [
      "[[[ 0  1  2  3]\n",
      "  [ 4  5  6  7]]\n",
      "\n",
      " [[ 8  9 10 11]\n",
      "  [12 13 14 15]]]\n"
     ]
    }
   ],
   "source": [
    "arr = np.arange(16).reshape((2,2,4))\n",
    "\n",
    "print(arr)"
   ]
  },
  {
   "cell_type": "code",
   "execution_count": 65,
   "metadata": {},
   "outputs": [
    {
     "name": "stdout",
     "output_type": "stream",
     "text": [
      "[[[ 0  1  2  3]\n",
      "  [ 8  9 10 11]]\n",
      "\n",
      " [[ 4  5  6  7]\n",
      "  [12 13 14 15]]]\n"
     ]
    }
   ],
   "source": [
    "print(arr.transpose((1,0,2)))"
   ]
  },
  {
   "cell_type": "code",
   "execution_count": 60,
   "metadata": {},
   "outputs": [
    {
     "name": "stdout",
     "output_type": "stream",
     "text": [
      "[[[ 0  4]\n",
      "  [ 1  5]\n",
      "  [ 2  6]\n",
      "  [ 3  7]]\n",
      "\n",
      " [[ 8 12]\n",
      "  [ 9 13]\n",
      "  [10 14]\n",
      "  [11 15]]]\n"
     ]
    }
   ],
   "source": [
    "print(arr.swapaxes(1,2))"
   ]
  },
  {
   "cell_type": "code",
   "execution_count": 66,
   "metadata": {},
   "outputs": [
    {
     "name": "stdout",
     "output_type": "stream",
     "text": [
      "[0 1 2 3 4 5 6 7 8 9]\n"
     ]
    }
   ],
   "source": [
    "arr = np.arange(10)\n",
    "\n",
    "print(arr)"
   ]
  },
  {
   "cell_type": "code",
   "execution_count": 67,
   "metadata": {},
   "outputs": [
    {
     "name": "stdout",
     "output_type": "stream",
     "text": [
      "[0.         1.         1.41421356 1.73205081 2.         2.23606798\n",
      " 2.44948974 2.64575131 2.82842712 3.        ]\n"
     ]
    }
   ],
   "source": [
    "print(np.sqrt(arr))"
   ]
  },
  {
   "cell_type": "code",
   "execution_count": 68,
   "metadata": {},
   "outputs": [
    {
     "name": "stdout",
     "output_type": "stream",
     "text": [
      "[1.00000000e+00 2.71828183e+00 7.38905610e+00 2.00855369e+01\n",
      " 5.45981500e+01 1.48413159e+02 4.03428793e+02 1.09663316e+03\n",
      " 2.98095799e+03 8.10308393e+03]\n"
     ]
    }
   ],
   "source": [
    "print(np.exp(arr))"
   ]
  },
  {
   "cell_type": "code",
   "execution_count": 69,
   "metadata": {},
   "outputs": [
    {
     "name": "stdout",
     "output_type": "stream",
     "text": [
      "[-0.19872496  0.75871463  0.17748391  1.96241842  1.45739816 -0.1972012\n",
      "  1.08349988  1.6000175 ] [ 1.80684511  1.38971717 -0.8464453   0.63668904 -0.81779204 -0.02465843\n",
      "  1.60226024 -1.97734421]\n"
     ]
    }
   ],
   "source": [
    "x = np.random.randn(8)\n",
    "\n",
    "y = np.random.randn(8)\n",
    "\n",
    "print(x,y)"
   ]
  },
  {
   "cell_type": "code",
   "execution_count": 70,
   "metadata": {},
   "outputs": [
    {
     "name": "stdout",
     "output_type": "stream",
     "text": [
      "[ 1.80684511  1.38971717  0.17748391  1.96241842  1.45739816 -0.02465843\n",
      "  1.60226024  1.6000175 ]\n"
     ]
    }
   ],
   "source": [
    "print(np.maximum(x,y))"
   ]
  },
  {
   "cell_type": "code",
   "execution_count": 71,
   "metadata": {},
   "outputs": [
    {
     "name": "stdout",
     "output_type": "stream",
     "text": [
      "[ 0.67729637 -0.32384476 -1.36711422 -1.3682055  -0.37551208 -0.37349025\n",
      "  1.75454006]\n"
     ]
    }
   ],
   "source": [
    "arr = np.random.randn(7)\n",
    "\n",
    "print(arr)"
   ]
  },
  {
   "cell_type": "code",
   "execution_count": 72,
   "metadata": {},
   "outputs": [
    {
     "name": "stdout",
     "output_type": "stream",
     "text": [
      "[ 3.38648187 -1.61922381 -6.83557109 -6.84102749 -1.87756039 -1.86745124\n",
      "  8.77270032]\n"
     ]
    }
   ],
   "source": [
    "arr = arr*5\n",
    "\n",
    "print(arr)"
   ]
  },
  {
   "cell_type": "code",
   "execution_count": 73,
   "metadata": {},
   "outputs": [
    {
     "name": "stdout",
     "output_type": "stream",
     "text": [
      "(array([ 0.38648187, -0.61922381, -0.83557109, -0.84102749, -0.87756039,\n",
      "       -0.86745124,  0.77270032]), array([ 3., -1., -6., -6., -1., -1.,  8.]))\n"
     ]
    }
   ],
   "source": [
    "print(np.modf(arr))"
   ]
  },
  {
   "cell_type": "code",
   "execution_count": 74,
   "metadata": {},
   "outputs": [
    {
     "name": "stdout",
     "output_type": "stream",
     "text": [
      "[ 4. -1. -6. -6. -1. -1.  9.]\n"
     ]
    }
   ],
   "source": [
    "print(np.ceil(arr))"
   ]
  },
  {
   "cell_type": "code",
   "execution_count": 75,
   "metadata": {},
   "outputs": [
    {
     "name": "stdout",
     "output_type": "stream",
     "text": [
      "[ 3. -2. -7. -7. -2. -2.  8.]\n"
     ]
    }
   ],
   "source": [
    "print(np.floor(arr))"
   ]
  },
  {
   "cell_type": "code",
   "execution_count": 76,
   "metadata": {},
   "outputs": [
    {
     "name": "stdout",
     "output_type": "stream",
     "text": [
      "[False False False False False False False]\n"
     ]
    }
   ],
   "source": [
    "print(np.isnan(arr))"
   ]
  },
  {
   "cell_type": "code",
   "execution_count": 81,
   "metadata": {},
   "outputs": [
    {
     "name": "stdout",
     "output_type": "stream",
     "text": [
      "[[-5.   -5.   -5.   ... -5.   -5.   -5.  ]\n",
      " [-4.99 -4.99 -4.99 ... -4.99 -4.99 -4.99]\n",
      " [-4.98 -4.98 -4.98 ... -4.98 -4.98 -4.98]\n",
      " ...\n",
      " [ 4.97  4.97  4.97 ...  4.97  4.97  4.97]\n",
      " [ 4.98  4.98  4.98 ...  4.98  4.98  4.98]\n",
      " [ 4.99  4.99  4.99 ...  4.99  4.99  4.99]]\n"
     ]
    }
   ],
   "source": [
    "points = np.arange(-5,5,0.01)\n",
    "\n",
    "xs,ys = np.meshgrid(points,points)\n"
   ]
  },
  {
   "cell_type": "code",
   "execution_count": 84,
   "metadata": {},
   "outputs": [
    {
     "data": {
      "text/plain": [
       "Text(0.5, 1.0, 'Image plot of $\\\\sqrt{x^2 + y^2}$ for a grid of values')"
      ]
     },
     "execution_count": 84,
     "metadata": {},
     "output_type": "execute_result"
    },
    {
     "data": {
      "image/png": "[encoded data removed]",
      "text/plain": [
       "<Figure size 432x288 with 2 Axes>"
      ]
     },
     "metadata": {
      "needs_background": "light"
     },
     "output_type": "display_data"
    }
   ],
   "source": [
    "import matplotlib.pyplot as plt\n",
    "\n",
    "z = np.sqrt(xs**2 + ys**2)\n",
    "\n",
    "plt.imshow(z, cmap = plt.cm.gray); plt.colorbar()\n",
    "plt.title('Image plot of $\\sqrt{x^2 + y^2}$ for a grid of values')"
   ]
  },
  {
   "cell_type": "code",
   "execution_count": 90,
   "metadata": {},
   "outputs": [
    {
     "name": "stdout",
     "output_type": "stream",
     "text": [
      "[2 3 4 5 6 7] [ 5  6  7  8  9 10]\n"
     ]
    }
   ],
   "source": [
    "xarr = np.arange(2,8)\n",
    "\n",
    "yarr = np.arange(5,11)\n",
    "\n",
    "cond = np.array([True, False, True, True, False, True])\n",
    "\n",
    "print(xarr,yarr)"
   ]
  },
  {
   "cell_type": "code",
   "execution_count": 91,
   "metadata": {},
   "outputs": [
    {
     "name": "stdout",
     "output_type": "stream",
     "text": [
      "[2 6 4 5 9 7]\n"
     ]
    }
   ],
   "source": [
    "result = np.where(cond,xarr,yarr)\n",
    "\n",
    "print(result)"
   ]
  },
  {
   "cell_type": "code",
   "execution_count": 92,
   "metadata": {},
   "outputs": [
    {
     "name": "stdout",
     "output_type": "stream",
     "text": [
      "[[ 0.32912866 -0.51790249 -2.20052414 -1.60895926]\n",
      " [ 0.61562281  1.00124634 -1.17717106 -1.84358138]\n",
      " [-2.2503342  -0.73906734 -0.53153524  0.65116137]\n",
      " [ 0.19169833  0.2673057   0.31148649  0.74766048]]\n"
     ]
    }
   ],
   "source": [
    "arr = np.random.randn(4,4)\n",
    "\n",
    "print(arr)"
   ]
  },
  {
   "cell_type": "code",
   "execution_count": 94,
   "metadata": {},
   "outputs": [
    {
     "name": "stdout",
     "output_type": "stream",
     "text": [
      "[[ 2 -2 -2 -2]\n",
      " [ 2  2 -2 -2]\n",
      " [-2 -2 -2  2]\n",
      " [ 2  2  2  2]]\n"
     ]
    }
   ],
   "source": [
    "result = np.where(arr > 0, 2, -2)\n",
    "\n",
    "print(result)"
   ]
  },
  {
   "cell_type": "code",
   "execution_count": 96,
   "metadata": {},
   "outputs": [
    {
     "ename": "NameError",
     "evalue": "name 'cond1' is not defined",
     "output_type": "error",
     "traceback": [
      "\u001b[1;31m---------------------------------------------------------------------------\u001b[0m",
      "\u001b[1;31mNameError\u001b[0m                                 Traceback (most recent call last)",
      "\u001b[1;32m<ipython-input-96-134ca7bb9072>\u001b[0m in \u001b[0;36m<module>\u001b[1;34m\u001b[0m\n\u001b[0;32m      4\u001b[0m \u001b[1;33m\u001b[0m\u001b[0m\n\u001b[0;32m      5\u001b[0m \u001b[1;32mfor\u001b[0m \u001b[0mi\u001b[0m \u001b[1;32min\u001b[0m \u001b[0mrange\u001b[0m\u001b[1;33m(\u001b[0m\u001b[0mn\u001b[0m\u001b[1;33m)\u001b[0m\u001b[1;33m:\u001b[0m\u001b[1;33m\u001b[0m\u001b[1;33m\u001b[0m\u001b[0m\n\u001b[1;32m----> 6\u001b[1;33m     \u001b[1;32mif\u001b[0m \u001b[0mcond1\u001b[0m\u001b[1;33m[\u001b[0m\u001b[0mi\u001b[0m\u001b[1;33m]\u001b[0m \u001b[1;32mand\u001b[0m \u001b[0mcond2\u001b[0m\u001b[1;33m[\u001b[0m\u001b[0mi\u001b[0m\u001b[1;33m]\u001b[0m\u001b[1;33m:\u001b[0m\u001b[1;33m\u001b[0m\u001b[1;33m\u001b[0m\u001b[0m\n\u001b[0m\u001b[0;32m      7\u001b[0m         \u001b[0mresult\u001b[0m\u001b[1;33m.\u001b[0m\u001b[0mappend\u001b[0m\u001b[1;33m(\u001b[0m\u001b[1;36m0\u001b[0m\u001b[1;33m)\u001b[0m\u001b[1;33m\u001b[0m\u001b[1;33m\u001b[0m\u001b[0m\n\u001b[0;32m      8\u001b[0m     \u001b[1;32melif\u001b[0m \u001b[0mcond1\u001b[0m\u001b[1;33m[\u001b[0m\u001b[0mi\u001b[0m\u001b[1;33m]\u001b[0m\u001b[1;33m:\u001b[0m\u001b[1;33m\u001b[0m\u001b[1;33m\u001b[0m\u001b[0m\n",
      "\u001b[1;31mNameError\u001b[0m: name 'cond1' is not defined"
     ]
    }
   ],
   "source": [
    "result = []\n",
    "\n",
    "n = 4\n",
    "\n",
    "for i in range(n):\n",
    "    if cond1[i] and cond2[i]:\n",
    "        result.append(0)\n",
    "    elif cond1[i]:\n",
    "        result.append(1)\n",
    "    elif cond2[i]:\n",
    "        result.append(2)\n",
    "    else:\n",
    "        result.append(3)\n",
    "\n",
    "print(result)"
   ]
  },
  {
   "cell_type": "code",
   "execution_count": 2,
   "metadata": {},
   "outputs": [
    {
     "name": "stdout",
     "output_type": "stream",
     "text": [
      "0.041496165720403135\n"
     ]
    }
   ],
   "source": [
    "import numpy as np\n",
    "\n",
    "arr = np.random.randn(5,4)\n",
    "\n",
    "print(arr.mean())"
   ]
  },
  {
   "cell_type": "code",
   "execution_count": 3,
   "metadata": {},
   "outputs": [
    {
     "name": "stdout",
     "output_type": "stream",
     "text": [
      "0.8299233144080627\n"
     ]
    }
   ],
   "source": [
    "print(arr.sum())"
   ]
  },
  {
   "cell_type": "code",
   "execution_count": 4,
   "metadata": {},
   "outputs": [
    {
     "name": "stdout",
     "output_type": "stream",
     "text": [
      "[[0 1 2]\n",
      " [3 4 5]\n",
      " [6 7 8]]\n"
     ]
    }
   ],
   "source": [
    "arr = np.arange(9).reshape(3,3)\n",
    "\n",
    "print(arr)"
   ]
  },
  {
   "cell_type": "code",
   "execution_count": 7,
   "metadata": {},
   "outputs": [
    {
     "name": "stdout",
     "output_type": "stream",
     "text": [
      "[[ 0  1  2]\n",
      " [ 3  5  7]\n",
      " [ 9 12 15]]\n"
     ]
    }
   ],
   "source": [
    "print(arr.cumsum(0))"
   ]
  },
  {
   "cell_type": "code",
   "execution_count": 10,
   "metadata": {},
   "outputs": [
    {
     "name": "stdout",
     "output_type": "stream",
     "text": [
      "[[ 0  1  2]\n",
      " [ 0  4 10]\n",
      " [ 0 28 80]]\n"
     ]
    }
   ],
   "source": [
    "print(arr.cumprod(0))"
   ]
  },
  {
   "cell_type": "code",
   "execution_count": 13,
   "metadata": {},
   "outputs": [
    {
     "name": "stdout",
     "output_type": "stream",
     "text": [
      "[0.81649658 0.81649658 0.81649658]\n"
     ]
    }
   ],
   "source": [
    "print(arr.std(1))"
   ]
  },
  {
   "cell_type": "code",
   "execution_count": 15,
   "metadata": {},
   "outputs": [
    {
     "name": "stdout",
     "output_type": "stream",
     "text": [
      "[0 3 6]\n"
     ]
    }
   ],
   "source": [
    "print(arr.min(1))"
   ]
  },
  {
   "cell_type": "code",
   "execution_count": 16,
   "metadata": {},
   "outputs": [
    {
     "name": "stdout",
     "output_type": "stream",
     "text": [
      "[-2.6568581   0.12563162 -0.73382826  1.69932402 -1.6226416  -0.62182546\n",
      "  0.69295513 -0.35637873  0.19844102  0.50125302  1.09970034  0.01897415\n",
      " -0.41946773 -2.31640409  0.76810383  0.17929775  0.18909348 -0.44184162\n",
      " -1.25135854 -0.39987844  1.88062958  0.4634562  -1.13473986  0.02771999\n",
      "  0.6803831   0.35640432 -0.51048109  1.2261596  -0.88558656 -0.3044284\n",
      "  0.34950565 -2.50364775  0.22133863  0.06350068  0.49497567  0.23038061\n",
      "  0.16747414  1.35846735 -0.58059718 -0.89697048 -0.24083349  1.36618152\n",
      " -1.57431959 -0.55909503 -0.74789085  0.01035547  0.40263463 -0.43685897\n",
      "  0.87980595  0.07659568  1.23439939 -1.07900002  0.53544827  0.46072242\n",
      " -1.00637823  0.80385437 -1.70688316  0.51473086  0.02602226 -1.48428101\n",
      " -0.07976561  0.30512282 -2.05316888  1.00230229  2.46628869 -0.33436878\n",
      " -0.12783655  0.81138478 -0.65980162 -1.22553362 -1.10916957  0.7985387\n",
      " -0.69483626 -0.49342808  0.98736885  0.44274036 -0.07377519  0.11390805\n",
      "  0.08838929 -0.96725373 -0.3869204  -0.20104946  0.54929977  0.79475219\n",
      "  1.0117526  -0.53450879 -1.61810866 -0.3500034   0.16357039  1.04732674\n",
      " -1.10520204 -0.38654182  0.9927197   0.35831684  1.02896883  0.53138106\n",
      "  1.64318358  1.22165233 -0.81973409  0.45678109]\n"
     ]
    }
   ],
   "source": [
    "arr = np.random.randn(100)\n",
    "\n",
    "print(arr)"
   ]
  },
  {
   "cell_type": "code",
   "execution_count": 19,
   "metadata": {},
   "outputs": [
    {
     "name": "stdout",
     "output_type": "stream",
     "text": [
      "55\n"
     ]
    }
   ],
   "source": [
    "print((arr > 0).sum())"
   ]
  },
  {
   "cell_type": "code",
   "execution_count": 21,
   "metadata": {},
   "outputs": [
    {
     "name": "stdout",
     "output_type": "stream",
     "text": [
      "True\n",
      "False\n"
     ]
    }
   ],
   "source": [
    "bools = np.array([False, False, True, True])\n",
    "\n",
    "print(bools.any())\n",
    "\n",
    "print(bools.all())"
   ]
  },
  {
   "cell_type": "code",
   "execution_count": 38,
   "metadata": {},
   "outputs": [
    {
     "name": "stdout",
     "output_type": "stream",
     "text": [
      "[-0.95479697  0.48146542 -0.96565083  0.02903419 -0.69091768 -0.81344819\n",
      " -1.94843523 -1.94893391]\n",
      "[-1.94893391 -1.94843523 -0.96565083 -0.95479697 -0.81344819 -0.69091768\n",
      "  0.02903419  0.48146542]\n"
     ]
    }
   ],
   "source": [
    "arr = np.random.randn(8)\n",
    "\n",
    "print(arr)\n",
    "\n",
    "print(np.sort(arr))"
   ]
  },
  {
   "cell_type": "code",
   "execution_count": 37,
   "metadata": {},
   "outputs": [
    {
     "name": "stdout",
     "output_type": "stream",
     "text": [
      "[0 1 2 3 4 5 6 7]\n"
     ]
    }
   ],
   "source": [
    "arr = np.arange(8)\n",
    "\n",
    "print(np.sort(arr))\n"
   ]
  },
  {
   "cell_type": "code",
   "execution_count": 39,
   "metadata": {},
   "outputs": [
    {
     "name": "stdout",
     "output_type": "stream",
     "text": [
      "[[-0.12472147 -0.02914748  2.45485506  0.45493383]\n",
      " [-0.79967093 -0.96654433 -2.0121596  -1.54044829]\n",
      " [ 0.47202768 -0.49461798  0.98674145  0.40775558]]\n"
     ]
    }
   ],
   "source": [
    "arr = np.random.randn(3,4)\n",
    "\n",
    "print(arr)"
   ]
  },
  {
   "cell_type": "code",
   "execution_count": 41,
   "metadata": {},
   "outputs": [
    {
     "name": "stdout",
     "output_type": "stream",
     "text": [
      "[[-0.79967093 -0.96654433 -2.0121596  -1.54044829]\n",
      " [-0.12472147 -0.49461798  0.98674145  0.40775558]\n",
      " [ 0.47202768 -0.02914748  2.45485506  0.45493383]]\n"
     ]
    }
   ],
   "source": [
    "print(np.sort(arr,0))"
   ]
  },
  {
   "cell_type": "code",
   "execution_count": 45,
   "metadata": {},
   "outputs": [
    {
     "name": "stdout",
     "output_type": "stream",
     "text": [
      "50\n",
      "-1.7199358595751377\n"
     ]
    }
   ],
   "source": [
    "large_arr = np.random.randn(1000)\n",
    "\n",
    "arr_sort = np.sort(large_arr)\n",
    "\n",
    "print(int(0.05*len(arr_sort)))\n",
    "\n",
    "print(arr_sort[int(0.05*len(arr_sort))].sum())"
   ]
  },
  {
   "cell_type": "code",
   "execution_count": 46,
   "metadata": {},
   "outputs": [
    {
     "name": "stdout",
     "output_type": "stream",
     "text": [
      "['Bob' 'Joe' 'Will']\n"
     ]
    }
   ],
   "source": [
    "names = np.array(['Bob','Joe','Will','Bob','Will','Joe','Joe'])\n",
    "\n",
    "print(np.unique(names))"
   ]
  },
  {
   "cell_type": "code",
   "execution_count": 49,
   "metadata": {},
   "outputs": [
    {
     "name": "stdout",
     "output_type": "stream",
     "text": [
      "[[0 0 1]\n",
      " [0 0 1]\n",
      " [1 2 3]]\n"
     ]
    }
   ],
   "source": [
    "a = np.array([[1, 0, 0], [1, 0, 0], [3, 2, 1]])\n",
    "\n",
    "print(np.sort(a,axis = 1))"
   ]
  },
  {
   "cell_type": "code",
   "execution_count": 50,
   "metadata": {},
   "outputs": [
    {
     "name": "stdout",
     "output_type": "stream",
     "text": [
      "[ True False False  True  True False  True]\n"
     ]
    }
   ],
   "source": [
    "values= np.array([6, 0, 0, 3, 2, 5, 6])\n",
    "\n",
    "states = np.array([2, 3, 6])\n",
    "\n",
    "print(np.in1d(values, states))"
   ]
  },
  {
   "cell_type": "code",
   "execution_count": 54,
   "metadata": {},
   "outputs": [
    {
     "name": "stdout",
     "output_type": "stream",
     "text": [
      "[0 1 2 3 4 5 6 7 8 9]\n"
     ]
    }
   ],
   "source": [
    "arr = np.arange(10)\n",
    "\n",
    "print(arr)\n",
    "\n",
    "np.save('array', arr)\n",
    "\n",
    "np.savetxt('array.txt',arr)"
   ]
  },
  {
   "cell_type": "code",
   "execution_count": 53,
   "metadata": {},
   "outputs": [
    {
     "name": "stdout",
     "output_type": "stream",
     "text": [
      "[0 1 2 3 4 5 6 7 8 9]\n"
     ]
    }
   ],
   "source": [
    "a = np.load('array.npy')\n",
    "\n",
    "print(a)"
   ]
  },
  {
   "cell_type": "code",
   "execution_count": 55,
   "metadata": {},
   "outputs": [
    {
     "name": "stdout",
     "output_type": "stream",
     "text": [
      "[0. 1. 2. 3. 4. 5. 6. 7. 8. 9.]\n"
     ]
    }
   ],
   "source": [
    "a = np.loadtxt('array.txt')\n",
    "\n",
    "print(a)"
   ]
  },
  {
   "cell_type": "code",
   "execution_count": 56,
   "metadata": {},
   "outputs": [
    {
     "name": "stdout",
     "output_type": "stream",
     "text": [
      "[[1 2 3]\n",
      " [4 5 6]] [[  6 -23]\n",
      " [ -1   7]\n",
      " [  8   9]]\n"
     ]
    }
   ],
   "source": [
    "x = np.array([[1, 2, 3], [4, 5, 6]])\n",
    "\n",
    "y = np.array([[6, -23], [-1, 7], [8, 9]])\n",
    "\n",
    "print(x, y)"
   ]
  },
  {
   "cell_type": "code",
   "execution_count": 57,
   "metadata": {},
   "outputs": [
    {
     "name": "stdout",
     "output_type": "stream",
     "text": [
      "[[28 18]\n",
      " [67 -3]]\n"
     ]
    }
   ],
   "source": [
    "print(x.dot(y))"
   ]
  },
  {
   "cell_type": "code",
   "execution_count": 58,
   "metadata": {},
   "outputs": [
    {
     "name": "stdout",
     "output_type": "stream",
     "text": [
      "[[28 18]\n",
      " [67 -3]]\n"
     ]
    }
   ],
   "source": [
    "print(np.dot(x,y))"
   ]
  },
  {
   "cell_type": "code",
   "execution_count": 59,
   "metadata": {},
   "outputs": [
    {
     "name": "stdout",
     "output_type": "stream",
     "text": [
      "[ 6. 15.]\n"
     ]
    }
   ],
   "source": [
    "print(np.dot(x,np.ones(3)))"
   ]
  },
  {
   "cell_type": "code",
   "execution_count": 68,
   "metadata": {},
   "outputs": [
    {
     "name": "stdout",
     "output_type": "stream",
     "text": [
      "[[-0.9192605   0.17688292  0.78683401]\n",
      " [ 1.19270423  0.79004056 -1.83367677]]\n"
     ]
    }
   ],
   "source": [
    "X = np.random.randn(2, 3)\n",
    "\n",
    "print(X)"
   ]
  },
  {
   "cell_type": "code",
   "execution_count": 71,
   "metadata": {},
   "outputs": [
    {
     "name": "stdout",
     "output_type": "stream",
     "text": [
      "[[-0.9192605   1.19270423]\n",
      " [ 0.17688292  0.79004056]\n",
      " [ 0.78683401 -1.83367677]]\n",
      "[[ 3.62182534e+14  2.86064715e+14  3.58830617e+14]\n",
      " [-7.24365067e+14 -5.72129429e+14 -7.17661235e+14]\n",
      " [ 3.62182534e+14  2.86064715e+14  3.58830617e+14]]\n"
     ]
    }
   ],
   "source": [
    "print(X.T)\n",
    "\n",
    "mat = X.T.dot(x)\n",
    "\n",
    "print(np.linalg.inv(mat))"
   ]
  },
  {
   "cell_type": "code",
   "execution_count": 1,
   "metadata": {},
   "outputs": [
    {
     "name": "stdout",
     "output_type": "stream",
     "text": [
      "[[  4.23970178e-01   2.40902483e-02   3.39180346e-01   1.61957380e-03\n",
      "    6.34764135e-01]\n",
      " [  2.40902483e-02   3.41894309e-01  -9.35821872e-02  -8.95524642e-03\n",
      "    2.65367732e-01]\n",
      " [  3.39180346e-01  -9.35821872e-02   9.81050111e-01  -4.25103217e-01\n",
      "    7.17406433e-01]\n",
      " [  1.61957380e-03  -8.95524642e-03  -4.25103217e-01   9.78834290e-01\n",
      "   -6.88173757e-01]\n",
      " [  6.34764135e-01   2.65367732e-01   7.17406433e-01  -6.88173757e-01\n",
      "    2.02336738e+00]]\n"
     ]
    }
   ],
   "source": [
    "import numpy as np\n",
    "\n",
    "X = np.random.randn(5,5)\n",
    "\n",
    "mat = X.T.dot(X)\n",
    "\n",
    "print(np.linalg.inv(mat))"
   ]
  },
  {
   "cell_type": "code",
   "execution_count": 3,
   "metadata": {},
   "outputs": [
    {
     "name": "stdout",
     "output_type": "stream",
     "text": [
      "[[-0.8620223   0.15766565 -0.18841338 -0.35218419  0.26930614]\n",
      " [-0.1403372  -0.93568141  0.27195839 -0.1347922   0.11258538]\n",
      " [ 0.17637598 -0.26870991 -0.88347034  0.15338417  0.30436811]\n",
      " [ 0.30996006 -0.00924806 -0.18949026 -0.88469692 -0.2919658 ]\n",
      " [ 0.33172172  0.16538228  0.27223635 -0.22711674  0.85843739]] [[-10.2080211   -2.40239103   2.14317387   4.33229141   4.39503329]\n",
      " [  0.          -4.04875438  -1.45860331   0.15038695   1.18104839]\n",
      " [  0.           0.          -1.47009484  -0.48758061   0.48995139]\n",
      " [  0.           0.           0.          -1.29158367  -0.55153144]\n",
      " [  0.           0.           0.           0.           0.42426175]]\n"
     ]
    }
   ],
   "source": [
    "q,r = np.linalg.qr(mat)\n",
    "\n",
    "print(q,r)"
   ]
  },
  {
   "cell_type": "code",
   "execution_count": 4,
   "metadata": {},
   "outputs": [
    {
     "ename": "NameError",
     "evalue": "name 'xrange' is not defined",
     "output_type": "error",
     "traceback": [
      "\u001b[1;31m---------------------------------------------------------------------------\u001b[0m",
      "\u001b[1;31mNameError\u001b[0m                                 Traceback (most recent call last)",
      "\u001b[1;32m<ipython-input-4-3ac40e6cc471>\u001b[0m in \u001b[0;36m<module>\u001b[1;34m()\u001b[0m\n\u001b[0;32m      3\u001b[0m \u001b[0mget_ipython\u001b[0m\u001b[1;33m(\u001b[0m\u001b[1;33m)\u001b[0m\u001b[1;33m.\u001b[0m\u001b[0mmagic\u001b[0m\u001b[1;33m(\u001b[0m\u001b[1;34m'timeit'\u001b[0m\u001b[1;33m)\u001b[0m\u001b[1;33m\u001b[0m\u001b[0m\n\u001b[0;32m      4\u001b[0m \u001b[1;33m\u001b[0m\u001b[0m\n\u001b[1;32m----> 5\u001b[1;33m \u001b[0msample\u001b[0m \u001b[1;33m=\u001b[0m \u001b[1;33m[\u001b[0m\u001b[0mnp\u001b[0m\u001b[1;33m.\u001b[0m\u001b[0mrandom\u001b[0m\u001b[1;33m.\u001b[0m\u001b[0mnormalvariate\u001b[0m\u001b[1;33m(\u001b[0m\u001b[1;36m0\u001b[0m\u001b[1;33m,\u001b[0m\u001b[1;36m1\u001b[0m\u001b[1;33m)\u001b[0m \u001b[1;32mfor\u001b[0m \u001b[0m_\u001b[0m \u001b[1;32min\u001b[0m \u001b[0mxrange\u001b[0m\u001b[1;33m(\u001b[0m\u001b[0mN\u001b[0m\u001b[1;33m)\u001b[0m\u001b[1;33m]\u001b[0m\u001b[1;33m\u001b[0m\u001b[0m\n\u001b[0m",
      "\u001b[1;31mNameError\u001b[0m: name 'xrange' is not defined"
     ]
    }
   ],
   "source": [
    "N = 1000000\n",
    "\n",
    "%timeit \n",
    "\n",
    "sample = [np.random.normalvariate(0,1) for _ in xrange(N)]"
   ]
  },
  {
   "cell_type": "code",
   "execution_count": 14,
   "metadata": {},
   "outputs": [],
   "source": [
    "import pandas as pd\n",
    "\n",
    "import numpy as np\n",
    "\n",
    "from pandas import Series, DataFrame"
   ]
  },
  {
   "cell_type": "code",
   "execution_count": 15,
   "metadata": {},
   "outputs": [
    {
     "name": "stdout",
     "output_type": "stream",
     "text": [
      "0    4\n",
      "1    7\n",
      "2   -5\n",
      "3   -3\n",
      "dtype: int64\n",
      "RangeIndex(start=0, stop=4, step=1)\n",
      "[ 4  7 -5 -3]\n",
      "<class 'numpy.ndarray'>\n"
     ]
    }
   ],
   "source": [
    "obj = Series([4, 7, -5, -3])\n",
    "\n",
    "print(obj)\n",
    "\n",
    "print(obj.index)\n",
    "\n",
    "print(obj.values)\n",
    "\n",
    "print(type(obj.values))"
   ]
  },
  {
   "cell_type": "code",
   "execution_count": 16,
   "metadata": {},
   "outputs": [
    {
     "name": "stdout",
     "output_type": "stream",
     "text": [
      "a    4\n",
      "b    7\n",
      "c   -5\n",
      "d   -3\n",
      "dtype: int64\n",
      "Index(['a', 'b', 'c', 'd'], dtype='object')\n",
      "a    4\n",
      "dtype: int64\n",
      "a    4\n",
      "b    7\n",
      "dtype: int64\n",
      "a     8\n",
      "b    14\n",
      "c   -10\n",
      "d    -6\n",
      "dtype: int64\n",
      "a      54.598150\n",
      "b    1096.633158\n",
      "c       0.006738\n",
      "d       0.049787\n",
      "dtype: float64\n"
     ]
    }
   ],
   "source": [
    "obj2 = Series([4, 7, -5, -3], index = ['a', 'b', 'c', 'd'])\n",
    "\n",
    "print(obj2)\n",
    "\n",
    "print(obj2.index)\n",
    "\n",
    "print(obj2[['a']])\n",
    "\n",
    "print(obj2[obj2 > 0])\n",
    "\n",
    "print(obj2*2)\n",
    "\n",
    "print(np.exp(obj2))"
   ]
  },
  {
   "cell_type": "code",
   "execution_count": 19,
   "metadata": {},
   "outputs": [
    {
     "name": "stdout",
     "output_type": "stream",
     "text": [
      "{'Ohio': 35000, 'Texas': 71000, 'Oregon': 16000, 'Utah': 5000}\n",
      "<class 'dict'>\n",
      "Ohio      35000\n",
      "Texas     71000\n",
      "Oregon    16000\n",
      "Utah       5000\n",
      "dtype: int64\n"
     ]
    }
   ],
   "source": [
    "sdata = {'Ohio': 35000, 'Texas': 71000, 'Oregon': 16000, 'Utah': 5000}\n",
    "\n",
    "print(sdata)\n",
    "\n",
    "print(type(sdata))\n",
    "\n",
    "obj3 = Series(sdata)\n",
    "\n",
    "print(obj3)"
   ]
  },
  {
   "cell_type": "code",
   "execution_count": 20,
   "metadata": {},
   "outputs": [
    {
     "name": "stdout",
     "output_type": "stream",
     "text": [
      "California        NaN\n",
      "Ohio          35000.0\n",
      "Oregon        16000.0\n",
      "Texas         71000.0\n",
      "dtype: float64\n"
     ]
    }
   ],
   "source": [
    "states = ['California', 'Ohio', 'Oregon', 'Texas']\n",
    "\n",
    "obj4 = Series(sdata, index = states)\n",
    "\n",
    "print(obj4)"
   ]
  },
  {
   "cell_type": "code",
   "execution_count": 22,
   "metadata": {},
   "outputs": [
    {
     "name": "stdout",
     "output_type": "stream",
     "text": [
      "California     True\n",
      "Ohio          False\n",
      "Oregon        False\n",
      "Texas         False\n",
      "dtype: bool\n",
      "California    False\n",
      "Ohio           True\n",
      "Oregon         True\n",
      "Texas          True\n",
      "dtype: bool\n"
     ]
    }
   ],
   "source": [
    "print(pd.isnull(obj4))\n",
    "\n",
    "print(pd.notnull(obj4))"
   ]
  },
  {
   "cell_type": "code",
   "execution_count": 24,
   "metadata": {},
   "outputs": [
    {
     "name": "stdout",
     "output_type": "stream",
     "text": [
      "California     True\n",
      "Ohio          False\n",
      "Oregon        False\n",
      "Texas         False\n",
      "dtype: bool\n"
     ]
    }
   ],
   "source": [
    "print(obj4.isnull())"
   ]
  },
  {
   "cell_type": "code",
   "execution_count": 28,
   "metadata": {},
   "outputs": [
    {
     "name": "stdout",
     "output_type": "stream",
     "text": [
      "California         NaN\n",
      "Ohio           70000.0\n",
      "Oregon         32000.0\n",
      "Texas         142000.0\n",
      "Utah               NaN\n",
      "dtype: float64\n"
     ]
    }
   ],
   "source": [
    "print(obj3 + obj4)"
   ]
  },
  {
   "cell_type": "code",
   "execution_count": 29,
   "metadata": {},
   "outputs": [
    {
     "name": "stdout",
     "output_type": "stream",
     "text": [
      "state\n",
      "California        NaN\n",
      "Ohio          35000.0\n",
      "Oregon        16000.0\n",
      "Texas         71000.0\n",
      "Name: population, dtype: float64\n"
     ]
    }
   ],
   "source": [
    "obj4.name = 'population'\n",
    "\n",
    "obj4.index.name = 'state'\n",
    "\n",
    "print(obj4)"
   ]
  },
  {
   "cell_type": "code",
   "execution_count": 30,
   "metadata": {},
   "outputs": [
    {
     "name": "stdout",
     "output_type": "stream",
     "text": [
      "Jia       4\n",
      "Lu        7\n",
      "Meng     -5\n",
      "Angela   -3\n",
      "dtype: int64\n"
     ]
    }
   ],
   "source": [
    "obj.index = ['Jia', 'Lu', 'Meng', 'Angela']\n",
    "\n",
    "print(obj)"
   ]
  },
  {
   "cell_type": "code",
   "execution_count": 2,
   "metadata": {},
   "outputs": [
    {
     "name": "stdout",
     "output_type": "stream",
     "text": [
      "    state  year  pop\n",
      "0    Ohio  2000  1.5\n",
      "1    Ohio  2001  1.7\n",
      "2    Ohio  2002  3.6\n",
      "3  Nevada  2001  2.4\n",
      "4  Nevada  2002  2.9\n"
     ]
    }
   ],
   "source": [
    "import pandas as pd\n",
    "\n",
    "state = ['Ohio', 'Ohio', 'Ohio', 'Nevada', 'Nevada']\n",
    "\n",
    "year = [2000, 2001, 2002, 2001, 2002]\n",
    "\n",
    "pop = [1.5, 1.7, 3.6, 2.4, 2.9]\n",
    "\n",
    "data = {'state':['Ohio', 'Ohio', 'Ohio', 'Nevada', 'Nevada'], \n",
    "       'year':[2000, 2001, 2002, 2001, 2002], \n",
    "       'pop':[1.5, 1.7, 3.6, 2.4, 2.9]}\n",
    "\n",
    "frame = pd.DataFrame(data)\n",
    "\n",
    "print(frame)"
   ]
  },
  {
   "cell_type": "code",
   "execution_count": 10,
   "metadata": {},
   "outputs": [
    {
     "name": "stdout",
     "output_type": "stream",
     "text": [
      "       year   state  pop debt\n",
      "one    2000    Ohio  1.5  NaN\n",
      "two    2001    Ohio  1.7  NaN\n",
      "three  2002    Ohio  3.6  NaN\n",
      "four   2001  Nevada  2.4  NaN\n",
      "five   2002  Nevada  2.9  NaN\n",
      "Index(['year', 'state', 'pop', 'debt'], dtype='object')\n",
      "Index(['one', 'two', 'three', 'four', 'five'], dtype='object')\n",
      "one      2000\n",
      "two      2001\n",
      "three    2002\n",
      "four     2001\n",
      "five     2002\n",
      "Name: year, dtype: int64\n",
      "one        Ohio\n",
      "two        Ohio\n",
      "three      Ohio\n",
      "four     Nevada\n",
      "five     Nevada\n",
      "Name: state, dtype: object\n",
      "year     2002\n",
      "state    Ohio\n",
      "pop       3.6\n",
      "debt      NaN\n",
      "Name: three, dtype: object\n"
     ]
    }
   ],
   "source": [
    "import pandas as pd\n",
    "\n",
    "frame2 = pd.DataFrame(data,columns = ['year', 'state', 'pop', 'debt'],\n",
    "                     index = ['one', 'two', 'three', 'four', 'five'])\n",
    "\n",
    "print(frame2)\n",
    "\n",
    "print(frame2.columns)\n",
    "\n",
    "print(frame2.index)\n",
    "\n",
    "print(frame2['year'])\n",
    "\n",
    "print(frame2['state'])\n",
    "\n",
    "print(frame2.loc['three'])"
   ]
  },
  {
   "cell_type": "code",
   "execution_count": 11,
   "metadata": {},
   "outputs": [
    {
     "name": "stdout",
     "output_type": "stream",
     "text": [
      "       year   state  pop  debt\n",
      "one    2000    Ohio  1.5  16.5\n",
      "two    2001    Ohio  1.7  16.5\n",
      "three  2002    Ohio  3.6  16.5\n",
      "four   2001  Nevada  2.4  16.5\n",
      "five   2002  Nevada  2.9  16.5\n"
     ]
    }
   ],
   "source": [
    "frame2['debt'] = 16.5\n",
    "\n",
    "print(frame2)"
   ]
  },
  {
   "cell_type": "code",
   "execution_count": 13,
   "metadata": {},
   "outputs": [
    {
     "name": "stdout",
     "output_type": "stream",
     "text": [
      "       year   state  pop  debt\n",
      "one    2000    Ohio  1.5     0\n",
      "two    2001    Ohio  1.7     1\n",
      "three  2002    Ohio  3.6     2\n",
      "four   2001  Nevada  2.4     3\n",
      "five   2002  Nevada  2.9     4\n"
     ]
    }
   ],
   "source": [
    "import numpy as np\n",
    "\n",
    "frame2['debt'] = np.arange(5)\n",
    "\n",
    "print(frame2)"
   ]
  },
  {
   "cell_type": "code",
   "execution_count": 14,
   "metadata": {},
   "outputs": [
    {
     "name": "stdout",
     "output_type": "stream",
     "text": [
      "       year   state  pop  debt\n",
      "one    2000    Ohio  1.5   NaN\n",
      "two    2001    Ohio  1.7  -1.2\n",
      "three  2002    Ohio  3.6  -1.5\n",
      "four   2001  Nevada  2.4   NaN\n",
      "five   2002  Nevada  2.9  -1.7\n"
     ]
    }
   ],
   "source": [
    "val = pd.Series([-1.2, -1.5, -1.7], index = ['two', 'three', 'five'])\n",
    "\n",
    "frame2['debt'] = val\n",
    "\n",
    "print(frame2)"
   ]
  },
  {
   "cell_type": "code",
   "execution_count": 17,
   "metadata": {},
   "outputs": [
    {
     "name": "stdout",
     "output_type": "stream",
     "text": [
      "       year   state  pop  debt  esatern  eastern\n",
      "one    2000    Ohio  1.5   NaN     True     True\n",
      "two    2001    Ohio  1.7  -1.2     True     True\n",
      "three  2002    Ohio  3.6  -1.5     True     True\n",
      "four   2001  Nevada  2.4   NaN    False    False\n",
      "five   2002  Nevada  2.9  -1.7    False    False\n"
     ]
    }
   ],
   "source": [
    "frame2['eastern'] = frame2.state == 'Ohio'\n",
    "\n",
    "print(frame2)"
   ]
  },
  {
   "cell_type": "code",
   "execution_count": 20,
   "metadata": {},
   "outputs": [
    {
     "name": "stdout",
     "output_type": "stream",
     "text": [
      "       year   state  pop  debt\n",
      "one    2000    Ohio  1.5   NaN\n",
      "two    2001    Ohio  1.7  -1.2\n",
      "three  2002    Ohio  3.6  -1.5\n",
      "four   2001  Nevada  2.4   NaN\n",
      "five   2002  Nevada  2.9  -1.7\n"
     ]
    }
   ],
   "source": [
    "del frame2['esatern']\n",
    "\n",
    "print(frame2)"
   ]
  },
  {
   "cell_type": "code",
   "execution_count": 36,
   "metadata": {
    "scrolled": true
   },
   "outputs": [
    {
     "name": "stdout",
     "output_type": "stream",
     "text": [
      "      Nevada  Ohio\n",
      "2000     NaN   1.5\n",
      "2001     2.4   1.7\n",
      "2002     2.9   3.6\n",
      "        2000  2001  2002\n",
      "Nevada   NaN   2.4   2.9\n",
      "Ohio     1.5   1.7   3.6\n"
     ]
    }
   ],
   "source": [
    "pop = {'Nevada': {2001:2.4, 2002:2.9}, \n",
    "       'Ohio':{2000:1.5, 2001:1.7,2002:3.6}}\n",
    "\n",
    "frame3 = pd.DataFrame(pop)\n",
    "\n",
    "print(frame3)\n",
    "\n",
    "print(frame3.T)"
   ]
  },
  {
   "cell_type": "code",
   "execution_count": 37,
   "metadata": {},
   "outputs": [
    {
     "name": "stdout",
     "output_type": "stream",
     "text": [
      "      Nevada  Ohio\n",
      "2000     NaN   1.5\n",
      "2001     2.4   1.7\n",
      "2002     2.9   3.6\n",
      "      Nevada  Ohio\n",
      "2001     NaN   1.5\n",
      "2002     2.4   1.7\n",
      "2003     2.9   3.6\n"
     ]
    }
   ],
   "source": [
    "frame3 = pd.DataFrame(pop)\n",
    "\n",
    "print(frame3)\n",
    "\n",
    "frame3.index = [2001, 2002, 2003]\n",
    "\n",
    "print(frame3)"
   ]
  },
  {
   "cell_type": "code",
   "execution_count": 38,
   "metadata": {},
   "outputs": [
    {
     "name": "stdout",
     "output_type": "stream",
     "text": [
      "      Ohio  Nevada\n",
      "2001   1.5     NaN\n",
      "2002   1.7     2.4\n"
     ]
    }
   ],
   "source": [
    "pdata = {'Ohio':frame3['Ohio'][:-1],\n",
    "        'Nevada':frame3['Nevada'][:2]}\n",
    "\n",
    "print(pd.DataFrame(pdata))"
   ]
  },
  {
   "cell_type": "code",
   "execution_count": 43,
   "metadata": {},
   "outputs": [
    {
     "name": "stdout",
     "output_type": "stream",
     "text": [
      "state  Nevada  Ohio\n",
      "year               \n",
      "2001      NaN   1.5\n",
      "2002      2.4   1.7\n",
      "2003      2.9   3.6\n",
      "[[nan 1.5]\n",
      " [2.4 1.7]\n",
      " [2.9 3.6]]\n",
      "Int64Index([2001, 2002, 2003], dtype='int64', name='year')\n",
      "Index(['Nevada', 'Ohio'], dtype='object', name='state')\n",
      "[[2000 'Ohio' 1.5 nan]\n",
      " [2001 'Ohio' 1.7 -1.2]\n",
      " [2002 'Ohio' 3.6 -1.5]\n",
      " [2001 'Nevada' 2.4 nan]\n",
      " [2002 'Nevada' 2.9 -1.7]]\n"
     ]
    }
   ],
   "source": [
    "frame3.index.name = 'year'\n",
    "\n",
    "frame3.columns.name = 'state'\n",
    "\n",
    "print(frame3)\n",
    "\n",
    "print(frame3.values)\n",
    "\n",
    "print(frame3.index)\n",
    "\n",
    "print(frame3.columns)\n",
    "\n",
    "print(frame2.values)"
   ]
  },
  {
   "cell_type": "code",
   "execution_count": 46,
   "metadata": {},
   "outputs": [
    {
     "name": "stdout",
     "output_type": "stream",
     "text": [
      "a    0\n",
      "b    1\n",
      "c    2\n",
      "dtype: int64\n",
      "Index(['a', 'b', 'c'], dtype='object')\n",
      "Index(['b', 'c'], dtype='object')\n",
      "Index(['a'], dtype='object')\n"
     ]
    }
   ],
   "source": [
    "obj = pd.Series(range(3), index = ['a', 'b', 'c'])\n",
    "\n",
    "print(obj)\n",
    "\n",
    "index = obj.index\n",
    "\n",
    "print(index)\n",
    "\n",
    "print(index[1:])\n",
    "\n",
    "print(index[:1])"
   ]
  },
  {
   "cell_type": "code",
   "execution_count": 50,
   "metadata": {},
   "outputs": [
    {
     "name": "stdout",
     "output_type": "stream",
     "text": [
      "1    0\n",
      "2    1\n",
      "3    2\n",
      "dtype: int64\n"
     ]
    }
   ],
   "source": [
    "obj.index = [1, 2, 3]\n",
    "\n",
    "print(obj)"
   ]
  },
  {
   "cell_type": "code",
   "execution_count": 52,
   "metadata": {},
   "outputs": [
    {
     "name": "stdout",
     "output_type": "stream",
     "text": [
      "True\n"
     ]
    }
   ],
   "source": [
    "index = pd.Index(np.arange(3))\n",
    "\n",
    "obj2 = pd.Series([-1.5, -2.5, 0], index = index)\n",
    "\n",
    "print(obj2.index is index)"
   ]
  },
  {
   "cell_type": "code",
   "execution_count": 55,
   "metadata": {},
   "outputs": [
    {
     "name": "stdout",
     "output_type": "stream",
     "text": [
      "True\n",
      "True\n",
      "True\n"
     ]
    }
   ],
   "source": [
    "print('Ohio' in frame3.columns)\n",
    "\n",
    "print(2001 in frame3.index)\n",
    "\n",
    "print(2003 in frame3.index)"
   ]
  },
  {
   "cell_type": "code",
   "execution_count": 61,
   "metadata": {},
   "outputs": [
    {
     "name": "stdout",
     "output_type": "stream",
     "text": [
      "   values\n",
      "d     4.5\n",
      "b     7.2\n",
      "a    -5.3\n",
      "c     3.6\n",
      "   values\n",
      "a    -5.3\n",
      "b     7.2\n",
      "c     3.6\n",
      "d     4.5\n",
      "e     0.0\n"
     ]
    }
   ],
   "source": [
    "obj = pd.DataFrame([4.5, 7.2, -5.3, 3.6], index = ['d', 'b', 'a', 'c'],\n",
    "            columns = ['values'])\n",
    "\n",
    "print(obj)\n",
    "\n",
    "obj2 = obj.reindex(['a', 'b', 'c', 'd', 'e'], fill_value = 0)\n",
    "\n",
    "print(obj2)"
   ]
  },
  {
   "cell_type": "code",
   "execution_count": 68,
   "metadata": {},
   "outputs": [
    {
     "name": "stdout",
     "output_type": "stream",
     "text": [
      "0      blue\n",
      "1    purple\n",
      "2    purple\n",
      "3    yellow\n",
      "4    yellow\n",
      "5       NaN\n",
      "dtype: object\n",
      "   number\n",
      "a     NaN\n",
      "b     NaN\n",
      "c     NaN\n",
      "d     NaN\n",
      "e     NaN\n"
     ]
    }
   ],
   "source": [
    "obj3 = pd.Series(['blue', 'purple', 'yellow'], index = [0, 2, 4])\n",
    "\n",
    "print(obj3.reindex(range(6), method = 'bfill'))\n",
    "\n",
    "states = ['number']\n",
    "\n",
    "print(obj2.reindex(columns = states))\n"
   ]
  },
  {
   "cell_type": "code",
   "execution_count": 77,
   "metadata": {},
   "outputs": [
    {
     "name": "stdout",
     "output_type": "stream",
     "text": [
      "   Ohio  Texas  California\n",
      "a     0      1           2\n",
      "c     3      4           5\n",
      "d     6      7           8\n",
      "   Ohio  Texas  California\n",
      "a     0      1           2\n",
      "b     0      1           2\n",
      "c     3      4           5\n",
      "d     6      7           8\n",
      "   Texas  Utah  California\n",
      "a      1   NaN           2\n",
      "b      1   NaN           2\n",
      "c      4   NaN           5\n",
      "d      7   NaN           8\n",
      "   Texas  Utah  California\n",
      "a    1.0   NaN         2.0\n",
      "b    NaN   NaN         NaN\n",
      "c    4.0   NaN         5.0\n",
      "d    7.0   NaN         8.0\n"
     ]
    },
    {
     "name": "stderr",
     "output_type": "stream",
     "text": [
      "D:\\Python\\Conda\\lib\\site-packages\\ipykernel_launcher.py:14: FutureWarning: \n",
      "Passing list-likes to .loc or [] with any missing label will raise\n",
      "KeyError in the future, you can use .reindex() as an alternative.\n",
      "\n",
      "See the documentation here:\n",
      "https://pandas.pydata.org/pandas-docs/stable/indexing.html#deprecate-loc-reindex-listlike\n",
      "  \n"
     ]
    }
   ],
   "source": [
    "frame = pd.DataFrame(np.arange(9).reshape((3, 3)), index=['a', 'c', 'd'],\n",
    "                  columns=['Ohio', 'Texas', 'California'])\n",
    "\n",
    "print(frame)\n",
    "\n",
    "frame2 = frame.reindex(index = ['a', 'b', 'c', 'd'], method = 'ffill')\n",
    "\n",
    "print(frame2)\n",
    "\n",
    "states = ['Texas', 'Utah', 'California']\n",
    "\n",
    "print(frame2.reindex(columns = states))\n",
    "\n",
    "print(frame.loc[['a', 'b', 'c', 'd'], states])"
   ]
  },
  {
   "cell_type": "code",
   "execution_count": 85,
   "metadata": {},
   "outputs": [
    {
     "name": "stdout",
     "output_type": "stream",
     "text": [
      "          one  two  three  four\n",
      "Ohio        0    1      2     3\n",
      "Colorado    4    5      6     7\n",
      "Utah        8    9     10    11\n",
      "New York   12   13     14    15\n",
      "          one  two  three  four\n",
      "Colorado    4    5      6     7\n",
      "Utah        8    9     10    11\n",
      "New York   12   13     14    15\n"
     ]
    }
   ],
   "source": [
    "data = pd.DataFrame(np.arange(16).reshape((4, 4)), \n",
    "                 index=['Ohio', 'Colorado', 'Utah', 'New York'], \n",
    "                 columns=['one', 'two', 'three', 'four'])\n",
    "\n",
    "print(data)\n",
    "\n",
    "print(data.drop('Ohio'))"
   ]
  },
  {
   "cell_type": "code",
   "execution_count": 89,
   "metadata": {},
   "outputs": [
    {
     "name": "stdout",
     "output_type": "stream",
     "text": [
      "          one  two  three  four\n",
      "Ohio        0    1      2     3\n",
      "Colorado    4    5      6     7\n",
      "          one  two  three  four\n",
      "Colorado    4    5      6     7\n",
      "Utah        8    9     10    11\n",
      "New York   12   13     14    15\n",
      "            one    two  three   four\n",
      "Ohio       True   True   True   True\n",
      "Colorado   True  False  False  False\n",
      "Utah      False  False  False  False\n",
      "New York  False  False  False  False\n",
      "          one  two  three  four\n",
      "Ohio        0    0      0     0\n",
      "Colorado    0    5      6     7\n",
      "Utah        8    9     10    11\n",
      "New York   12   13     14    15\n"
     ]
    }
   ],
   "source": [
    "data = pd.DataFrame(np.arange(16).reshape((4, 4)), \n",
    "                 index=['Ohio', 'Colorado', 'Utah', 'New York'], \n",
    "                 columns=['one', 'two', 'three', 'four'])\n",
    "\n",
    "print(data[:2])\n",
    "\n",
    "print(data[data['three'] > 5])\n",
    "\n",
    "print(data < 5)\n",
    "\n",
    "data[data < 5] = 0\n",
    "\n",
    "print(data)"
   ]
  },
  {
   "cell_type": "code",
   "execution_count": 100,
   "metadata": {},
   "outputs": [
    {
     "name": "stdout",
     "output_type": "stream",
     "text": [
      "two      5\n",
      "three    6\n",
      "Name: Colorado, dtype: int32\n",
      "one       8\n",
      "two       9\n",
      "three    10\n",
      "four     11\n",
      "Name: Utah, dtype: int32\n",
      "Ohio         0\n",
      "Colorado     6\n",
      "Utah        10\n",
      "Name: three, dtype: int32\n",
      "          one  two  three\n",
      "Colorado    0    5      6\n",
      "Utah        8    9     10\n",
      "New York   12   13     14\n"
     ]
    }
   ],
   "source": [
    "print(data.loc['Colorado', ['two', 'three']])\n",
    "\n",
    "print(data.iloc[2])\n",
    "\n",
    "print(data.loc[:'Utah', 'three'])\n",
    "\n",
    "print(data.loc[data.three > 5,:'three'])"
   ]
  },
  {
   "cell_type": "code",
   "execution_count": 102,
   "metadata": {},
   "outputs": [
    {
     "name": "stdout",
     "output_type": "stream",
     "text": [
      "a    5.2\n",
      "c    1.1\n",
      "d    NaN\n",
      "e    0.0\n",
      "f    NaN\n",
      "g    NaN\n",
      "dtype: float64\n"
     ]
    }
   ],
   "source": [
    "s1 = pd.Series([7.3, -2.5, 3.4, 1.5], index=['a', 'c', 'd', 'e'])\n",
    "\n",
    "s2 = pd.Series([-2.1, 3.6, -1.5, 4, 3.1], index=['a', 'c', 'e', 'f', 'g'])\n",
    "\n",
    "print(s1 + s2)"
   ]
  },
  {
   "cell_type": "code",
   "execution_count": 3,
   "metadata": {},
   "outputs": [],
   "source": [
    "import pandas as pd\n",
    "import numpy as np"
   ]
  },
  {
   "cell_type": "code",
   "execution_count": 5,
   "metadata": {},
   "outputs": [
    {
     "name": "stdout",
     "output_type": "stream",
     "text": [
      "          b  c  d\n",
      "Ohio      0  1  2\n",
      "Texas     3  4  5\n",
      "Colorado  6  7  8         b   d   e\n",
      "Utah    0   1   2\n",
      "Ohio    3   4   5\n",
      "Texas   6   7   8\n",
      "Oregon  9  10  11\n"
     ]
    }
   ],
   "source": [
    "df1 = pd.DataFrame(np.arange(9).reshape(3,3), \n",
    "                   index = ['Ohio', 'Texas', 'Colorado'],\n",
    "                    columns = ['b', 'c', 'd'])\n",
    "\n",
    "df2 = pd.DataFrame(np.arange(12).reshape(4,3), columns = list('bde'),\n",
    "                  index = ['Utah', 'Ohio', 'Texas', 'Oregon'])\n",
    "\n",
    "print(df1,df2)"
   ]
  },
  {
   "cell_type": "code",
   "execution_count": 6,
   "metadata": {},
   "outputs": [
    {
     "name": "stdout",
     "output_type": "stream",
     "text": [
      "            b   c     d   e\n",
      "Colorado  NaN NaN   NaN NaN\n",
      "Ohio      3.0 NaN   6.0 NaN\n",
      "Oregon    NaN NaN   NaN NaN\n",
      "Texas     9.0 NaN  12.0 NaN\n",
      "Utah      NaN NaN   NaN NaN\n"
     ]
    }
   ],
   "source": [
    "print(df1 + df2)"
   ]
  },
  {
   "cell_type": "code",
   "execution_count": 11,
   "metadata": {},
   "outputs": [
    {
     "name": "stdout",
     "output_type": "stream",
     "text": [
      "   a  b   c   d\n",
      "0  0  1   2   3\n",
      "1  4  5   6   7\n",
      "2  8  9  10  11     a   b   c   d   e\n",
      "0   0   1   2   3   4\n",
      "1   5   6   7   8   9\n",
      "2  10  11  12  13  14\n",
      "3  15  16  17  18  19\n"
     ]
    }
   ],
   "source": [
    "df1 = pd.DataFrame(np.arange(12).reshape(3,4), columns = list('abcd'))\n",
    "\n",
    "df2 = pd.DataFrame(np.arange(20).reshape(4,5), columns = list('abcde'))\n",
    "\n",
    "print(df1,df2)"
   ]
  },
  {
   "cell_type": "code",
   "execution_count": 12,
   "metadata": {},
   "outputs": [
    {
     "name": "stdout",
     "output_type": "stream",
     "text": [
      "      a     b     c     d     e\n",
      "0   0.0   2.0   4.0   6.0   4.0\n",
      "1   9.0  11.0  13.0  15.0   9.0\n",
      "2  18.0  20.0  22.0  24.0  14.0\n",
      "3  15.0  16.0  17.0  18.0  19.0\n"
     ]
    }
   ],
   "source": [
    "print(df1.add(df2, fill_value = 0))"
   ]
  },
  {
   "cell_type": "code",
   "execution_count": 14,
   "metadata": {},
   "outputs": [
    {
     "name": "stdout",
     "output_type": "stream",
     "text": [
      "      a     b     c     d     e\n",
      "0   0.0   2.0   4.0   6.0   4.0\n",
      "1   9.0  11.0  13.0  15.0   9.0\n",
      "2  18.0  20.0  22.0  24.0  14.0\n",
      "3  15.0  16.0  17.0  18.0  19.0\n"
     ]
    }
   ],
   "source": [
    "print(df2.add(df1, fill_value = 0))"
   ]
  },
  {
   "cell_type": "code",
   "execution_count": 16,
   "metadata": {},
   "outputs": [
    {
     "name": "stdout",
     "output_type": "stream",
     "text": [
      "   a  b   c   d  e\n",
      "0  0  1   2   3  0\n",
      "1  4  5   6   7  0\n",
      "2  8  9  10  11  0\n"
     ]
    }
   ],
   "source": [
    "print(df1.reindex(columns = df2.columns, fill_value = 0))"
   ]
  },
  {
   "cell_type": "code",
   "execution_count": 17,
   "metadata": {},
   "outputs": [
    {
     "name": "stdout",
     "output_type": "stream",
     "text": [
      "     a         b         c         d   e\n",
      "0  NaN  1.000000  1.000000  1.000000 NaN\n",
      "1  0.8  0.833333  0.857143  0.875000 NaN\n",
      "2  0.8  0.818182  0.833333  0.846154 NaN\n",
      "3  NaN       NaN       NaN       NaN NaN\n"
     ]
    }
   ],
   "source": [
    "print(df1/df2)"
   ]
  },
  {
   "cell_type": "code",
   "execution_count": 18,
   "metadata": {},
   "outputs": [
    {
     "name": "stdout",
     "output_type": "stream",
     "text": [
      "     a         b         c         d    e\n",
      "0  NaN  1.000000  1.000000  1.000000  0.0\n",
      "1  0.8  0.833333  0.857143  0.875000  0.0\n",
      "2  0.8  0.818182  0.833333  0.846154  0.0\n",
      "3  0.0  0.000000  0.000000  0.000000  0.0\n"
     ]
    }
   ],
   "source": [
    "print(df1.div(df2, fill_value = 0))"
   ]
  },
  {
   "cell_type": "code",
   "execution_count": 24,
   "metadata": {},
   "outputs": [
    {
     "name": "stdout",
     "output_type": "stream",
     "text": [
      "[[ 0  1  2  3]\n",
      " [ 4  5  6  7]\n",
      " [ 8  9 10 11]]\n",
      "[0 1 2 3]\n",
      "[0 4 8]\n",
      "1\n",
      "1\n"
     ]
    }
   ],
   "source": [
    "arr = np.arange(12).reshape(3,4)\n",
    "\n",
    "print(arr)\n",
    "\n",
    "print(arr[0])\n",
    "\n",
    "print(arr[:,0])\n",
    "\n",
    "print(arr[0][1])\n",
    "\n",
    "print(arr[0,1])"
   ]
  },
  {
   "cell_type": "code",
   "execution_count": 25,
   "metadata": {},
   "outputs": [
    {
     "name": "stdout",
     "output_type": "stream",
     "text": [
      "[[0 0 0 0]\n",
      " [4 4 4 4]\n",
      " [8 8 8 8]]\n"
     ]
    }
   ],
   "source": [
    "print(arr - arr[0])"
   ]
  },
  {
   "cell_type": "code",
   "execution_count": 26,
   "metadata": {},
   "outputs": [
    {
     "name": "stdout",
     "output_type": "stream",
     "text": [
      "        b   d   e\n",
      "Utah    0   1   2\n",
      "Ohio    3   4   5\n",
      "Texas   6   7   8\n",
      "Oregon  9  10  11\n",
      "b    0\n",
      "d    1\n",
      "e    2\n",
      "Name: Utah, dtype: int32\n"
     ]
    },
    {
     "name": "stderr",
     "output_type": "stream",
     "text": [
      "D:\\Python\\Conda\\lib\\site-packages\\ipykernel_launcher.py:4: DeprecationWarning: \n",
      ".ix is deprecated. Please use\n",
      ".loc for label based indexing or\n",
      ".iloc for positional indexing\n",
      "\n",
      "See the documentation here:\n",
      "http://pandas.pydata.org/pandas-docs/stable/indexing.html#ix-indexer-is-deprecated\n",
      "  after removing the cwd from sys.path.\n"
     ]
    }
   ],
   "source": [
    "frame = pd.DataFrame(np.arange(12).reshape(4,3), columns = list('bde'),\n",
    "                    index= ['Utah', 'Ohio', 'Texas', 'Oregon'])\n",
    "\n",
    "series = frame.ix[0]\n",
    "\n",
    "print(frame)\n",
    "\n",
    "print(series)"
   ]
  },
  {
   "cell_type": "code",
   "execution_count": 27,
   "metadata": {},
   "outputs": [
    {
     "name": "stdout",
     "output_type": "stream",
     "text": [
      "        b  d  e\n",
      "Utah    0  0  0\n",
      "Ohio    3  3  3\n",
      "Texas   6  6  6\n",
      "Oregon  9  9  9\n"
     ]
    }
   ],
   "source": [
    "print(frame - series)"
   ]
  },
  {
   "cell_type": "code",
   "execution_count": 32,
   "metadata": {},
   "outputs": [
    {
     "name": "stdout",
     "output_type": "stream",
     "text": [
      "Utah       1\n",
      "Ohio       4\n",
      "Texas      7\n",
      "Oregon    10\n",
      "Name: d, dtype: int32\n",
      "        Ohio  Oregon  Texas  Utah   b   d   e\n",
      "Utah     NaN     NaN    NaN   NaN NaN NaN NaN\n",
      "Ohio     NaN     NaN    NaN   NaN NaN NaN NaN\n",
      "Texas    NaN     NaN    NaN   NaN NaN NaN NaN\n",
      "Oregon   NaN     NaN    NaN   NaN NaN NaN NaN\n",
      "        b  d  e\n",
      "Utah   -1  0  1\n",
      "Ohio   -1  0  1\n",
      "Texas  -1  0  1\n",
      "Oregon -1  0  1\n"
     ]
    }
   ],
   "source": [
    "series1 = frame['d']\n",
    "\n",
    "print(series1)\n",
    "\n",
    "print(frame - frame['d'])\n",
    "\n",
    "print(frame.sub(series1, axis = 0))"
   ]
  },
  {
   "cell_type": "code",
   "execution_count": 40,
   "metadata": {},
   "outputs": [
    {
     "name": "stdout",
     "output_type": "stream",
     "text": [
      "<function <lambda> at 0x000001E35A99B598>\n",
      "               b         d         e\n",
      "Utah    0.113084  0.560178  1.311744\n",
      "Ohio   -0.364524 -0.035102 -0.723849\n",
      "Texas  -2.051653  0.507487  1.309346\n",
      "Oregon -0.612124  1.148528  0.033174\n",
      "b    2.164737\n",
      "d    1.183630\n",
      "e    2.035594\n",
      "dtype: float64\n",
      "Utah      1.198660\n",
      "Ohio      0.688747\n",
      "Texas     3.360999\n",
      "Oregon    1.760652\n",
      "dtype: float64\n"
     ]
    }
   ],
   "source": [
    "frame = pd.DataFrame(np.random.randn(4, 3), columns=list('bde'), \n",
    "                  index=['Utah', 'Ohio', 'Texas', 'Oregon'])\n",
    "\n",
    "f= lambda x:x.max() - x.min()\n",
    "\n",
    "print(f)\n",
    "\n",
    "print(frame)\n",
    "\n",
    "print(frame.apply(f))\n",
    "\n",
    "print(frame.apply(f, axis = 1))"
   ]
  },
  {
   "cell_type": "code",
   "execution_count": 42,
   "metadata": {},
   "outputs": [
    {
     "name": "stdout",
     "output_type": "stream",
     "text": [
      "            b         d         e\n",
      "min -2.051653 -0.035102 -0.723849\n",
      "max  0.113084  1.148528  1.311744\n"
     ]
    }
   ],
   "source": [
    "def f(x):\n",
    "    return pd.Series([x.min(), x.max()], index = ['min', 'max'])\n",
    "\n",
    "print(frame.apply(f))"
   ]
  },
  {
   "cell_type": "code",
   "execution_count": 44,
   "metadata": {},
   "outputs": [
    {
     "name": "stdout",
     "output_type": "stream",
     "text": [
      "            b      d      e\n",
      "Utah     0.11   0.56   1.31\n",
      "Ohio    -0.36  -0.04  -0.72\n",
      "Texas   -2.05   0.51   1.31\n",
      "Oregon  -0.61   1.15   0.03\n"
     ]
    }
   ],
   "source": [
    "format = lambda x: '%.2f'% x\n",
    "\n",
    "print(frame.applymap(format))"
   ]
  },
  {
   "cell_type": "code",
   "execution_count": 46,
   "metadata": {},
   "outputs": [
    {
     "name": "stdout",
     "output_type": "stream",
     "text": [
      "b    0\n",
      "d    1\n",
      "c    2\n",
      "a    3\n",
      "dtype: int32\n",
      "a    3\n",
      "b    0\n",
      "c    2\n",
      "d    1\n",
      "dtype: int32\n"
     ]
    }
   ],
   "source": [
    "obj = pd.Series(np.arange(4), index = list('bdca'))\n",
    "\n",
    "print(obj)\n",
    "\n",
    "print(obj.sort_index())"
   ]
  },
  {
   "cell_type": "code",
   "execution_count": 47,
   "metadata": {},
   "outputs": [
    {
     "name": "stdout",
     "output_type": "stream",
     "text": [
      "       b  d  c  a\n",
      "three  0  1  2  3\n",
      "one    4  5  6  7\n"
     ]
    }
   ],
   "source": [
    "frame = pd.DataFrame(np.arange(8).reshape(2,4), columns = list('bdca'),\n",
    "                    index = ['three', 'one'])\n",
    "\n",
    "print(frame)"
   ]
  },
  {
   "cell_type": "code",
   "execution_count": 48,
   "metadata": {},
   "outputs": [
    {
     "name": "stdout",
     "output_type": "stream",
     "text": [
      "       b  d  c  a\n",
      "one    4  5  6  7\n",
      "three  0  1  2  3\n"
     ]
    }
   ],
   "source": [
    "print(frame.sort_index())"
   ]
  },
  {
   "cell_type": "code",
   "execution_count": 49,
   "metadata": {},
   "outputs": [
    {
     "name": "stdout",
     "output_type": "stream",
     "text": [
      "       a  b  c  d\n",
      "three  3  0  2  1\n",
      "one    7  4  6  5\n"
     ]
    }
   ],
   "source": [
    "print(frame.sort_index(axis = 1))"
   ]
  },
  {
   "cell_type": "code",
   "execution_count": 51,
   "metadata": {},
   "outputs": [
    {
     "name": "stdout",
     "output_type": "stream",
     "text": [
      "       d  c  b  a\n",
      "three  1  2  0  3\n",
      "one    5  6  4  7\n"
     ]
    }
   ],
   "source": [
    "print(frame.sort_index(axis = 1, ascending = False))"
   ]
  },
  {
   "cell_type": "code",
   "execution_count": 56,
   "metadata": {},
   "outputs": [
    {
     "name": "stdout",
     "output_type": "stream",
     "text": [
      "1    7.0\n",
      "0    4.0\n",
      "2    3.0\n",
      "3   -1.0\n",
      "4    NaN\n",
      "5    NaN\n",
      "dtype: float64\n"
     ]
    }
   ],
   "source": [
    "obj = pd.Series([4, 7, 3, -1, np.nan, np.nan])\n",
    "\n",
    "print(obj.sort_values(ascending = False))"
   ]
  },
  {
   "cell_type": "code",
   "execution_count": 60,
   "metadata": {},
   "outputs": [
    {
     "name": "stdout",
     "output_type": "stream",
     "text": [
      "   b  a\n",
      "2 -3  0\n",
      "0  4  0\n",
      "3  2  1\n",
      "1  7  1\n"
     ]
    }
   ],
   "source": [
    "frame = pd.DataFrame({'b': [4, 7, -3, 2], 'a': [0, 1, 0, 1]})\n",
    "\n",
    "print(frame.sort_values(by = ['a' ,'b']))"
   ]
  },
  {
   "cell_type": "code",
   "execution_count": 66,
   "metadata": {},
   "outputs": [
    {
     "name": "stdout",
     "output_type": "stream",
     "text": [
      "0    6.5\n",
      "1    1.0\n",
      "2    6.5\n",
      "3    4.5\n",
      "4    3.0\n",
      "5    2.0\n",
      "6    4.5\n",
      "dtype: float64\n",
      "0    6.0\n",
      "1    1.0\n",
      "2    7.0\n",
      "3    4.0\n",
      "4    3.0\n",
      "5    2.0\n",
      "6    5.0\n",
      "dtype: float64\n",
      "0    1.0\n",
      "1    7.0\n",
      "2    2.0\n",
      "3    3.0\n",
      "4    5.0\n",
      "5    6.0\n",
      "6    4.0\n",
      "dtype: float64\n"
     ]
    }
   ],
   "source": [
    "obj = pd.Series([7, -5, 7, 4, 2, 0, 4])\n",
    "\n",
    "print(obj.rank())\n",
    "\n",
    "print(obj.rank(method = 'first'))\n",
    "\n",
    "print(obj.rank(method = 'first', ascending = False))"
   ]
  },
  {
   "cell_type": "code",
   "execution_count": 69,
   "metadata": {},
   "outputs": [
    {
     "name": "stdout",
     "output_type": "stream",
     "text": [
      "a    0\n",
      "a    1\n",
      "c    2\n",
      "c    3\n",
      "d    4\n",
      "dtype: int64\n",
      "False\n"
     ]
    }
   ],
   "source": [
    "obj = pd.Series(range(5), index = list('aaccd'))\n",
    "\n",
    "print(obj)\n",
    "\n",
    "print(obj.index.is_unique)"
   ]
  },
  {
   "cell_type": "code",
   "execution_count": 72,
   "metadata": {},
   "outputs": [
    {
     "name": "stdout",
     "output_type": "stream",
     "text": [
      "    one  two\n",
      "a  1.40  NaN\n",
      "b  7.10 -4.5\n",
      "c   NaN  NaN\n",
      "d  0.75 -1.3\n",
      "one    9.25\n",
      "two   -5.80\n",
      "dtype: float64\n",
      "one    3.083333\n",
      "two   -2.900000\n",
      "dtype: float64\n",
      "one    b\n",
      "two    d\n",
      "dtype: object\n",
      "one    d\n",
      "two    b\n",
      "dtype: object\n"
     ]
    }
   ],
   "source": [
    "df = pd.DataFrame([[1.4, np.nan], [7.1, -4.5], \n",
    "                [np.nan, np.nan], [0.75, -1.3]], \n",
    "               index=['a', 'b', 'c', 'd'], \n",
    "               columns=['one', 'two'])\n",
    "\n",
    "print(df)\n",
    "\n",
    "print(df.sum())\n",
    "\n",
    "print(df.mean())\n",
    "\n",
    "print(df.idxmax())\n",
    "\n",
    "print(df.idxmin())"
   ]
  },
  {
   "cell_type": "code",
   "execution_count": 80,
   "metadata": {},
   "outputs": [
    {
     "name": "stdout",
     "output_type": "stream",
     "text": [
      "    one  two\n",
      "a  1.40  NaN\n",
      "b  8.50 -4.5\n",
      "c   NaN  NaN\n",
      "d  9.25 -5.8\n",
      "            one       two\n",
      "count  3.000000  2.000000\n",
      "mean   3.083333 -2.900000\n",
      "std    3.493685  2.262742\n",
      "min    0.750000 -4.500000\n",
      "25%    1.075000 -3.700000\n",
      "50%    1.400000 -2.900000\n",
      "75%    4.250000 -2.100000\n",
      "max    7.100000 -1.300000\n"
     ]
    }
   ],
   "source": [
    "print(df.cumsum())\n",
    "\n",
    "print(df.describe())"
   ]
  },
  {
   "cell_type": "code",
   "execution_count": 82,
   "metadata": {},
   "outputs": [
    {
     "name": "stdout",
     "output_type": "stream",
     "text": [
      "one    1.4\n",
      "two   -2.9\n",
      "Name: 0.5, dtype: float64\n"
     ]
    }
   ],
   "source": [
    "print(df.quantile())"
   ]
  },
  {
   "cell_type": "code",
   "execution_count": 83,
   "metadata": {},
   "outputs": [
    {
     "name": "stdout",
     "output_type": "stream",
     "text": [
      "     one   two\n",
      "a  1.400   NaN\n",
      "b  9.940 -4.50\n",
      "c    NaN   NaN\n",
      "d  7.455  5.85\n"
     ]
    }
   ],
   "source": [
    "print(df.cumprod())"
   ]
  },
  {
   "cell_type": "code",
   "execution_count": 84,
   "metadata": {},
   "outputs": [
    {
     "name": "stdout",
     "output_type": "stream",
     "text": [
      "one    2.677778\n",
      "two    1.600000\n",
      "dtype: float64\n"
     ]
    }
   ],
   "source": [
    "print(df.mad())"
   ]
  },
  {
   "cell_type": "code",
   "execution_count": 5,
   "metadata": {},
   "outputs": [],
   "source": [
    "import pandas as pd\n",
    "import numpy as np\n",
    "from pandas_datareader import data,wb"
   ]
  },
  {
   "cell_type": "code",
   "execution_count": 26,
   "metadata": {},
   "outputs": [
    {
     "name": "stdout",
     "output_type": "stream",
     "text": [
      "AAPL                  High        Low       Open      Close     Volume  Adj Close\n",
      "Date                                                                        \n",
      "2009-01-02  13.005714  12.165714  12.268572  12.964286  186503800   8.644626\n",
      "2009-01-05  13.740000  13.244286  13.310000  13.511429  295402100   9.009460\n",
      "2009-01-06  13.881429  13.198571  13.707143  13.288571  322327600   8.860859\n",
      "2009-01-07  13.214286  12.894286  13.115714  13.001429  188262200   8.669391\n",
      "2009-01-08  13.307143  12.862857  12.918571  13.242857  168375200   8.830378\n",
      "2009-01-09  13.340000  12.877143  13.315714  12.940000  136711400   8.628430\n",
      "2009-01-12  12.998571  12.507143  12.922857  12.665714  154429100   8.445536\n",
      "2009-01-13  12.820000  12.335714  12.605714  12.530000  199599400   8.355044\n",
      "2009-01-14  12.464286  12.102858  12.320000  12.190000  255416000   8.128328\n",
      "2009-01-15  12.017143  11.435715  11.510000  11.911428  457908500   7.942574\n",
      "2009-01-16  12.054286  11.485714  12.042857  11.761429  261906400   7.842559\n",
      "2009-01-20  11.714286  11.171429  11.704286  11.171429  229978700   7.449142\n",
      "2009-01-21  11.840000  11.330000  11.341429  11.832857  272317500   7.890185\n",
      "2009-01-22  12.857142  12.260000  12.577143  12.622857  352382100   8.416958\n",
      "2009-01-23  12.838572  12.357142  12.402857  12.622857  190942500   8.416958\n",
      "2009-01-26  12.995714  12.614285  12.694285  12.805715  173059600   8.538889\n",
      "2009-01-27  13.078571  12.820000  12.884286  12.961429  154509600   8.642719\n",
      "2009-01-28  13.571428  13.071428  13.160000  13.457143  215351500   8.973265\n",
      "2009-01-29  13.477143  13.228572  13.298572  13.285714  148182300   8.858953\n",
      "2009-01-30  13.374286  12.858571  13.228572  12.875714  162869700   8.585566\n",
      "2009-02-02  13.142858  12.700000  12.728572  13.072857  139561800   8.717021\n",
      "2009-02-03  13.340000  12.897142  13.131429  13.282857  149827300   8.857052\n",
      "2009-02-04  13.750000  13.300000  13.317142  13.364285  202105400   8.911346\n",
      "2009-02-05  13.892858  13.231428  13.252857  13.780000  187311600   9.188545\n",
      "2009-02-06  14.285714  13.857142  13.860000  14.245714  171802400   9.499086\n",
      "2009-02-09  14.714286  14.214286  14.285714  14.644286  178752700   9.764855\n",
      "2009-02-10  14.644286  13.865714  14.475715  13.975715  212265200   9.319047\n",
      "2009-02-11  14.044286  13.681429  13.767143  13.831429  168743400   9.222839\n",
      "2009-02-12  14.250000  13.690000  13.690000  14.181429  204297100   9.456220\n",
      "2009-02-13  14.277143  14.017143  14.141429  14.165714  152244400   9.445743\n",
      "...               ...        ...        ...        ...        ...        ...\n",
      "2009-11-18  29.571428  29.142857  29.505714  29.422857   93580200  19.619249\n",
      "2009-11-19  29.230000  28.542856  29.230000  28.644285  135581600  19.100094\n",
      "2009-11-20  28.627142  28.251429  28.450001  28.559999  101666600  19.043890\n",
      "2009-11-23  29.428572  28.992857  29.000000  29.411428  118724200  19.611629\n",
      "2009-11-24  29.411428  28.985714  29.332857  29.205715   79609600  19.474459\n",
      "2009-11-25  29.378571  29.108572  29.342857  29.170000   71613500  19.450645\n",
      "2009-11-27  28.994286  28.338572  28.459999  28.655714   73814300  19.107714\n",
      "2009-11-30  28.811428  28.395714  28.730000  28.558571  106214500  19.042934\n",
      "2009-12-01  28.967142  28.118572  28.891428  28.138571  116440800  18.762886\n",
      "2009-12-02  28.774286  27.964285  28.422857  28.032858  178815000  18.692392\n",
      "2009-12-03  28.425714  28.038572  28.202858  28.068571  112179900  18.716209\n",
      "2009-12-04  28.554285  27.182858  28.528572  27.617144  206721200  18.415195\n",
      "2009-12-07  27.681429  26.954287  27.617144  26.992857  178689700  17.998917\n",
      "2009-12-08  27.478571  26.957144  27.051428  27.124287  172599700  18.086554\n",
      "2009-12-09  28.308571  27.187143  27.325714  28.257143  171195500  18.841948\n",
      "2009-12-10  28.528572  28.017143  28.500000  28.061428  122417400  18.711447\n",
      "2009-12-11  28.285715  27.632856  28.254286  27.809999  107443700  18.543785\n",
      "2009-12-14  28.204287  27.508572  27.910000  28.139999  123947600  18.763832\n",
      "2009-12-15  28.215714  27.610001  27.975714  27.738571  104864900  18.496168\n",
      "2009-12-16  28.071428  27.792856  27.871429  27.861429   88246200  18.578085\n",
      "2009-12-17  27.857143  27.285715  27.751429  27.408571   97209700  18.276117\n",
      "2009-12-18  27.928572  27.514286  27.595715  27.918571  152192600  18.616186\n",
      "2009-12-21  28.535715  27.952858  28.007143  28.318571  152976600  18.882910\n",
      "2009-12-22  28.692858  28.379999  28.491428  28.622858   87378900  19.085808\n",
      "2009-12-23  28.911428  28.687143  28.742857  28.871429   86381400  19.251556\n",
      "2009-12-24  29.907143  29.049999  29.078571  29.862858  125222300  19.912643\n",
      "2009-12-28  30.564285  29.944286  30.245714  30.230000  161141400  20.157457\n",
      "2009-12-29  30.388571  29.818571  30.375713  29.871429  111301400  19.918360\n",
      "2009-12-30  30.285715  29.758572  29.832857  30.234285  103021100  20.160311\n",
      "2009-12-31  30.478571  30.080000  30.447144  30.104286   88102700  20.073631\n",
      "\n",
      "[252 rows x 6 columns]\n",
      "IBM                   High         Low        Open       Close      Volume  \\\n",
      "Date                                                                     \n",
      "2009-01-02   87.589996   83.889999   83.889999   87.370003   7558200.0   \n",
      "2009-01-05   87.669998   86.180000   86.419998   86.820000   8315700.0   \n",
      "2009-01-06   90.410004   86.370003   87.110001   89.230003   9649500.0   \n",
      "2009-01-07   88.800003   87.120003   87.830002   87.790001   8455100.0   \n",
      "2009-01-08   88.139999   85.980003   87.809998   87.180000   7231800.0   \n",
      "2009-01-09   87.500000   84.250000   87.050003   84.699997   7440300.0   \n",
      "2009-01-12   86.599998   84.419998   84.570000   85.709999   8072700.0   \n",
      "2009-01-13   86.589996   84.790001   85.500000   85.339996   7657200.0   \n",
      "2009-01-14   84.820000   82.110001   84.199997   83.190002   9470000.0   \n",
      "2009-01-15   84.830002   82.260002   83.610001   84.120003  11734800.0   \n",
      "2009-01-16   85.739998   83.080002   84.610001   84.919998  11245300.0   \n",
      "2009-01-20   84.919998   81.760002   84.760002   81.980003  13800100.0   \n",
      "2009-01-21   91.599998   86.000000   86.290001   91.419998  24905000.0   \n",
      "2009-01-22   90.739998   88.110001   89.830002   90.070000  12350700.0   \n",
      "2009-01-23   90.699997   87.809998   88.400002   89.489998  10253700.0   \n",
      "2009-01-26   92.669998   89.519997   89.769997   91.599998   9840800.0   \n",
      "2009-01-27   91.970001   90.500000   91.769997   91.660004   8720800.0   \n",
      "2009-01-28   94.940002   91.910004   92.699997   94.820000  13407200.0   \n",
      "2009-01-29   94.580002   92.019997   93.580002   92.510002   9233500.0   \n",
      "2009-01-30   93.480003   91.250000   92.230003   91.650002   9617000.0   \n",
      "2009-02-02   91.860001   89.690002   90.599998   90.930000   9926400.0   \n",
      "2009-02-03   93.730003   90.160004   91.070000   93.480003   8864500.0   \n",
      "2009-02-04   94.910004   91.820000   93.739998   92.830002  10189800.0   \n",
      "2009-02-05   93.199997   91.220001   92.129997   92.410004  11622900.0   \n",
      "2009-02-06   97.099998   91.650002   92.510002   96.139999  13055900.0   \n",
      "2009-02-09   96.980003   94.720001   95.930000   96.820000   8165800.0   \n",
      "2009-02-10   96.820000   92.959999   95.580002   93.269997  13541300.0   \n",
      "2009-02-11   95.769997   93.000000   93.480003   95.160004  10765700.0   \n",
      "2009-02-12   95.199997   92.199997   94.410004   95.070000   9917700.0   \n",
      "2009-02-13   95.180000   93.570000   94.790001   93.839996   6742400.0   \n",
      "...                ...         ...         ...         ...         ...   \n",
      "2009-11-18  128.350006  127.550003  128.050003  128.149994   3970100.0   \n",
      "2009-11-19  127.839996  126.510002  127.279999  127.540001   5308400.0   \n",
      "2009-11-20  127.690002  126.459999  127.169998  126.959999   5354200.0   \n",
      "2009-11-23  128.940002  127.650002  127.699997  128.199997   7003500.0   \n",
      "2009-11-24  128.320007  127.139999  127.900002  127.930000   4816500.0   \n",
      "2009-11-25  128.220001  127.080002  127.879997  127.279999   3967700.0   \n",
      "2009-11-27  126.620003  124.260002  124.589996  125.699997   3319200.0   \n",
      "2009-11-30  126.599998  124.919998  125.120003  126.349998   6302700.0   \n",
      "2009-12-01  128.389999  126.849998  127.290001  127.940002   6578600.0   \n",
      "2009-12-02  128.389999  127.160004  127.320000  127.209999   4597900.0   \n",
      "2009-12-03  128.470001  127.250000  127.599998  127.550003   5760000.0   \n",
      "2009-12-04  128.899994  126.000000  128.399994  127.250000   7068500.0   \n",
      "2009-12-07  127.529999  126.589996  126.879997  127.040001   4144400.0   \n",
      "2009-12-08  127.349998  126.160004  126.970001  126.800003   5351400.0   \n",
      "2009-12-09  128.389999  126.110001  126.699997  128.389999   6071900.0   \n",
      "2009-12-10  129.470001  128.089996  128.130005  129.339996   7077800.0   \n",
      "2009-12-11  129.770004  128.710007  129.009995  129.679993   6597200.0   \n",
      "2009-12-14  129.979996  129.600006  129.649994  129.929993   5201300.0   \n",
      "2009-12-15  129.860001  127.940002  129.460007  128.490005   7862600.0   \n",
      "2009-12-16  129.600006  128.350006  128.740005  128.710007   6372500.0   \n",
      "2009-12-17  128.559998  127.120003  128.000000  127.400002   5909500.0   \n",
      "2009-12-18  128.389999  127.000000  127.970001  127.910004   9106600.0   \n",
      "2009-12-21  128.940002  127.680000  127.800003  128.649994   4772500.0   \n",
      "2009-12-22  129.979996  129.190002  129.300003  129.929993   5535500.0   \n",
      "2009-12-23  130.000000  129.300003  129.699997  130.000000   4127600.0   \n",
      "2009-12-24  130.570007  129.479996  129.889999  130.570007   4265100.0   \n",
      "2009-12-28  132.309998  130.720001  130.990005  132.309998   5800400.0   \n",
      "2009-12-29  132.369995  131.800003  132.279999  131.850006   4184200.0   \n",
      "2009-12-30  132.679993  130.679993  131.229996  132.570007   3867000.0   \n",
      "2009-12-31  132.850006  130.750000  132.410004  130.899994   4223400.0   \n",
      "\n",
      "             Adj Close  \n",
      "Date                    \n",
      "2009-01-02   64.983162  \n",
      "2009-01-05   64.574081  \n",
      "2009-01-06   66.366547  \n",
      "2009-01-07   65.295525  \n",
      "2009-01-08   64.841827  \n",
      "2009-01-09   62.997295  \n",
      "2009-01-12   63.748470  \n",
      "2009-01-13   63.473320  \n",
      "2009-01-14   61.874187  \n",
      "2009-01-15   62.565903  \n",
      "2009-01-16   63.160900  \n",
      "2009-01-20   60.974236  \n",
      "2009-01-21   67.995407  \n",
      "2009-01-22   66.991333  \n",
      "2009-01-23   66.559937  \n",
      "2009-01-26   68.129288  \n",
      "2009-01-27   68.173912  \n",
      "2009-01-28   70.524216  \n",
      "2009-01-29   68.806152  \n",
      "2009-01-30   68.166512  \n",
      "2009-02-02   67.630989  \n",
      "2009-02-03   69.527596  \n",
      "2009-02-04   69.044136  \n",
      "2009-02-05   68.731766  \n",
      "2009-02-06   71.895020  \n",
      "2009-02-09   72.403534  \n",
      "2009-02-10   69.748787  \n",
      "2009-02-11   71.162155  \n",
      "2009-02-12   71.094849  \n",
      "2009-02-13   70.175056  \n",
      "...                ...  \n",
      "2009-11-18   97.216805  \n",
      "2009-11-19   96.754074  \n",
      "2009-11-20   96.314056  \n",
      "2009-11-23   97.254768  \n",
      "2009-11-24   97.049911  \n",
      "2009-11-25   96.556824  \n",
      "2009-11-27   95.358200  \n",
      "2009-11-30   95.851318  \n",
      "2009-12-01   97.057518  \n",
      "2009-12-02   96.503723  \n",
      "2009-12-03   96.761681  \n",
      "2009-12-04   96.534065  \n",
      "2009-12-07   96.374763  \n",
      "2009-12-08   96.192688  \n",
      "2009-12-09   97.398895  \n",
      "2009-12-10   98.119583  \n",
      "2009-12-11   98.377510  \n",
      "2009-12-14   98.567169  \n",
      "2009-12-15   97.474777  \n",
      "2009-12-16   97.641640  \n",
      "2009-12-17   96.647858  \n",
      "2009-12-18   97.034767  \n",
      "2009-12-21   97.596107  \n",
      "2009-12-22   98.567169  \n",
      "2009-12-23   98.620255  \n",
      "2009-12-24   99.052696  \n",
      "2009-12-28  100.372673  \n",
      "2009-12-29  100.023689  \n",
      "2009-12-30  100.569916  \n",
      "2009-12-31   99.303009  \n",
      "\n",
      "[252 rows x 6 columns]\n"
     ]
    },
    {
     "name": "stdout",
     "output_type": "stream",
     "text": [
      "MSFT                  High        Low       Open      Close       Volume  Adj Close\n",
      "Date                                                                          \n",
      "2009-01-02  20.400000  19.370001  19.530001  20.330000   50084000.0  15.798766\n",
      "2009-01-05  20.670000  20.059999  20.200001  20.520000   61475200.0  15.946410\n",
      "2009-01-06  21.000000  20.610001  20.750000  20.760000   58083400.0  16.132925\n",
      "2009-01-07  20.290001  19.480000  20.190001  19.510000   72709900.0  15.161531\n",
      "2009-01-08  20.190001  19.549999  19.629999  20.120001   70255400.0  15.635570\n",
      "2009-01-09  20.299999  19.410000  20.170000  19.520000   49815300.0  15.169296\n",
      "2009-01-12  19.790001  19.299999  19.709999  19.469999   52163500.0  15.130442\n",
      "2009-01-13  19.990000  19.520000  19.520000  19.820000   65843500.0  15.402435\n",
      "2009-01-14  19.680000  19.010000  19.530001  19.090000   80257500.0  14.835141\n",
      "2009-01-15  19.299999  18.520000  19.070000  19.240000   96169800.0  14.951706\n",
      "2009-01-16  19.910000  19.150000  19.629999  19.709999   79634100.0  15.316952\n",
      "2009-01-20  19.620001  18.370001  19.459999  18.480000   89873000.0  14.361100\n",
      "2009-01-21  19.450001  18.459999  18.870001  19.379999   68340900.0  15.060501\n",
      "2009-01-22  18.180000  17.070000  18.049999  17.110001  222436600.0  13.296452\n",
      "2009-01-23  17.490000  16.750000  16.969999  17.200001  117020600.0  13.366391\n",
      "2009-01-26  17.809999  17.230000  17.290001  17.629999   92476500.0  13.700548\n",
      "2009-01-27  17.969999  17.430000  17.780001  17.660000   61695000.0  13.723866\n",
      "2009-01-28  18.309999  17.760000  17.799999  18.040001   64145500.0  14.019168\n",
      "2009-01-29  17.959999  17.559999  17.780001  17.590000   49192800.0  13.669465\n",
      "2009-01-30  17.790001  17.100000  17.740000  17.100000   62370900.0  13.288682\n",
      "2009-02-02  18.129999  17.000000  17.030001  17.830000   88871700.0  13.855976\n",
      "2009-02-03  18.610001  17.600000  17.850000  18.500000   86865100.0  14.376640\n",
      "2009-02-04  19.000000  18.500000  18.540001  18.629999   75618000.0  14.477663\n",
      "2009-02-05  19.139999  18.250000  18.510000  19.040001   75195200.0  14.796290\n",
      "2009-02-06  19.930000  19.059999  19.160000  19.660000   86746000.0  15.278094\n",
      "2009-02-09  19.770000  19.260000  19.639999  19.440001   52196400.0  15.107129\n",
      "2009-02-10  19.799999  18.700001  19.250000  18.799999   83953200.0  14.609776\n",
      "2009-02-11  19.490000  18.920000  18.940001  19.209999   58599000.0  14.928392\n",
      "2009-02-12  19.320000  18.540001  18.969999  19.260000   75323200.0  14.967243\n",
      "2009-02-13  19.469999  19.040001  19.270000  19.090000   47416000.0  14.835141\n",
      "...               ...        ...        ...        ...          ...        ...\n",
      "2009-11-18  30.139999  29.809999  30.000000  30.110001   59431200.0  23.947712\n",
      "2009-11-19  30.000000  29.700001  29.990000  29.780001   51967700.0  23.685246\n",
      "2009-11-20  29.770000  29.430000  29.660000  29.620001   42647100.0  23.557997\n",
      "2009-11-23  30.010000  29.700001  29.840000  29.940001   41832700.0  23.812504\n",
      "2009-11-24  29.990000  29.750000  29.950001  29.910000   37341400.0  23.788641\n",
      "2009-11-25  29.860001  29.580000  29.809999  29.790001   32033500.0  23.693209\n",
      "2009-11-27  29.389999  28.750000  29.110001  29.219999   29357900.0  23.239857\n",
      "2009-11-30  29.450001  29.000000  29.150000  29.410000   44172000.0  23.390974\n",
      "2009-12-01  30.049999  29.410000  29.520000  30.010000   49904200.0  23.868181\n",
      "2009-12-02  29.990000  29.650000  29.900000  29.780001   36308600.0  23.685246\n",
      "2009-12-03  30.200001  29.760000  29.840000  29.830000   43095200.0  23.725014\n",
      "2009-12-04  30.370001  29.830000  30.049999  29.980000   58810700.0  23.844326\n",
      "2009-12-07  30.080000  29.680000  29.780001  29.790001   38082700.0  23.693209\n",
      "2009-12-08  29.740000  29.379999  29.520000  29.570000   37402200.0  23.518227\n",
      "2009-12-09  29.809999  29.250000  29.469999  29.709999   44713300.0  23.629574\n",
      "2009-12-10  29.959999  29.660000  29.709999  29.870001   45940200.0  23.756830\n",
      "2009-12-11  30.000000  29.790001  29.969999  29.850000   43744200.0  23.740921\n",
      "2009-12-14  30.160000  29.900000  29.910000  30.110001   34651200.0  23.947712\n",
      "2009-12-15  30.209999  29.879999  29.889999  30.020000   49473200.0  23.876131\n",
      "2009-12-16  30.410000  30.040001  30.070000  30.100000   55737800.0  23.939756\n",
      "2009-12-17  29.959999  29.570000  29.950001  29.600000   43691200.0  23.542086\n",
      "2009-12-18  30.450001  29.799999  29.840000  30.360001   94118000.0  24.146545\n",
      "2009-12-21  30.840000  30.370001  30.400000  30.520000   40129100.0  24.273808\n",
      "2009-12-22  30.930000  30.540001  30.600000  30.820000   36321000.0  24.512405\n",
      "2009-12-23  30.950001  30.690001  30.709999  30.920000   28362700.0  24.591938\n",
      "2009-12-24  31.000000  30.760000  30.879999  31.000000   11083900.0  24.655563\n",
      "2009-12-28  31.180000  30.889999  31.000000  31.170000   25384000.0  24.790766\n",
      "2009-12-29  31.500000  31.230000  31.350000  31.389999   29716200.0  24.965748\n",
      "2009-12-30  31.290001  30.799999  31.150000  30.959999   42006200.0  24.623755\n",
      "2009-12-31  30.990000  30.480000  30.980000  30.480000   31929700.0  24.241983\n",
      "\n",
      "[252 rows x 6 columns]\n",
      "GOOG                   High         Low        Open       Close    Volume  \\\n",
      "Date                                                                   \n",
      "2009-01-02  159.870193  151.762924  153.302917  159.621811   7267900   \n",
      "2009-01-05  164.549759  156.482239  159.462845  162.965073   9841400   \n",
      "2009-01-06  169.298874  162.140427  165.414139  165.950653  12933900   \n",
      "2009-01-07  164.385834  158.345123  163.099197  159.964584   9047400   \n",
      "2009-01-08  161.544312  157.644669  158.111633  161.544312   7248100   \n",
      "2009-01-09  162.691849  155.687408  162.691849  156.517014   8737300   \n",
      "2009-01-12  158.444473  154.112640  157.132996  155.334702   6651500   \n",
      "2009-01-13  159.264145  154.192123  154.877670  156.144424   8922500   \n",
      "2009-01-14  155.886108  147.912964  153.998383  149.512558  11006800   \n",
      "2009-01-15  150.809128  142.468384  147.823547  148.528961  11946100   \n",
      "2009-01-16  153.129044  146.894592  151.524475  148.866760  10516700   \n",
      "2009-01-20  148.782318  140.461441  148.603485  140.461441  10161900   \n",
      "2009-01-21  150.769394  143.243347  143.243347  150.560745   9912900   \n",
      "2009-01-22  153.675491  146.621368  148.057037  152.259705  16641500   \n",
      "2009-01-23  164.907440  151.127060  153.635742  161.300888  21605100   \n",
      "2009-01-26  162.940231  159.244263  161.375412  160.888580   9281300   \n",
      "2009-01-27  165.856262  161.087280  162.170242  164.668991   9918600   \n",
      "2009-01-28  175.026627  167.068375  167.897980  173.208450  15482700   \n",
      "2009-01-29  171.410141  168.956100  171.156784  170.550735  14662200   \n",
      "2009-01-30  173.273026  166.914383  171.231308  168.171204   9404600   \n",
      "2009-02-02  171.385300  164.927307  166.064911  169.184616  10481500   \n",
      "2009-02-03  170.391769  165.836395  170.178162  169.125000  13198200   \n",
      "2009-02-04  176.074799  168.489136  168.936234  170.391769  13723400   \n",
      "2009-02-05  176.541763  167.411148  169.353516  175.717133  14623200   \n",
      "2009-02-06  185.697220  176.571579  177.078278  184.440399  14167600   \n",
      "2009-02-09  189.268982  182.463257  184.440399  188.161194  10019200   \n",
      "2009-02-10  187.530289  177.788651  186.775208  178.096649  14299800   \n",
      "2009-02-11  181.320679  175.359451  178.315231  177.863174  10531100   \n",
      "2009-02-12  180.635147  174.604370  175.438934  180.351990  11172800   \n",
      "2009-02-13  180.322174  176.467255  179.924759  177.684341   8347200   \n",
      "...                ...         ...         ...         ...       ...   \n",
      "2009-11-18  287.519958  284.186646  286.461853  286.461853   3119200   \n",
      "2009-11-19  285.145416  283.158325  285.031158  284.643677   4364100   \n",
      "2009-11-20  283.953156  282.860260  282.909943  283.138458   4038500   \n",
      "2009-11-23  291.404694  286.069397  286.382355  289.293427   5128000   \n",
      "2009-11-24  290.257172  286.407196  289.377869  289.661041   3231200   \n",
      "2009-11-25  291.633209  289.462341  291.310303  290.977478   2941400   \n",
      "2009-11-27  289.348083  283.640198  284.151855  288.006805   2787100   \n",
      "2009-11-30  289.949158  286.690369  288.438995  289.616333   3472500   \n",
      "2009-12-01  293.699768  289.616333  292.164764  293.029114   4670700   \n",
      "2009-12-02  294.588989  291.215912  293.590485  291.856750   3348000   \n",
      "2009-12-03  293.814026  290.609863  292.616821  290.977478   2875900   \n",
      "2009-12-04  295.493103  287.718658  294.593964  290.614838   5059900   \n",
      "2009-12-07  292.442932  288.622772  290.217407  291.230835   3293500   \n",
      "2009-12-08  293.421570  289.119568  289.864716  291.628235   3067700   \n",
      "2009-12-09  292.760864  289.904449  291.851776  292.606873   3585000   \n",
      "2009-12-10  295.433502  293.297394  293.312286  293.838867   3358200   \n",
      "2009-12-11  295.453369  291.966034  295.418579  293.347046   3462300   \n",
      "2009-12-14  296.725098  294.390289  295.751434  295.940186   3851600   \n",
      "2009-12-15  296.263092  293.585510  294.733032  294.653564   4590400   \n",
      "2009-12-16  298.245209  296.392242  297.365936  296.948639   5655300   \n",
      "2009-12-17  296.889038  294.961548  296.292908  295.050964   5311800   \n",
      "2009-12-18  297.529846  295.577545  296.089233  296.282959   7108900   \n",
      "2009-12-21  297.981903  295.910400  296.874115  297.405670   5175800   \n",
      "2009-12-22  298.806549  297.490112  298.727081  298.617767   3786000   \n",
      "2009-12-23  304.454803  299.477203  299.800079  303.863647   4172200   \n",
      "2009-12-24  307.758331  304.156738  304.484619  307.241699   1728500   \n",
      "2009-12-28  310.972412  307.241699  308.821411  309.422516   3417800   \n",
      "2009-12-29  310.401154  307.147308  310.351471  307.698730   2868100   \n",
      "2009-12-30  309.352966  307.008209  307.251617  309.352966   2950200   \n",
      "2009-12-31  310.679321  307.986847  310.356445  307.986847   2455400   \n",
      "\n",
      "             Adj Close  \n",
      "Date                    \n",
      "2009-01-02  159.621811  \n",
      "2009-01-05  162.965073  \n",
      "2009-01-06  165.950653  \n",
      "2009-01-07  159.964584  \n",
      "2009-01-08  161.544312  \n",
      "2009-01-09  156.517014  \n",
      "2009-01-12  155.334702  \n",
      "2009-01-13  156.144424  \n",
      "2009-01-14  149.512558  \n",
      "2009-01-15  148.528961  \n",
      "2009-01-16  148.866760  \n",
      "2009-01-20  140.461441  \n",
      "2009-01-21  150.560745  \n",
      "2009-01-22  152.259705  \n",
      "2009-01-23  161.300888  \n",
      "2009-01-26  160.888580  \n",
      "2009-01-27  164.668991  \n",
      "2009-01-28  173.208450  \n",
      "2009-01-29  170.550735  \n",
      "2009-01-30  168.171204  \n",
      "2009-02-02  169.184616  \n",
      "2009-02-03  169.125000  \n",
      "2009-02-04  170.391769  \n",
      "2009-02-05  175.717133  \n",
      "2009-02-06  184.440399  \n",
      "2009-02-09  188.161194  \n",
      "2009-02-10  178.096649  \n",
      "2009-02-11  177.863174  \n",
      "2009-02-12  180.351990  \n",
      "2009-02-13  177.684341  \n",
      "...                ...  \n",
      "2009-11-18  286.461853  \n",
      "2009-11-19  284.643677  \n",
      "2009-11-20  283.138458  \n",
      "2009-11-23  289.293427  \n",
      "2009-11-24  289.661041  \n",
      "2009-11-25  290.977478  \n",
      "2009-11-27  288.006805  \n",
      "2009-11-30  289.616333  \n",
      "2009-12-01  293.029114  \n",
      "2009-12-02  291.856750  \n",
      "2009-12-03  290.977478  \n",
      "2009-12-04  290.614838  \n",
      "2009-12-07  291.230835  \n",
      "2009-12-08  291.628235  \n",
      "2009-12-09  292.606873  \n",
      "2009-12-10  293.838867  \n",
      "2009-12-11  293.347046  \n",
      "2009-12-14  295.940186  \n",
      "2009-12-15  294.653564  \n",
      "2009-12-16  296.948639  \n",
      "2009-12-17  295.050964  \n",
      "2009-12-18  296.282959  \n",
      "2009-12-21  297.405670  \n",
      "2009-12-22  298.617767  \n",
      "2009-12-23  303.863647  \n",
      "2009-12-24  307.241699  \n",
      "2009-12-28  309.422516  \n",
      "2009-12-29  307.698730  \n",
      "2009-12-30  309.352966  \n",
      "2009-12-31  307.986847  \n",
      "\n",
      "[252 rows x 6 columns]\n"
     ]
    }
   ],
   "source": [
    "all_data = {}\n",
    "\n",
    "for ticker in ['AAPL', 'IBM', 'MSFT', 'GOOG']:\n",
    "    all_data[ticker] = data.get_data_yahoo(ticker, \n",
    "                                    '1/1/2009', '1/1/2010')\n",
    "    \n",
    "    print(ticker, all_data[ticker])"
   ]
  },
  {
   "cell_type": "code",
   "execution_count": 27,
   "metadata": {},
   "outputs": [
    {
     "name": "stdout",
     "output_type": "stream",
     "text": [
      "                 AAPL         IBM       MSFT        GOOG\n",
      "Date                                                    \n",
      "2009-01-02   8.644626   64.983162  15.798766  159.621811\n",
      "2009-01-05   9.009460   64.574081  15.946410  162.965073\n",
      "2009-01-06   8.860859   66.366547  16.132925  165.950653\n",
      "2009-01-07   8.669391   65.295525  15.161531  159.964584\n",
      "2009-01-08   8.830378   64.841827  15.635570  161.544312\n",
      "2009-01-09   8.628430   62.997295  15.169296  156.517014\n",
      "2009-01-12   8.445536   63.748470  15.130442  155.334702\n",
      "2009-01-13   8.355044   63.473320  15.402435  156.144424\n",
      "2009-01-14   8.128328   61.874187  14.835141  149.512558\n",
      "2009-01-15   7.942574   62.565903  14.951706  148.528961\n",
      "2009-01-16   7.842559   63.160900  15.316952  148.866760\n",
      "2009-01-20   7.449142   60.974236  14.361100  140.461441\n",
      "2009-01-21   7.890185   67.995407  15.060501  150.560745\n",
      "2009-01-22   8.416958   66.991333  13.296452  152.259705\n",
      "2009-01-23   8.416958   66.559937  13.366391  161.300888\n",
      "2009-01-26   8.538889   68.129288  13.700548  160.888580\n",
      "2009-01-27   8.642719   68.173912  13.723866  164.668991\n",
      "2009-01-28   8.973265   70.524216  14.019168  173.208450\n",
      "2009-01-29   8.858953   68.806152  13.669465  170.550735\n",
      "2009-01-30   8.585566   68.166512  13.288682  168.171204\n",
      "2009-02-02   8.717021   67.630989  13.855976  169.184616\n",
      "2009-02-03   8.857052   69.527596  14.376640  169.125000\n",
      "2009-02-04   8.911346   69.044136  14.477663  170.391769\n",
      "2009-02-05   9.188545   68.731766  14.796290  175.717133\n",
      "2009-02-06   9.499086   71.895020  15.278094  184.440399\n",
      "2009-02-09   9.764855   72.403534  15.107129  188.161194\n",
      "2009-02-10   9.319047   69.748787  14.609776  178.096649\n",
      "2009-02-11   9.222839   71.162155  14.928392  177.863174\n",
      "2009-02-12   9.456220   71.094849  14.967243  180.351990\n",
      "2009-02-13   9.445743   70.175056  14.835141  177.684341\n",
      "...               ...         ...        ...         ...\n",
      "2009-11-18  19.619249   97.216805  23.947712  286.461853\n",
      "2009-11-19  19.100094   96.754074  23.685246  284.643677\n",
      "2009-11-20  19.043890   96.314056  23.557997  283.138458\n",
      "2009-11-23  19.611629   97.254768  23.812504  289.293427\n",
      "2009-11-24  19.474459   97.049911  23.788641  289.661041\n",
      "2009-11-25  19.450645   96.556824  23.693209  290.977478\n",
      "2009-11-27  19.107714   95.358200  23.239857  288.006805\n",
      "2009-11-30  19.042934   95.851318  23.390974  289.616333\n",
      "2009-12-01  18.762886   97.057518  23.868181  293.029114\n",
      "2009-12-02  18.692392   96.503723  23.685246  291.856750\n",
      "2009-12-03  18.716209   96.761681  23.725014  290.977478\n",
      "2009-12-04  18.415195   96.534065  23.844326  290.614838\n",
      "2009-12-07  17.998917   96.374763  23.693209  291.230835\n",
      "2009-12-08  18.086554   96.192688  23.518227  291.628235\n",
      "2009-12-09  18.841948   97.398895  23.629574  292.606873\n",
      "2009-12-10  18.711447   98.119583  23.756830  293.838867\n",
      "2009-12-11  18.543785   98.377510  23.740921  293.347046\n",
      "2009-12-14  18.763832   98.567169  23.947712  295.940186\n",
      "2009-12-15  18.496168   97.474777  23.876131  294.653564\n",
      "2009-12-16  18.578085   97.641640  23.939756  296.948639\n",
      "2009-12-17  18.276117   96.647858  23.542086  295.050964\n",
      "2009-12-18  18.616186   97.034767  24.146545  296.282959\n",
      "2009-12-21  18.882910   97.596107  24.273808  297.405670\n",
      "2009-12-22  19.085808   98.567169  24.512405  298.617767\n",
      "2009-12-23  19.251556   98.620255  24.591938  303.863647\n",
      "2009-12-24  19.912643   99.052696  24.655563  307.241699\n",
      "2009-12-28  20.157457  100.372673  24.790766  309.422516\n",
      "2009-12-29  19.918360  100.023689  24.965748  307.698730\n",
      "2009-12-30  20.160311  100.569916  24.623755  309.352966\n",
      "2009-12-31  20.073631   99.303009  24.241983  307.986847\n",
      "\n",
      "[252 rows x 4 columns]                  AAPL         IBM         MSFT      GOOG\n",
      "Date                                                    \n",
      "2009-01-02  186503800   7558200.0   50084000.0   7267900\n",
      "2009-01-05  295402100   8315700.0   61475200.0   9841400\n",
      "2009-01-06  322327600   9649500.0   58083400.0  12933900\n",
      "2009-01-07  188262200   8455100.0   72709900.0   9047400\n",
      "2009-01-08  168375200   7231800.0   70255400.0   7248100\n",
      "2009-01-09  136711400   7440300.0   49815300.0   8737300\n",
      "2009-01-12  154429100   8072700.0   52163500.0   6651500\n",
      "2009-01-13  199599400   7657200.0   65843500.0   8922500\n",
      "2009-01-14  255416000   9470000.0   80257500.0  11006800\n",
      "2009-01-15  457908500  11734800.0   96169800.0  11946100\n",
      "2009-01-16  261906400  11245300.0   79634100.0  10516700\n",
      "2009-01-20  229978700  13800100.0   89873000.0  10161900\n",
      "2009-01-21  272317500  24905000.0   68340900.0   9912900\n",
      "2009-01-22  352382100  12350700.0  222436600.0  16641500\n",
      "2009-01-23  190942500  10253700.0  117020600.0  21605100\n",
      "2009-01-26  173059600   9840800.0   92476500.0   9281300\n",
      "2009-01-27  154509600   8720800.0   61695000.0   9918600\n",
      "2009-01-28  215351500  13407200.0   64145500.0  15482700\n",
      "2009-01-29  148182300   9233500.0   49192800.0  14662200\n",
      "2009-01-30  162869700   9617000.0   62370900.0   9404600\n",
      "2009-02-02  139561800   9926400.0   88871700.0  10481500\n",
      "2009-02-03  149827300   8864500.0   86865100.0  13198200\n",
      "2009-02-04  202105400  10189800.0   75618000.0  13723400\n",
      "2009-02-05  187311600  11622900.0   75195200.0  14623200\n",
      "2009-02-06  171802400  13055900.0   86746000.0  14167600\n",
      "2009-02-09  178752700   8165800.0   52196400.0  10019200\n",
      "2009-02-10  212265200  13541300.0   83953200.0  14299800\n",
      "2009-02-11  168743400  10765700.0   58599000.0  10531100\n",
      "2009-02-12  204297100   9917700.0   75323200.0  11172800\n",
      "2009-02-13  152244400   6742400.0   47416000.0   8347200\n",
      "...               ...         ...          ...       ...\n",
      "2009-11-18   93580200   3970100.0   59431200.0   3119200\n",
      "2009-11-19  135581600   5308400.0   51967700.0   4364100\n",
      "2009-11-20  101666600   5354200.0   42647100.0   4038500\n",
      "2009-11-23  118724200   7003500.0   41832700.0   5128000\n",
      "2009-11-24   79609600   4816500.0   37341400.0   3231200\n",
      "2009-11-25   71613500   3967700.0   32033500.0   2941400\n",
      "2009-11-27   73814300   3319200.0   29357900.0   2787100\n",
      "2009-11-30  106214500   6302700.0   44172000.0   3472500\n",
      "2009-12-01  116440800   6578600.0   49904200.0   4670700\n",
      "2009-12-02  178815000   4597900.0   36308600.0   3348000\n",
      "2009-12-03  112179900   5760000.0   43095200.0   2875900\n",
      "2009-12-04  206721200   7068500.0   58810700.0   5059900\n",
      "2009-12-07  178689700   4144400.0   38082700.0   3293500\n",
      "2009-12-08  172599700   5351400.0   37402200.0   3067700\n",
      "2009-12-09  171195500   6071900.0   44713300.0   3585000\n",
      "2009-12-10  122417400   7077800.0   45940200.0   3358200\n",
      "2009-12-11  107443700   6597200.0   43744200.0   3462300\n",
      "2009-12-14  123947600   5201300.0   34651200.0   3851600\n",
      "2009-12-15  104864900   7862600.0   49473200.0   4590400\n",
      "2009-12-16   88246200   6372500.0   55737800.0   5655300\n",
      "2009-12-17   97209700   5909500.0   43691200.0   5311800\n",
      "2009-12-18  152192600   9106600.0   94118000.0   7108900\n",
      "2009-12-21  152976600   4772500.0   40129100.0   5175800\n",
      "2009-12-22   87378900   5535500.0   36321000.0   3786000\n",
      "2009-12-23   86381400   4127600.0   28362700.0   4172200\n",
      "2009-12-24  125222300   4265100.0   11083900.0   1728500\n",
      "2009-12-28  161141400   5800400.0   25384000.0   3417800\n",
      "2009-12-29  111301400   4184200.0   29716200.0   2868100\n",
      "2009-12-30  103021100   3867000.0   42006200.0   2950200\n",
      "2009-12-31   88102700   4223400.0   31929700.0   2455400\n",
      "\n",
      "[252 rows x 4 columns]\n"
     ]
    }
   ],
   "source": [
    "price = pd.DataFrame({tic: dt['Adj Close'] \n",
    "                      for tic, dt in all_data.items()})\n",
    "\n",
    "volume = pd.DataFrame({tic:dt['Volume']\n",
    "                      for tic, dt in all_data.items()})\n",
    "\n",
    "print(price, volume)"
   ]
  },
  {
   "cell_type": "code",
   "execution_count": 28,
   "metadata": {},
   "outputs": [
    {
     "name": "stdout",
     "output_type": "stream",
     "text": [
      "                AAPL       IBM      MSFT      GOOG\n",
      "Date                                              \n",
      "2009-12-24  0.034339  0.004385  0.002587  0.011117\n",
      "2009-12-28  0.012294  0.013326  0.005484  0.007098\n",
      "2009-12-29 -0.011861 -0.003477  0.007058 -0.005571\n",
      "2009-12-30  0.012147  0.005461 -0.013699  0.005376\n",
      "2009-12-31 -0.004300 -0.012597 -0.015504 -0.004416\n",
      "                AAPL       IBM      MSFT      GOOG\n",
      "Date                                              \n",
      "2009-01-02       NaN       NaN       NaN       NaN\n",
      "2009-01-05  0.042204 -0.006295  0.009345  0.020945\n",
      "2009-01-06 -0.016494  0.027758  0.011696  0.018320\n",
      "2009-01-07 -0.021608 -0.016138 -0.060212 -0.036071\n",
      "2009-01-08  0.018570 -0.006948  0.031266  0.009875\n",
      "2009-01-09 -0.022870 -0.028447 -0.029821 -0.031120\n",
      "2009-01-12 -0.021197  0.011924 -0.002561 -0.007554\n",
      "2009-01-13 -0.010715 -0.004316  0.017977  0.005213\n",
      "2009-01-14 -0.027135 -0.025194 -0.036831 -0.042473\n",
      "2009-01-15 -0.022853  0.011179  0.007857 -0.006579\n",
      "2009-01-16 -0.012592  0.009510  0.024428  0.002274\n",
      "2009-01-20 -0.050164 -0.034621 -0.062405 -0.056462\n",
      "2009-01-21  0.059207  0.115150  0.048701  0.071901\n",
      "2009-01-22  0.066763 -0.014767 -0.117131  0.011284\n",
      "2009-01-23  0.000000 -0.006440  0.005260  0.059380\n",
      "2009-01-26  0.014486  0.023578  0.025000 -0.002556\n",
      "2009-01-27  0.012160  0.000655  0.001702  0.023497\n",
      "2009-01-28  0.038246  0.034475  0.021517  0.051858\n",
      "2009-01-29 -0.012739 -0.024361 -0.024945 -0.015344\n",
      "2009-01-30 -0.030860 -0.009296 -0.027856 -0.013952\n",
      "2009-02-02  0.015311 -0.007856  0.042690  0.006026\n",
      "2009-02-03  0.016064  0.028043  0.037577 -0.000352\n",
      "2009-02-04  0.006130 -0.006953  0.007027  0.007490\n",
      "2009-02-05  0.031106 -0.004524  0.022008  0.031254\n",
      "2009-02-06  0.033797  0.046023  0.032562  0.049644\n",
      "2009-02-09  0.027978  0.007073 -0.011190  0.020173\n",
      "2009-02-10 -0.045654 -0.036666 -0.032922 -0.053489\n",
      "2009-02-11 -0.010324  0.020264  0.021808 -0.001311\n",
      "2009-02-12  0.025305 -0.000946  0.002602  0.013993\n",
      "2009-02-13 -0.001108 -0.012938 -0.008826 -0.014791\n",
      "...              ...       ...       ...       ...\n",
      "2009-11-18 -0.005024 -0.003732  0.003667 -0.001455\n",
      "2009-11-19 -0.026462 -0.004760 -0.010960 -0.006347\n",
      "2009-11-20 -0.002943 -0.004548 -0.005372 -0.005288\n",
      "2009-11-23  0.029812  0.009767  0.010803  0.021738\n",
      "2009-11-24 -0.006994 -0.002106 -0.001002  0.001271\n",
      "2009-11-25 -0.001223 -0.005081 -0.004012  0.004545\n",
      "2009-11-27 -0.017631 -0.012414 -0.019134 -0.010209\n",
      "2009-11-30 -0.003390  0.005171  0.006503  0.005589\n",
      "2009-12-01 -0.014706  0.012584  0.020401  0.011784\n",
      "2009-12-02 -0.003757 -0.005706 -0.007664 -0.004001\n",
      "2009-12-03  0.001274  0.002673  0.001679 -0.003013\n",
      "2009-12-04 -0.016083 -0.002352  0.005029 -0.001246\n",
      "2009-12-07 -0.022605 -0.001650 -0.006338  0.002120\n",
      "2009-12-08  0.004869 -0.001889 -0.007385  0.001365\n",
      "2009-12-09  0.041766  0.012539  0.004735  0.003356\n",
      "2009-12-10 -0.006926  0.007399  0.005385  0.004210\n",
      "2009-12-11 -0.008960  0.002629 -0.000670 -0.001674\n",
      "2009-12-14  0.011866  0.001928  0.008710  0.008840\n",
      "2009-12-15 -0.014265 -0.011083 -0.002989 -0.004348\n",
      "2009-12-16  0.004429  0.001712  0.002665  0.007789\n",
      "2009-12-17 -0.016254 -0.010178 -0.016611 -0.006391\n",
      "2009-12-18  0.018607  0.004003  0.025676  0.004176\n",
      "2009-12-21  0.014328  0.005785  0.005270  0.003789\n",
      "2009-12-22  0.010745  0.009950  0.009829  0.004076\n",
      "2009-12-23  0.008684  0.000539  0.003245  0.017567\n",
      "2009-12-24  0.034339  0.004385  0.002587  0.011117\n",
      "2009-12-28  0.012294  0.013326  0.005484  0.007098\n",
      "2009-12-29 -0.011861 -0.003477  0.007058 -0.005571\n",
      "2009-12-30  0.012147  0.005461 -0.013699  0.005376\n",
      "2009-12-31 -0.004300 -0.012597 -0.015504 -0.004416\n",
      "\n",
      "[252 rows x 4 columns]\n"
     ]
    }
   ],
   "source": [
    "returns = price.pct_change()\n",
    "\n",
    "print(returns.tail())\n",
    "\n",
    "print(returns)"
   ]
  },
  {
   "cell_type": "code",
   "execution_count": 34,
   "metadata": {},
   "outputs": [
    {
     "name": "stdout",
     "output_type": "stream",
     "text": [
      "0.5158310599454786\n",
      "0.4847075902411383\n",
      "          AAPL       IBM      MSFT      GOOG\n",
      "AAPL  1.000000  0.579036  0.421541  0.704455\n",
      "IBM   0.579036  1.000000  0.484708  0.605464\n",
      "MSFT  0.421541  0.484708  1.000000  0.515831\n",
      "GOOG  0.704455  0.605464  0.515831  1.000000\n",
      "          AAPL       IBM      MSFT      GOOG\n",
      "AAPL  0.000444  0.000213  0.000207  0.000280\n",
      "IBM   0.000213  0.000304  0.000197  0.000200\n",
      "MSFT  0.000207  0.000197  0.000543  0.000227\n",
      "GOOG  0.000280  0.000200  0.000227  0.000357\n",
      "AAPL    0.579036\n",
      "IBM     1.000000\n",
      "MSFT    0.484708\n",
      "GOOG    0.605464\n",
      "dtype: float64\n",
      "AAPL    0.103132\n",
      "IBM     0.211382\n",
      "MSFT   -0.002449\n",
      "GOOG    0.117167\n",
      "dtype: float64\n"
     ]
    }
   ],
   "source": [
    "print(returns.GOOG.corr(returns.MSFT))\n",
    "\n",
    "print(returns.MSFT.corr(returns.IBM))\n",
    "\n",
    "print(returns.corr())\n",
    "\n",
    "print(returns.cov())\n",
    "\n",
    "print(returns.corrwith(returns.IBM))\n",
    "\n",
    "print(returns.corrwith(volume))"
   ]
  },
  {
   "cell_type": "code",
   "execution_count": 49,
   "metadata": {},
   "outputs": [
    {
     "name": "stdout",
     "output_type": "stream",
     "text": [
      "['c' 'a' 'd' 'b']\n",
      "None\n",
      "d    1\n",
      "c    3\n",
      "b    2\n",
      "a    3\n",
      "dtype: int64\n"
     ]
    }
   ],
   "source": [
    "obj = pd.Series(['c', 'a', 'd', 'a', 'a', 'b', 'b', 'c', 'c'])\n",
    "\n",
    "uniques = obj.unique()\n",
    "\n",
    "print(uniques)\n",
    "\n",
    "print(uniques.sort())\n",
    "\n",
    "print(obj.value_counts().sort_index(ascending = False))\n"
   ]
  },
  {
   "cell_type": "code",
   "execution_count": 51,
   "metadata": {},
   "outputs": [
    {
     "name": "stdout",
     "output_type": "stream",
     "text": [
      "0     True\n",
      "1    False\n",
      "2    False\n",
      "3    False\n",
      "4    False\n",
      "5     True\n",
      "6     True\n",
      "7     True\n",
      "8     True\n",
      "dtype: bool\n",
      "0    c\n",
      "5    b\n",
      "6    b\n",
      "7    c\n",
      "8    c\n",
      "dtype: object\n"
     ]
    }
   ],
   "source": [
    "mask = obj.isin(['b','c'])\n",
    "\n",
    "print(mask)\n",
    "\n",
    "print(obj[mask])"
   ]
  },
  {
   "cell_type": "code",
   "execution_count": 55,
   "metadata": {},
   "outputs": [
    {
     "name": "stdout",
     "output_type": "stream",
     "text": [
      "   Qu1  Qu2  Qu3\n",
      "0    1    2    1\n",
      "1    3    3    5\n",
      "2    4    1    2\n",
      "3    3    2    4\n",
      "4    4    3    4\n"
     ]
    }
   ],
   "source": [
    "data = pd.DataFrame({'Qu1': [1, 3, 4, 3, 4], 'Qu2': [2, 3, 1, 2, 3],\n",
    "                    'Qu3': [1, 5, 2, 4, 4]})\n",
    "\n",
    "print(data)"
   ]
  },
  {
   "cell_type": "code",
   "execution_count": 57,
   "metadata": {},
   "outputs": [
    {
     "name": "stdout",
     "output_type": "stream",
     "text": [
      "   Qu1  Qu2  Qu3\n",
      "1  1.0  1.0  1.0\n",
      "2  NaN  2.0  1.0\n",
      "3  2.0  2.0  NaN\n",
      "4  2.0  NaN  2.0\n",
      "5  NaN  NaN  1.0\n"
     ]
    }
   ],
   "source": [
    "result = data.apply(pd.value_counts)\n",
    "\n",
    "print(result)"
   ]
  },
  {
   "cell_type": "code",
   "execution_count": 62,
   "metadata": {},
   "outputs": [
    {
     "name": "stdout",
     "output_type": "stream",
     "text": [
      "0    False\n",
      "1    False\n",
      "2    False\n",
      "3    False\n",
      "dtype: bool\n",
      "0     aardvark\n",
      "1    artichoke\n",
      "3      avocado\n",
      "dtype: object\n",
      "0     aardvark\n",
      "1    artichoke\n",
      "3      avocado\n",
      "dtype: object\n"
     ]
    }
   ],
   "source": [
    "string_data = pd.Series(['aardvark', 'artichoke', np.nan, 'avocado'])\n",
    "\n",
    "print(string_data.fillna(0).isnull())\n",
    "\n",
    "print(string_data.dropna())\n",
    "\n",
    "print(string_data[string_data.notnull()])"
   ]
  },
  {
   "cell_type": "code",
   "execution_count": 73,
   "metadata": {},
   "outputs": [
    {
     "name": "stdout",
     "output_type": "stream",
     "text": [
      "     0    1    2\n",
      "0  1.0  6.5  3.0\n",
      "1  1.0  NaN  NaN\n",
      "2  NaN  NaN  NaN\n",
      "3  NaN  6.5  3.0\n",
      "     0    1    2\n",
      "0  1.0  6.5  3.0\n",
      "     0    1    2\n",
      "0  1.0  6.5  3.0\n",
      "1  1.0  NaN  NaN\n",
      "3  NaN  6.5  3.0\n",
      "     0    1    2   4\n",
      "0  1.0  6.5  3.0 NaN\n",
      "1  1.0  NaN  NaN NaN\n",
      "2  NaN  NaN  NaN NaN\n",
      "3  NaN  6.5  3.0 NaN\n",
      "     0    1    2   4\n",
      "0  1.0  6.5  3.0 NaN\n",
      "1  1.0  NaN  NaN NaN\n",
      "3  NaN  6.5  3.0 NaN\n"
     ]
    }
   ],
   "source": [
    "data = pd.DataFrame([[1, 6.5, 3],[1, np.nan, np.nan],\n",
    "                     [np.nan, np.nan, np.nan],[np.nan, 6.5, 3]])\n",
    "\n",
    "print(data)\n",
    "\n",
    "print(data.dropna())\n",
    "\n",
    "print(data.dropna(how = 'all'))\n",
    "\n",
    "data[4] = np.nan\n",
    "\n",
    "print(data)\n",
    "\n",
    "print(data.dropna(axis = 0, how = 'all'))"
   ]
  },
  {
   "cell_type": "code",
   "execution_count": 82,
   "metadata": {},
   "outputs": [
    {
     "name": "stdout",
     "output_type": "stream",
     "text": [
      "          0         1         2\n",
      "0  2.037628 -0.584190 -0.269083\n",
      "1  1.631168  0.798062  0.187787\n",
      "2  0.158449  0.163060 -0.532123\n",
      "3 -0.057402 -1.199973 -0.097544\n",
      "4  0.696746 -2.018428 -0.200241\n",
      "5 -0.309202 -0.829156 -0.064804\n",
      "6 -0.262390  0.574652  0.107196\n",
      "          0         1         2\n",
      "0  2.037628       NaN       NaN\n",
      "1  1.631168       NaN       NaN\n",
      "2  0.158449       NaN -0.532123\n",
      "3 -0.057402       NaN -0.097544\n",
      "4  0.696746 -2.018428 -0.200241\n",
      "5 -0.309202 -0.829156 -0.064804\n",
      "6 -0.262390  0.574652  0.107196\n",
      "          0         1         2\n",
      "4  0.696746 -2.018428 -0.200241\n",
      "5 -0.309202 -0.829156 -0.064804\n",
      "6 -0.262390  0.574652  0.107196\n"
     ]
    }
   ],
   "source": [
    "df = pd.DataFrame(np.random.randn(7,3))\n",
    "\n",
    "print(df)\n",
    "\n",
    "df.iloc[:4, 1] = np.nan\n",
    "\n",
    "df.iloc[:2, 2] = np.nan\n",
    "\n",
    "print(df)\n",
    "\n",
    "print(df.dropna(thresh = 3))"
   ]
  },
  {
   "cell_type": "code",
   "execution_count": 86,
   "metadata": {},
   "outputs": [
    {
     "name": "stdout",
     "output_type": "stream",
     "text": [
      "          0         1         2\n",
      "0  2.037628  0.000000  0.000000\n",
      "1  1.631168  0.000000  0.000000\n",
      "2  0.158449  0.000000 -0.532123\n",
      "3 -0.057402  0.000000 -0.097544\n",
      "4  0.696746 -2.018428 -0.200241\n",
      "5 -0.309202 -0.829156 -0.064804\n",
      "6 -0.262390  0.574652  0.107196\n",
      "          0         1         2\n",
      "0  2.037628  0.500000 -1.000000\n",
      "1  1.631168  0.500000 -1.000000\n",
      "2  0.158449  0.500000 -0.532123\n",
      "3 -0.057402  0.500000 -0.097544\n",
      "4  0.696746 -2.018428 -0.200241\n",
      "5 -0.309202 -0.829156 -0.064804\n",
      "6 -0.262390  0.574652  0.107196\n"
     ]
    }
   ],
   "source": [
    "print(df.fillna(0))\n",
    "\n",
    "print(df.fillna({1:0.5, 2:-1}))"
   ]
  },
  {
   "cell_type": "code",
   "execution_count": 88,
   "metadata": {},
   "outputs": [
    {
     "name": "stdout",
     "output_type": "stream",
     "text": [
      "          0         1         2\n",
      "0  2.037628  0.000000  0.000000\n",
      "1  1.631168  0.000000  0.000000\n",
      "2  0.158449  0.000000 -0.532123\n",
      "3 -0.057402  0.000000 -0.097544\n",
      "4  0.696746 -2.018428 -0.200241\n",
      "5 -0.309202 -0.829156 -0.064804\n",
      "6 -0.262390  0.574652  0.107196\n"
     ]
    }
   ],
   "source": [
    "_ = df.fillna(0, inplace = True)\n",
    "\n",
    "print(df)"
   ]
  },
  {
   "cell_type": "code",
   "execution_count": 92,
   "metadata": {},
   "outputs": [
    {
     "name": "stdout",
     "output_type": "stream",
     "text": [
      "          0         1         2\n",
      "0 -0.300298  1.013495 -0.003885\n",
      "1  2.062101 -0.382725  0.665787\n",
      "2  0.226891       NaN -1.032626\n",
      "3  1.196893       NaN  1.666575\n",
      "4 -1.687795       NaN       NaN\n",
      "5 -0.602027       NaN       NaN\n",
      "          0         1         2\n",
      "0 -0.300298  1.013495 -0.003885\n",
      "1  2.062101 -0.382725  0.665787\n",
      "2  0.226891 -0.382725 -1.032626\n",
      "3  1.196893 -0.382725  1.666575\n",
      "4 -1.687795 -0.382725  1.666575\n",
      "5 -0.602027       NaN  1.666575\n"
     ]
    }
   ],
   "source": [
    "df = pd.DataFrame(np.random.randn(6, 3))\n",
    "\n",
    "df.iloc[2:, 1] = np.nan\n",
    "\n",
    "df.iloc[4:, 2] = np.nan\n",
    "\n",
    "print(df)\n",
    "\n",
    "print(df.fillna(method = 'ffill', limit = 3))"
   ]
  },
  {
   "cell_type": "code",
   "execution_count": 95,
   "metadata": {},
   "outputs": [
    {
     "name": "stdout",
     "output_type": "stream",
     "text": [
      "0    1.000000\n",
      "1    3.833333\n",
      "2    3.500000\n",
      "3    3.833333\n",
      "4    7.000000\n",
      "dtype: float64\n"
     ]
    }
   ],
   "source": [
    "data = pd.Series([1, np.nan, 3.5, np.nan, 7])\n",
    "\n",
    "print(data.fillna(data.dropna().mean()))"
   ]
  },
  {
   "cell_type": "code",
   "execution_count": 97,
   "metadata": {},
   "outputs": [
    {
     "name": "stdout",
     "output_type": "stream",
     "text": [
      "a  1    0.933984\n",
      "   2   -1.088147\n",
      "   3    0.229661\n",
      "b  1   -0.708243\n",
      "   2   -0.340311\n",
      "   3   -0.707304\n",
      "c  1   -0.440737\n",
      "   2    0.918009\n",
      "d  2    0.665443\n",
      "   3   -0.148376\n",
      "dtype: float64\n"
     ]
    }
   ],
   "source": [
    "data = pd.Series(np.random.randn(10), index = [list('aaabbbccdd'),\n",
    "                                    [1, 2, 3, 1, 2, 3, 1, 2, 2, 3]])\n",
    "\n",
    "print(data)"
   ]
  },
  {
   "cell_type": "code",
   "execution_count": 100,
   "metadata": {},
   "outputs": [
    {
     "name": "stdout",
     "output_type": "stream",
     "text": [
      "1   -0.708243\n",
      "2   -0.340311\n",
      "3   -0.707304\n",
      "dtype: float64\n"
     ]
    }
   ],
   "source": [
    "print(data['b'])"
   ]
  },
  {
   "cell_type": "code",
   "execution_count": 101,
   "metadata": {},
   "outputs": [
    {
     "name": "stdout",
     "output_type": "stream",
     "text": [
      "b  1   -0.708243\n",
      "   2   -0.340311\n",
      "   3   -0.707304\n",
      "c  1   -0.440737\n",
      "   2    0.918009\n",
      "d  2    0.665443\n",
      "   3   -0.148376\n",
      "dtype: float64\n"
     ]
    }
   ],
   "source": [
    "print(data['b':'d'])"
   ]
  },
  {
   "cell_type": "code",
   "execution_count": 104,
   "metadata": {},
   "outputs": [
    {
     "name": "stdout",
     "output_type": "stream",
     "text": [
      "b  1   -0.708243\n",
      "   2   -0.340311\n",
      "   3   -0.707304\n",
      "d  2    0.665443\n",
      "   3   -0.148376\n",
      "dtype: float64\n"
     ]
    }
   ],
   "source": [
    "print(data.loc[['b','d']])"
   ]
  },
  {
   "cell_type": "code",
   "execution_count": 105,
   "metadata": {},
   "outputs": [
    {
     "name": "stdout",
     "output_type": "stream",
     "text": [
      "a   -1.088147\n",
      "b   -0.340311\n",
      "c    0.918009\n",
      "d    0.665443\n",
      "dtype: float64\n"
     ]
    }
   ],
   "source": [
    "print(data[:,2])"
   ]
  },
  {
   "cell_type": "code",
   "execution_count": 107,
   "metadata": {},
   "outputs": [
    {
     "name": "stdout",
     "output_type": "stream",
     "text": [
      "a  1    0.933984\n",
      "   2   -1.088147\n",
      "   3    0.229661\n",
      "b  1   -0.708243\n",
      "   2   -0.340311\n",
      "   3   -0.707304\n",
      "c  1   -0.440737\n",
      "   2    0.918009\n",
      "d  2    0.665443\n",
      "   3   -0.148376\n",
      "dtype: float64\n"
     ]
    }
   ],
   "source": [
    "print(data.unstack().stack())"
   ]
  },
  {
   "cell_type": "code",
   "execution_count": 108,
   "metadata": {},
   "outputs": [
    {
     "name": "stdout",
     "output_type": "stream",
     "text": [
      "     Ohio     Colorado\n",
      "    Green Red    Green\n",
      "a 1     0   1        2\n",
      "  2     3   4        5\n",
      "b 1     6   7        8\n",
      "  2     9  10       11\n"
     ]
    }
   ],
   "source": [
    "frame = pd.DataFrame(np.arange(12).reshape(4,3),\n",
    "                    index = [list('aabb'), [1, 2, 1, 2]], \n",
    "                    columns = [['Ohio', 'Ohio', 'Colorado'], \n",
    "                               ['Green', 'Red', 'Green']])\n",
    "\n",
    "print(frame)"
   ]
  },
  {
   "cell_type": "code",
   "execution_count": 110,
   "metadata": {},
   "outputs": [
    {
     "name": "stdout",
     "output_type": "stream",
     "text": [
      "state      Ohio     Colorado\n",
      "color     Green Red    Green\n",
      "key1 key2                   \n",
      "a    1        0   1        2\n",
      "     2        3   4        5\n",
      "b    1        6   7        8\n",
      "     2        9  10       11\n"
     ]
    }
   ],
   "source": [
    "frame.index.names = ['key1', 'key2']\n",
    "\n",
    "frame.columns.names = ['state', 'color']\n",
    "\n",
    "print(frame)"
   ]
  },
  {
   "cell_type": "code",
   "execution_count": 113,
   "metadata": {},
   "outputs": [
    {
     "name": "stdout",
     "output_type": "stream",
     "text": [
      "color      Green  Red\n",
      "key1 key2            \n",
      "a    1         0    1\n",
      "     2         3    4\n",
      "b    1         6    7\n",
      "     2         9   10\n"
     ]
    }
   ],
   "source": [
    "print(frame['Ohio'])"
   ]
  },
  {
   "cell_type": "code",
   "execution_count": 122,
   "metadata": {},
   "outputs": [
    {
     "name": "stdout",
     "output_type": "stream",
     "text": [
      "state      Ohio     Colorado\n",
      "color     Green Red    Green\n",
      "key2 key1                   \n",
      "1    a        0   1        2\n",
      "2    a        3   4        5\n",
      "1    b        6   7        8\n",
      "2    b        9  10       11\n",
      "state      Ohio     Colorado\n",
      "color     Green Red    Green\n",
      "key1 key2                   \n",
      "a    1        0   1        2\n",
      "b    1        6   7        8\n",
      "a    2        3   4        5\n",
      "b    2        9  10       11\n",
      "state      Ohio     Colorado\n",
      "color     Green Red    Green\n",
      "key2 key1                   \n",
      "1    a        0   1        2\n",
      "     b        6   7        8\n",
      "2    a        3   4        5\n",
      "     b        9  10       11\n"
     ]
    }
   ],
   "source": [
    "print(frame.swaplevel('key1', 'key2'))\n",
    "\n",
    "print(frame.sort_index(level = 1))\n",
    "\n",
    "print(frame.swaplevel(0,1).sort_index(level = 0))\n"
   ]
  },
  {
   "cell_type": "code",
   "execution_count": 131,
   "metadata": {},
   "outputs": [
    {
     "name": "stdout",
     "output_type": "stream",
     "text": [
      "color     Green  Red    Green\n",
      "state      Ohio Ohio Colorado\n",
      "key1 key2                    \n",
      "a    1        0    1        2\n",
      "     2        3    4        5\n",
      "b    1        6    7        8\n",
      "     2        9   10       11\n"
     ]
    }
   ],
   "source": [
    "print(frame.swaplevel('state', 'color', axis = 1))"
   ]
  },
  {
   "cell_type": "code",
   "execution_count": 124,
   "metadata": {},
   "outputs": [
    {
     "name": "stdout",
     "output_type": "stream",
     "text": [
      "state  Ohio     Colorado\n",
      "color Green Red    Green\n",
      "key2                    \n",
      "1         6   8       10\n",
      "2        12  14       16\n"
     ]
    }
   ],
   "source": [
    "print(frame.sum(level = 1))"
   ]
  },
  {
   "cell_type": "code",
   "execution_count": 130,
   "metadata": {},
   "outputs": [
    {
     "name": "stdout",
     "output_type": "stream",
     "text": [
      "state      Ohio  Colorado\n",
      "key1 key2                \n",
      "a    1        1         2\n",
      "     2        7         5\n",
      "b    1       13         8\n",
      "     2       19        11\n"
     ]
    }
   ],
   "source": [
    "print(frame.sum(level = 'state', axis = 1))"
   ]
  },
  {
   "cell_type": "code",
   "execution_count": 133,
   "metadata": {},
   "outputs": [
    {
     "name": "stdout",
     "output_type": "stream",
     "text": [
      "   a  b    c  d\n",
      "0  0  7  one  0\n",
      "1  1  6  one  1\n",
      "2  2  5  one  2\n",
      "3  3  4  two  0\n",
      "4  4  3  two  1\n",
      "5  5  2  two  2\n",
      "6  6  1  two  3\n"
     ]
    }
   ],
   "source": [
    "frame = pd.DataFrame({'a': range(7), 'b': range(7, 0, -1), \n",
    "            'c': ['one', 'one', 'one', 'two', 'two', 'two', 'two'], \n",
    "            'd': [0, 1, 2, 0, 1, 2, 3]})\n",
    "\n",
    "print(frame)"
   ]
  },
  {
   "cell_type": "code",
   "execution_count": 135,
   "metadata": {},
   "outputs": [
    {
     "name": "stdout",
     "output_type": "stream",
     "text": [
      "       a  d\n",
      "c   b      \n",
      "one 7  0  0\n",
      "    6  1  1\n",
      "    5  2  2\n",
      "two 4  3  0\n",
      "    3  4  1\n",
      "    2  5  2\n",
      "    1  6  3\n"
     ]
    }
   ],
   "source": [
    "frame1 = frame.set_index(['b', 'c'])\n",
    "\n",
    "print(frame1.swaplevel('b','c'))"
   ]
  },
  {
   "cell_type": "code",
   "execution_count": 136,
   "metadata": {},
   "outputs": [
    {
     "name": "stdout",
     "output_type": "stream",
     "text": [
      "   b    c  a  d\n",
      "0  7  one  0  0\n",
      "1  6  one  1  1\n",
      "2  5  one  2  2\n",
      "3  4  two  3  0\n",
      "4  3  two  4  1\n",
      "5  2  two  5  2\n",
      "6  1  two  6  3\n"
     ]
    }
   ],
   "source": [
    "print(frame1.reset_index())"
   ]
  },
  {
   "cell_type": "code",
   "execution_count": 140,
   "metadata": {},
   "outputs": [
    {
     "name": "stdout",
     "output_type": "stream",
     "text": [
      "0    0\n",
      "1    1\n",
      "2    2\n",
      "dtype: int32\n",
      "0    0\n",
      "dtype: int32\n"
     ]
    }
   ],
   "source": [
    "ser = pd.Series(np.arange(3))\n",
    "\n",
    "print(ser)\n",
    "\n",
    "print(ser[:1])"
   ]
  },
  {
   "cell_type": "code",
   "execution_count": 142,
   "metadata": {},
   "outputs": [
    {
     "name": "stdout",
     "output_type": "stream",
     "text": [
      "   0  1\n",
      "2  0  1\n",
      "0  2  3\n",
      "1  4  5\n",
      "0    0\n",
      "1    1\n",
      "Name: 2, dtype: int32\n"
     ]
    }
   ],
   "source": [
    "frame = pd.DataFrame(np.arange(6).reshape(3, 2), index=[2, 0, 1])\n",
    "\n",
    "print(frame)\n",
    "\n",
    "print(frame.iloc[0])"
   ]
  },
  {
   "cell_type": "code",
   "execution_count": 161,
   "metadata": {},
   "outputs": [
    {
     "name": "stdout",
     "output_type": "stream",
     "text": [
      "<class 'pandas.core.panel.Panel'>\n",
      "Dimensions: 4 (items) x 800 (major_axis) x 6 (minor_axis)\n",
      "Items axis: AAPL to DELL\n",
      "Major_axis axis: 2016-01-04 00:00:00 to 2019-03-08 00:00:00\n",
      "Minor_axis axis: High to Adj Close\n"
     ]
    }
   ],
   "source": [
    "import pandas_datareader.data as web\n",
    "import datetime\n",
    "\n",
    "# start = datetime.datetime(2016, 1, 1) # or \n",
    "start = '1/1/2016'\n",
    "end = datetime.date.today()\n",
    "\n",
    "pdata = pd.Panel(dict((stk, web.get_data_yahoo(stk, start, end))\n",
    "                       for stk in ['AAPL', 'GOOG', 'MSFT', 'DELL']))\n",
    "\n",
    "print(pdata)"
   ]
  },
  {
   "cell_type": "code",
   "execution_count": 162,
   "metadata": {},
   "outputs": [
    {
     "name": "stdout",
     "output_type": "stream",
     "text": [
      "                  High         Low        Open       Close       Volume  \\\n",
      "Date                                                                      \n",
      "2016-01-04  105.370003  102.000000  102.610001  105.349998   67649400.0   \n",
      "2016-01-05  105.849998  102.410004  105.750000  102.709999   55791000.0   \n",
      "2016-01-06  102.370003   99.870003  100.559998  100.699997   68457400.0   \n",
      "2016-01-07  100.129997   96.430000   98.680000   96.449997   81094400.0   \n",
      "2016-01-08   99.110001   96.760002   98.550003   96.959999   70798000.0   \n",
      "2016-01-11   99.059998   97.339996   98.970001   98.529999   49739400.0   \n",
      "2016-01-12  100.690002   98.839996  100.550003   99.959999   49154200.0   \n",
      "2016-01-13  101.190002   97.300003  100.320000   97.389999   62439600.0   \n",
      "2016-01-14  100.480003   95.739998   97.959999   99.519997   63170100.0   \n",
      "2016-01-15   97.709999   95.360001   96.199997   97.129997   79010000.0   \n",
      "2016-01-19   98.650002   95.500000   98.410004   96.660004   53087700.0   \n",
      "2016-01-20   98.190002   93.419998   95.099998   96.790001   72334400.0   \n",
      "2016-01-21   97.879997   94.940002   97.059998   96.300003   52161500.0   \n",
      "2016-01-22  101.459999   98.370003   98.629997  101.419998   65800500.0   \n",
      "2016-01-25  101.529999   99.209999  101.519997   99.440002   51794500.0   \n",
      "2016-01-26  100.879997   98.070000   99.930000   99.989998   75077000.0   \n",
      "2016-01-27   96.629997   93.339996   96.040001   93.419998  133369700.0   \n",
      "2016-01-28   94.519997   92.389999   93.790001   94.089996   55678800.0   \n",
      "2016-01-29   97.339996   94.349998   94.790001   97.339996   64416500.0   \n",
      "2016-02-01   96.709999   95.400002   96.470001   96.430000   40943500.0   \n",
      "2016-02-02   96.040001   94.279999   95.419998   94.480003   37357200.0   \n",
      "2016-02-03   96.839996   94.080002   95.000000   96.349998   45964300.0   \n",
      "2016-02-04   97.330002   95.190002   95.860001   96.599998   46471700.0   \n",
      "2016-02-05   96.919998   93.690002   96.519997   94.019997   46418100.0   \n",
      "2016-02-08   95.699997   93.040001   93.129997   95.010002   54021400.0   \n",
      "2016-02-09   95.940002   93.930000   94.290001   94.989998   44331200.0   \n",
      "2016-02-10   96.349998   94.099998   95.919998   94.269997   42343600.0   \n",
      "2016-02-11   94.720001   92.589996   93.790001   93.699997   50074700.0   \n",
      "2016-02-12   94.500000   93.010002   94.190002   93.989998   40351400.0   \n",
      "2016-02-16   96.849998   94.610001   95.019997   96.639999   49057900.0   \n",
      "...                ...         ...         ...         ...          ...   \n",
      "2019-01-25  158.130005  154.320007  155.479996  157.759995   33535500.0   \n",
      "2019-01-28  156.330002  153.660004  155.789993  156.300003   26192100.0   \n",
      "2019-01-29  158.130005  154.110001  156.250000  154.679993   41587200.0   \n",
      "2019-01-30  166.149994  160.229996  163.250000  165.250000   61109800.0   \n",
      "2019-01-31  169.000000  164.559998  166.110001  166.440002   40739600.0   \n",
      "2019-02-01  168.979996  165.929993  166.960007  166.520004   32668100.0   \n",
      "2019-02-04  171.660004  167.279999  167.410004  171.250000   31495500.0   \n",
      "2019-02-05  175.080002  172.350006  172.860001  174.179993   36101600.0   \n",
      "2019-02-06  175.570007  172.850006  174.649994  174.240005   28239600.0   \n",
      "2019-02-07  173.940002  170.339996  172.399994  170.940002   31741700.0   \n",
      "2019-02-08  170.660004  168.419998  168.990005  170.410004   23820000.0   \n",
      "2019-02-11  171.210007  169.250000  171.050003  169.429993   20993400.0   \n",
      "2019-02-12  171.000000  169.699997  170.100006  170.889999   22283500.0   \n",
      "2019-02-13  172.479996  169.919998  171.389999  170.179993   22490200.0   \n",
      "2019-02-14  171.259995  169.380005  169.710007  170.800003   21835700.0   \n",
      "2019-02-15  171.699997  169.750000  171.250000  170.419998   24626800.0   \n",
      "2019-02-19  171.440002  169.490005  169.710007  170.929993   18972800.0   \n",
      "2019-02-20  173.320007  170.990005  171.190002  172.029999   26114400.0   \n",
      "2019-02-21  172.369995  170.300003  171.800003  171.059998   17249700.0   \n",
      "2019-02-22  173.000000  171.380005  171.580002  172.970001   18913200.0   \n",
      "2019-02-25  175.869995  173.949997  174.160004  174.229996   21873400.0   \n",
      "2019-02-26  175.300003  173.169998  173.710007  174.330002   17070200.0   \n",
      "2019-02-27  175.000000  172.729996  173.210007  174.869995   27835400.0   \n",
      "2019-02-28  174.910004  172.919998  174.320007  173.149994   28215400.0   \n",
      "2019-03-01  175.149994  172.889999  174.279999  174.970001   25886200.0   \n",
      "2019-03-04  177.750000  173.970001  175.690002  175.850006   27436200.0   \n",
      "2019-03-05  176.000000  174.539993  175.940002  175.529999   19737400.0   \n",
      "2019-03-06  175.490005  173.940002  174.669998  174.520004   20810400.0   \n",
      "2019-03-07  174.440002  172.020004  173.869995  172.500000   24796400.0   \n",
      "2019-03-08  173.070007  169.500000  170.320007  172.910004   23989900.0   \n",
      "\n",
      "             Adj Close  \n",
      "Date                    \n",
      "2016-01-04   99.499107  \n",
      "2016-01-05   97.005730  \n",
      "2016-01-06   95.107361  \n",
      "2016-01-07   91.093399  \n",
      "2016-01-08   91.575073  \n",
      "2016-01-11   93.057869  \n",
      "2016-01-12   94.408447  \n",
      "2016-01-13   91.981194  \n",
      "2016-01-14   93.992889  \n",
      "2016-01-15   91.735634  \n",
      "2016-01-19   91.291718  \n",
      "2016-01-20   91.414520  \n",
      "2016-01-21   90.951736  \n",
      "2016-01-22   95.787369  \n",
      "2016-01-25   93.917336  \n",
      "2016-01-26   94.436790  \n",
      "2016-01-27   88.231659  \n",
      "2016-01-28   88.864449  \n",
      "2016-01-29   91.933960  \n",
      "2016-02-01   91.074501  \n",
      "2016-02-02   89.232796  \n",
      "2016-02-03   90.998932  \n",
      "2016-02-04   91.730110  \n",
      "2016-02-05   89.280190  \n",
      "2016-02-08   90.220276  \n",
      "2016-02-09   90.201294  \n",
      "2016-02-10   89.517586  \n",
      "2016-02-11   88.976318  \n",
      "2016-02-12   89.251686  \n",
      "2016-02-16   91.768089  \n",
      "...                ...  \n",
      "2019-01-25  157.086288  \n",
      "2019-01-28  155.632523  \n",
      "2019-01-29  154.019440  \n",
      "2019-01-30  164.544296  \n",
      "2019-01-31  165.729218  \n",
      "2019-02-01  165.808884  \n",
      "2019-02-04  170.518677  \n",
      "2019-02-05  173.436157  \n",
      "2019-02-06  173.495911  \n",
      "2019-02-07  170.210007  \n",
      "2019-02-08  170.410004  \n",
      "2019-02-11  169.429993  \n",
      "2019-02-12  170.889999  \n",
      "2019-02-13  170.179993  \n",
      "2019-02-14  170.800003  \n",
      "2019-02-15  170.419998  \n",
      "2019-02-19  170.929993  \n",
      "2019-02-20  172.029999  \n",
      "2019-02-21  171.059998  \n",
      "2019-02-22  172.970001  \n",
      "2019-02-25  174.229996  \n",
      "2019-02-26  174.330002  \n",
      "2019-02-27  174.869995  \n",
      "2019-02-28  173.149994  \n",
      "2019-03-01  174.970001  \n",
      "2019-03-04  175.850006  \n",
      "2019-03-05  175.529999  \n",
      "2019-03-06  174.520004  \n",
      "2019-03-07  172.500000  \n",
      "2019-03-08  172.910004  \n",
      "\n",
      "[800 rows x 6 columns]\n"
     ]
    }
   ],
   "source": [
    "import datetime\n",
    "\n",
    "start = datetime.datetime(2016, 1, 1) # or start = '1/1/2016'\n",
    "end = datetime.date.today()\n",
    "prices = web.DataReader('AAPL', 'yahoo', start, end)\n",
    "\n",
    "print(prices)"
   ]
  },
  {
   "cell_type": "code",
   "execution_count": 165,
   "metadata": {},
   "outputs": [
    {
     "name": "stdout",
     "output_type": "stream",
     "text": [
      "                              AAPL          GOOG          MSFT          DELL\n",
      "Date       minor                                                            \n",
      "2017-05-30 High       1.544300e+02  9.762000e+02  7.041000e+01  3.839424e+01\n",
      "           Low        1.533300e+02  9.694900e+02  6.977000e+01  3.796235e+01\n",
      "           Open       1.534200e+02  9.703100e+02  6.979000e+01  3.809524e+01\n",
      "           Close      1.536700e+02  9.758800e+02  7.041000e+01  3.806755e+01\n",
      "           Volume     2.012690e+07  1.466700e+06  1.707280e+07  4.089900e+06\n",
      "           Adj Close  1.496230e+02  9.758800e+02  6.820973e+01  3.806755e+01\n",
      "2017-05-31 High       1.541700e+02  9.792700e+02  7.074000e+01  3.842193e+01\n",
      "           Low        1.523800e+02  9.601800e+02  6.981000e+01  3.753045e+01\n",
      "           Open       1.539700e+02  9.750200e+02  7.053000e+01  3.823367e+01\n",
      "           Close      1.527600e+02  9.648600e+02  6.984000e+01  3.842193e+01\n",
      "           Volume     2.445120e+07  2.448100e+06  3.043640e+07  1.697800e+07\n",
      "           Adj Close  1.487369e+02  9.648600e+02  6.765755e+01  3.842193e+01\n",
      "2017-06-01 High       1.533300e+02  9.715000e+02  7.061000e+01  3.860465e+01\n",
      "           Low        1.522200e+02  9.600100e+02  6.945000e+01  3.805094e+01\n",
      "           Open       1.531700e+02  9.689500e+02  7.024000e+01  3.848283e+01\n",
      "           Close      1.531800e+02  9.669500e+02  7.010000e+01  3.836102e+01\n",
      "           Volume     1.640410e+07  1.410500e+06  2.160360e+07  4.430800e+06\n",
      "           Adj Close  1.491458e+02  9.669500e+02  6.790942e+01  3.836102e+01\n",
      "2017-06-02 High       1.554500e+02  9.758800e+02  7.186000e+01  3.822813e+01\n",
      "           Low        1.528900e+02  9.660000e+02  7.024000e+01  3.691030e+01\n",
      "           Open       1.535800e+02  9.694600e+02  7.044000e+01  3.787929e+01\n",
      "           Close      1.554500e+02  9.756000e+02  7.176000e+01  3.779070e+01\n",
      "           Volume     2.777070e+07  1.751000e+06  3.477030e+07  4.046200e+06\n",
      "           Adj Close  1.513561e+02  9.756000e+02  6.951756e+01  3.779070e+01\n",
      "2017-06-05 High       1.544500e+02  9.869100e+02  7.289000e+01  3.776301e+01\n",
      "           Low        1.534600e+02  9.751000e+02  7.181000e+01  3.677741e+01\n",
      "           Open       1.543400e+02  9.765500e+02  7.197000e+01  3.772979e+01\n",
      "           Close      1.539300e+02  9.836800e+02  7.228000e+01  3.688261e+01\n",
      "           Volume     2.533170e+07  1.252100e+06  3.331680e+07  4.618500e+06\n",
      "           Adj Close  1.498761e+02  9.836800e+02  7.002129e+01  3.688261e+01\n",
      "...                            ...           ...           ...           ...\n",
      "2019-03-04 High       1.777500e+02  1.158280e+03  1.132500e+02  5.714000e+01\n",
      "           Low        1.739700e+02  1.130690e+03  1.108000e+02  5.450000e+01\n",
      "           Open       1.756900e+02  1.146990e+03  1.130200e+02  5.707000e+01\n",
      "           Close      1.758500e+02  1.147800e+03  1.122600e+02  5.534000e+01\n",
      "           Volume     2.743620e+07  1.446000e+06  2.660800e+07  2.978200e+06\n",
      "           Adj Close  1.758500e+02  1.147800e+03  1.122600e+02  5.534000e+01\n",
      "2019-03-05 High       1.760000e+02  1.169610e+03  1.123900e+02  5.584000e+01\n",
      "           Low        1.745400e+02  1.146195e+03  1.112300e+02  5.446000e+01\n",
      "           Open       1.759400e+02  1.150060e+03  1.122500e+02  5.525000e+01\n",
      "           Close      1.755300e+02  1.162030e+03  1.117000e+02  5.512000e+01\n",
      "           Volume     1.973740e+07  1.443200e+06  1.953830e+07  2.788800e+06\n",
      "           Adj Close  1.755300e+02  1.162030e+03  1.117000e+02  5.512000e+01\n",
      "2019-03-06 High       1.754900e+02  1.167566e+03  1.126600e+02  5.482000e+01\n",
      "           Low        1.739400e+02  1.155490e+03  1.114300e+02  5.285000e+01\n",
      "           Open       1.746700e+02  1.162490e+03  1.118700e+02  5.482000e+01\n",
      "           Close      1.745200e+02  1.157860e+03  1.117500e+02  5.373000e+01\n",
      "           Volume     2.081040e+07  1.099300e+06  1.768700e+07  2.515300e+06\n",
      "           Adj Close  1.745200e+02  1.157860e+03  1.117500e+02  5.373000e+01\n",
      "2019-03-07 High       1.744400e+02  1.156755e+03  1.115500e+02  5.441000e+01\n",
      "           Low        1.720200e+02  1.134910e+03  1.098700e+02  5.282000e+01\n",
      "           Open       1.738700e+02  1.155720e+03  1.114000e+02  5.362000e+01\n",
      "           Close      1.725000e+02  1.143300e+03  1.103900e+02  5.313000e+01\n",
      "           Volume     2.479640e+07  1.166600e+06  2.533900e+07  1.851100e+06\n",
      "           Adj Close  1.725000e+02  1.143300e+03  1.103900e+02  5.313000e+01\n",
      "2019-03-08 High       1.730700e+02  1.147080e+03  1.107100e+02  5.279000e+01\n",
      "           Low        1.695000e+02  1.123300e+03  1.088000e+02  5.158000e+01\n",
      "           Open       1.703200e+02  1.126730e+03  1.091600e+02  5.258000e+01\n",
      "           Close      1.729100e+02  1.142320e+03  1.105100e+02  5.235000e+01\n",
      "           Volume     2.398990e+07  1.212400e+06  2.281090e+07  1.908400e+06\n",
      "           Adj Close  1.729100e+02  1.142320e+03  1.105100e+02  5.235000e+01\n",
      "\n",
      "[2682 rows x 4 columns]\n"
     ]
    },
    {
     "name": "stderr",
     "output_type": "stream",
     "text": [
      "D:\\Python\\Conda\\lib\\site-packages\\pandas\\core\\indexing.py:150: FutureWarning: \n",
      "Panel is deprecated and will be removed in a future version.\n",
      "The recommended way to represent these types of 3-dimensional data are with a MultiIndex on a DataFrame, via the Panel.to_frame() method\n",
      "Alternatively, you can use the xarray package http://xarray.pydata.org/en/stable/.\n",
      "Pandas provides a `.to_xarray()` method to help automate this conversion.\n",
      "\n",
      "  return self.obj._slice(obj, axis=axis, kind=kind)\n"
     ]
    }
   ],
   "source": [
    "time = '5/30/2017'\n",
    "\n",
    "stacked = pdata.loc[:,time:,:].to_frame()\n",
    "\n",
    "print(stacked)"
   ]
  },
  {
   "cell_type": "code",
   "execution_count": null,
   "metadata": {},
   "outputs": [],
   "source": []
  }
 ],
 "metadata": {
  "kernelspec": {
   "display_name": "Python 3",
   "language": "python",
   "name": "python3"
  },
  "language_info": {
   "codemirror_mode": {
    "name": "ipython",
    "version": 3
   },
   "file_extension": ".py",
   "mimetype": "text/x-python",
   "name": "python",
   "nbconvert_exporter": "python",
   "pygments_lexer": "ipython3",
   "version": "3.7.1"
  }
 },
 "nbformat": 4,
 "nbformat_minor": 2
}
